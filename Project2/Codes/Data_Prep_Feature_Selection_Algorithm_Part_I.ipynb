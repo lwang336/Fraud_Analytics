{
  "nbformat": 4,
  "nbformat_minor": 0,
  "metadata": {
    "colab": {
      "name": "Data_Prep_Feature_Selection_Algorithm_Part_I.ipynb",
      "provenance": [],
      "machine_shape": "hm"
    },
    "kernelspec": {
      "display_name": "Python 3",
      "language": "python",
      "name": "python3"
    },
    "language_info": {
      "codemirror_mode": {
        "name": "ipython",
        "version": 3
      },
      "file_extension": ".py",
      "mimetype": "text/x-python",
      "name": "python",
      "nbconvert_exporter": "python",
      "pygments_lexer": "ipython3",
      "version": "3.7.4"
    }
  },
  "cells": [
    {
      "cell_type": "code",
      "metadata": {
        "colab_type": "code",
        "id": "rOG9auc513f9",
        "colab": {}
      },
      "source": [
        "import pandas as pd\n",
        "import numpy as np"
      ],
      "execution_count": 0,
      "outputs": []
    },
    {
      "cell_type": "code",
      "metadata": {
        "id": "cKZSblZAnUQT",
        "colab_type": "code",
        "outputId": "f48df6d7-5c3f-4dc1-bf24-ad83e3c29e4a",
        "colab": {
          "base_uri": "https://localhost:8080/",
          "height": 33
        }
      },
      "source": [
        "from google.colab import drive\n",
        "drive.mount('/content/drive')"
      ],
      "execution_count": 0,
      "outputs": [
        {
          "output_type": "stream",
          "text": [
            "Drive already mounted at /content/drive; to attempt to forcibly remount, call drive.mount(\"/content/drive\", force_remount=True).\n"
          ],
          "name": "stdout"
        }
      ]
    },
    {
      "cell_type": "markdown",
      "metadata": {
        "id": "RMbr3JmnXhnH",
        "colab_type": "text"
      },
      "source": [
        "#### Data Preperation"
      ]
    },
    {
      "cell_type": "code",
      "metadata": {
        "id": "Dbd2_NS5nQFX",
        "colab_type": "code",
        "colab": {}
      },
      "source": [
        "import scipy.stats as sps\n",
        "from scipy.stats import zscore"
      ],
      "execution_count": 0,
      "outputs": []
    },
    {
      "cell_type": "code",
      "metadata": {
        "colab_type": "code",
        "id": "ksgC98zb1-Us",
        "colab": {}
      },
      "source": [
        "finaldf=pd.read_csv('/content/drive/Shared drives/DSO562 Fraud Project/Project2/candidates_v2.csv')"
      ],
      "execution_count": 0,
      "outputs": []
    },
    {
      "cell_type": "code",
      "metadata": {
        "colab_type": "code",
        "id": "gZUQ-LQ_2tEE",
        "colab": {}
      },
      "source": [
        "mydata=finaldf[finaldf['date']>\"2016-01-14\"].copy()"
      ],
      "execution_count": 0,
      "outputs": []
    },
    {
      "cell_type": "code",
      "metadata": {
        "id": "5_gN9euwnQFf",
        "colab_type": "code",
        "colab": {}
      },
      "source": [
        "mydatacopy=mydata.copy()"
      ],
      "execution_count": 0,
      "outputs": []
    },
    {
      "cell_type": "code",
      "metadata": {
        "id": "PF3PuuGonQFi",
        "colab_type": "code",
        "colab": {}
      },
      "source": [
        "mydata=mydata.drop(columns=['Unnamed: 0','record','date'])"
      ],
      "execution_count": 0,
      "outputs": []
    },
    {
      "cell_type": "code",
      "metadata": {
        "id": "O1E-_34-nQFl",
        "colab_type": "code",
        "outputId": "80a368fc-69ad-4e96-b6c9-3ef368d94319",
        "colab": {
          "base_uri": "https://localhost:8080/",
          "height": 212
        }
      },
      "source": [
        "mydata['address_days_since_last_seen']"
      ],
      "execution_count": 0,
      "outputs": [
        {
          "output_type": "execute_result",
          "data": {
            "text/plain": [
              "38511       0.0\n",
              "38512       0.0\n",
              "38513       0.0\n",
              "38514       0.0\n",
              "38515       0.0\n",
              "          ...  \n",
              "999995      0.0\n",
              "999996      0.0\n",
              "999997      0.0\n",
              "999998      0.0\n",
              "999999    319.0\n",
              "Name: address_days_since_last_seen, Length: 961489, dtype: float64"
            ]
          },
          "metadata": {
            "tags": []
          },
          "execution_count": 10
        }
      ]
    },
    {
      "cell_type": "code",
      "metadata": {
        "id": "Q8yJnVZinQFo",
        "colab_type": "code",
        "outputId": "dcf85612-8507-4e6b-d21f-84f9e72df281",
        "colab": {
          "base_uri": "https://localhost:8080/",
          "height": 212
        }
      },
      "source": [
        "mydata['fulladdress_days_since_last_seen']"
      ],
      "execution_count": 0,
      "outputs": [
        {
          "output_type": "execute_result",
          "data": {
            "text/plain": [
              "38511       0.0\n",
              "38512       0.0\n",
              "38513       0.0\n",
              "38514       0.0\n",
              "38515       0.0\n",
              "          ...  \n",
              "999995      0.0\n",
              "999996      0.0\n",
              "999997      0.0\n",
              "999998      0.0\n",
              "999999    319.0\n",
              "Name: fulladdress_days_since_last_seen, Length: 961489, dtype: float64"
            ]
          },
          "metadata": {
            "tags": []
          },
          "execution_count": 11
        }
      ]
    },
    {
      "cell_type": "code",
      "metadata": {
        "colab_type": "code",
        "id": "JM6XfhSJ2tgD",
        "colab": {}
      },
      "source": [
        "mydata['random']=np.random.uniform(size = len(mydata))"
      ],
      "execution_count": 0,
      "outputs": []
    },
    {
      "cell_type": "code",
      "metadata": {
        "colab_type": "code",
        "id": "8-MKDXL621Vr",
        "scrolled": true,
        "colab": {}
      },
      "source": [
        "import scipy.stats as sps\n",
        "from sklearn.preprocessing import StandardScaler\n",
        "scaler = StandardScaler()\n"
      ],
      "execution_count": 0,
      "outputs": []
    },
    {
      "cell_type": "code",
      "metadata": {
        "id": "7IHAwI4DokYl",
        "colab_type": "code",
        "colab": {}
      },
      "source": [
        "scaled_data = scaler.fit_transform(mydata)"
      ],
      "execution_count": 0,
      "outputs": []
    },
    {
      "cell_type": "code",
      "metadata": {
        "id": "6Ym8wO9jnQFx",
        "colab_type": "code",
        "colab": {}
      },
      "source": [
        "names = mydata.columns\n",
        "scaled_data=pd.DataFrame(scaled_data, columns=names)"
      ],
      "execution_count": 0,
      "outputs": []
    },
    {
      "cell_type": "code",
      "metadata": {
        "id": "mNVkohVhnQF0",
        "colab_type": "code",
        "outputId": "334df1fb-aca0-4fb8-d078-63750e97f322",
        "colab": {
          "base_uri": "https://localhost:8080/",
          "height": 163
        }
      },
      "source": [
        "scaled_data['ssnfname_nunique3_ssn'].describe()"
      ],
      "execution_count": 0,
      "outputs": [
        {
          "output_type": "execute_result",
          "data": {
            "text/plain": [
              "count    961489.0\n",
              "mean          0.0\n",
              "std           0.0\n",
              "min           0.0\n",
              "25%           0.0\n",
              "50%           0.0\n",
              "75%           0.0\n",
              "max           0.0\n",
              "Name: ssnfname_nunique3_ssn, dtype: float64"
            ]
          },
          "metadata": {
            "tags": []
          },
          "execution_count": 16
        }
      ]
    },
    {
      "cell_type": "code",
      "metadata": {
        "scrolled": true,
        "id": "CENhe-XTnQF2",
        "colab_type": "code",
        "colab": {}
      },
      "source": [
        "zmydata=scaled_data"
      ],
      "execution_count": 0,
      "outputs": []
    },
    {
      "cell_type": "code",
      "metadata": {
        "id": "62DNoJRdnQF4",
        "colab_type": "code",
        "outputId": "a2970659-5a75-4a6d-b19a-793f9e80a47a",
        "colab": {
          "base_uri": "https://localhost:8080/",
          "height": 411
        }
      },
      "source": [
        "zmydata.isna()"
      ],
      "execution_count": 0,
      "outputs": [
        {
          "output_type": "execute_result",
          "data": {
            "text/html": [
              "<div>\n",
              "<style scoped>\n",
              "    .dataframe tbody tr th:only-of-type {\n",
              "        vertical-align: middle;\n",
              "    }\n",
              "\n",
              "    .dataframe tbody tr th {\n",
              "        vertical-align: top;\n",
              "    }\n",
              "\n",
              "    .dataframe thead th {\n",
              "        text-align: right;\n",
              "    }\n",
              "</style>\n",
              "<table border=\"1\" class=\"dataframe\">\n",
              "  <thead>\n",
              "    <tr style=\"text-align: right;\">\n",
              "      <th></th>\n",
              "      <th>fraud_label</th>\n",
              "      <th>ssn_count0_date</th>\n",
              "      <th>ssn_count1_date</th>\n",
              "      <th>ssn_count3_date</th>\n",
              "      <th>ssn_count7_date</th>\n",
              "      <th>ssn_count14_date</th>\n",
              "      <th>ssn_count30_date</th>\n",
              "      <th>ssn_count180_date</th>\n",
              "      <th>address_count0_date</th>\n",
              "      <th>address_count1_date</th>\n",
              "      <th>address_count3_date</th>\n",
              "      <th>address_count7_date</th>\n",
              "      <th>address_count14_date</th>\n",
              "      <th>address_count30_date</th>\n",
              "      <th>address_count180_date</th>\n",
              "      <th>dob_count0_date</th>\n",
              "      <th>dob_count1_date</th>\n",
              "      <th>dob_count3_date</th>\n",
              "      <th>dob_count7_date</th>\n",
              "      <th>dob_count14_date</th>\n",
              "      <th>dob_count30_date</th>\n",
              "      <th>dob_count180_date</th>\n",
              "      <th>homephone_count0_date</th>\n",
              "      <th>homephone_count1_date</th>\n",
              "      <th>homephone_count3_date</th>\n",
              "      <th>homephone_count7_date</th>\n",
              "      <th>homephone_count14_date</th>\n",
              "      <th>homephone_count30_date</th>\n",
              "      <th>homephone_count180_date</th>\n",
              "      <th>namedob_count0_date</th>\n",
              "      <th>namedob_count1_date</th>\n",
              "      <th>namedob_count3_date</th>\n",
              "      <th>namedob_count7_date</th>\n",
              "      <th>namedob_count14_date</th>\n",
              "      <th>namedob_count30_date</th>\n",
              "      <th>namedob_count180_date</th>\n",
              "      <th>fulladdress_count0_date</th>\n",
              "      <th>fulladdress_count1_date</th>\n",
              "      <th>fulladdress_count3_date</th>\n",
              "      <th>fulladdress_count7_date</th>\n",
              "      <th>...</th>\n",
              "      <th>dob_nunique1_ssn</th>\n",
              "      <th>dob_nunique1_homephone</th>\n",
              "      <th>dob_nunique1_ssnfname</th>\n",
              "      <th>dob_nunique1_fulladdress</th>\n",
              "      <th>dob_nunique3_ssn</th>\n",
              "      <th>dob_nunique3_homephone</th>\n",
              "      <th>dob_nunique3_ssnfname</th>\n",
              "      <th>dob_nunique3_fulladdress</th>\n",
              "      <th>fulladdress_nunique1_ssn</th>\n",
              "      <th>fulladdress_nunique1_homephone</th>\n",
              "      <th>fulladdress_nunique1_ssnfname</th>\n",
              "      <th>fulladdress_nunique1_dob</th>\n",
              "      <th>fulladdress_nunique3_ssn</th>\n",
              "      <th>fulladdress_nunique3_homephone</th>\n",
              "      <th>fulladdress_nunique3_ssnfname</th>\n",
              "      <th>fulladdress_nunique3_dob</th>\n",
              "      <th>ssn_days_since_last_seen</th>\n",
              "      <th>address_days_since_last_seen</th>\n",
              "      <th>dob_days_since_last_seen</th>\n",
              "      <th>homephone_days_since_last_seen</th>\n",
              "      <th>namedob_days_since_last_seen</th>\n",
              "      <th>fulladdress_days_since_last_seen</th>\n",
              "      <th>ssnfname_days_since_last_seen</th>\n",
              "      <th>ssnlname_days_since_last_seen</th>\n",
              "      <th>ssnfullname_days_since_last_seen</th>\n",
              "      <th>ssnaddress_days_since_last_seen</th>\n",
              "      <th>ssnzip5_days_since_last_seen</th>\n",
              "      <th>ssndob_days_since_last_seen</th>\n",
              "      <th>ssnhomephone_days_since_last_seen</th>\n",
              "      <th>ssnnamedob_days_since_last_seen</th>\n",
              "      <th>ssnfulladdress_days_since_last_seen</th>\n",
              "      <th>namehomephone_days_since_last_seen</th>\n",
              "      <th>namefulladdress_days_since_last_seen</th>\n",
              "      <th>fulladdressdob_days_since_last_seen</th>\n",
              "      <th>fulladdresshomephone_days_since_last_seen</th>\n",
              "      <th>fulladdressnamedob_days_since_last_seen</th>\n",
              "      <th>dobhomephone_days_since_last_seen</th>\n",
              "      <th>homephonenamedob_days_since_last_seen</th>\n",
              "      <th>dayofweek_risk</th>\n",
              "      <th>random</th>\n",
              "    </tr>\n",
              "  </thead>\n",
              "  <tbody>\n",
              "    <tr>\n",
              "      <th>0</th>\n",
              "      <td>False</td>\n",
              "      <td>False</td>\n",
              "      <td>False</td>\n",
              "      <td>False</td>\n",
              "      <td>False</td>\n",
              "      <td>False</td>\n",
              "      <td>False</td>\n",
              "      <td>False</td>\n",
              "      <td>False</td>\n",
              "      <td>False</td>\n",
              "      <td>False</td>\n",
              "      <td>False</td>\n",
              "      <td>False</td>\n",
              "      <td>False</td>\n",
              "      <td>False</td>\n",
              "      <td>False</td>\n",
              "      <td>False</td>\n",
              "      <td>False</td>\n",
              "      <td>False</td>\n",
              "      <td>False</td>\n",
              "      <td>False</td>\n",
              "      <td>False</td>\n",
              "      <td>False</td>\n",
              "      <td>False</td>\n",
              "      <td>False</td>\n",
              "      <td>False</td>\n",
              "      <td>False</td>\n",
              "      <td>False</td>\n",
              "      <td>False</td>\n",
              "      <td>False</td>\n",
              "      <td>False</td>\n",
              "      <td>False</td>\n",
              "      <td>False</td>\n",
              "      <td>False</td>\n",
              "      <td>False</td>\n",
              "      <td>False</td>\n",
              "      <td>False</td>\n",
              "      <td>False</td>\n",
              "      <td>False</td>\n",
              "      <td>False</td>\n",
              "      <td>...</td>\n",
              "      <td>False</td>\n",
              "      <td>False</td>\n",
              "      <td>False</td>\n",
              "      <td>False</td>\n",
              "      <td>False</td>\n",
              "      <td>False</td>\n",
              "      <td>False</td>\n",
              "      <td>False</td>\n",
              "      <td>False</td>\n",
              "      <td>False</td>\n",
              "      <td>False</td>\n",
              "      <td>False</td>\n",
              "      <td>False</td>\n",
              "      <td>False</td>\n",
              "      <td>False</td>\n",
              "      <td>False</td>\n",
              "      <td>False</td>\n",
              "      <td>False</td>\n",
              "      <td>False</td>\n",
              "      <td>False</td>\n",
              "      <td>False</td>\n",
              "      <td>False</td>\n",
              "      <td>False</td>\n",
              "      <td>False</td>\n",
              "      <td>False</td>\n",
              "      <td>False</td>\n",
              "      <td>False</td>\n",
              "      <td>False</td>\n",
              "      <td>False</td>\n",
              "      <td>False</td>\n",
              "      <td>False</td>\n",
              "      <td>False</td>\n",
              "      <td>False</td>\n",
              "      <td>False</td>\n",
              "      <td>False</td>\n",
              "      <td>False</td>\n",
              "      <td>False</td>\n",
              "      <td>False</td>\n",
              "      <td>False</td>\n",
              "      <td>False</td>\n",
              "    </tr>\n",
              "    <tr>\n",
              "      <th>1</th>\n",
              "      <td>False</td>\n",
              "      <td>False</td>\n",
              "      <td>False</td>\n",
              "      <td>False</td>\n",
              "      <td>False</td>\n",
              "      <td>False</td>\n",
              "      <td>False</td>\n",
              "      <td>False</td>\n",
              "      <td>False</td>\n",
              "      <td>False</td>\n",
              "      <td>False</td>\n",
              "      <td>False</td>\n",
              "      <td>False</td>\n",
              "      <td>False</td>\n",
              "      <td>False</td>\n",
              "      <td>False</td>\n",
              "      <td>False</td>\n",
              "      <td>False</td>\n",
              "      <td>False</td>\n",
              "      <td>False</td>\n",
              "      <td>False</td>\n",
              "      <td>False</td>\n",
              "      <td>False</td>\n",
              "      <td>False</td>\n",
              "      <td>False</td>\n",
              "      <td>False</td>\n",
              "      <td>False</td>\n",
              "      <td>False</td>\n",
              "      <td>False</td>\n",
              "      <td>False</td>\n",
              "      <td>False</td>\n",
              "      <td>False</td>\n",
              "      <td>False</td>\n",
              "      <td>False</td>\n",
              "      <td>False</td>\n",
              "      <td>False</td>\n",
              "      <td>False</td>\n",
              "      <td>False</td>\n",
              "      <td>False</td>\n",
              "      <td>False</td>\n",
              "      <td>...</td>\n",
              "      <td>False</td>\n",
              "      <td>False</td>\n",
              "      <td>False</td>\n",
              "      <td>False</td>\n",
              "      <td>False</td>\n",
              "      <td>False</td>\n",
              "      <td>False</td>\n",
              "      <td>False</td>\n",
              "      <td>False</td>\n",
              "      <td>False</td>\n",
              "      <td>False</td>\n",
              "      <td>False</td>\n",
              "      <td>False</td>\n",
              "      <td>False</td>\n",
              "      <td>False</td>\n",
              "      <td>False</td>\n",
              "      <td>False</td>\n",
              "      <td>False</td>\n",
              "      <td>False</td>\n",
              "      <td>False</td>\n",
              "      <td>False</td>\n",
              "      <td>False</td>\n",
              "      <td>False</td>\n",
              "      <td>False</td>\n",
              "      <td>False</td>\n",
              "      <td>False</td>\n",
              "      <td>False</td>\n",
              "      <td>False</td>\n",
              "      <td>False</td>\n",
              "      <td>False</td>\n",
              "      <td>False</td>\n",
              "      <td>False</td>\n",
              "      <td>False</td>\n",
              "      <td>False</td>\n",
              "      <td>False</td>\n",
              "      <td>False</td>\n",
              "      <td>False</td>\n",
              "      <td>False</td>\n",
              "      <td>False</td>\n",
              "      <td>False</td>\n",
              "    </tr>\n",
              "    <tr>\n",
              "      <th>2</th>\n",
              "      <td>False</td>\n",
              "      <td>False</td>\n",
              "      <td>False</td>\n",
              "      <td>False</td>\n",
              "      <td>False</td>\n",
              "      <td>False</td>\n",
              "      <td>False</td>\n",
              "      <td>False</td>\n",
              "      <td>False</td>\n",
              "      <td>False</td>\n",
              "      <td>False</td>\n",
              "      <td>False</td>\n",
              "      <td>False</td>\n",
              "      <td>False</td>\n",
              "      <td>False</td>\n",
              "      <td>False</td>\n",
              "      <td>False</td>\n",
              "      <td>False</td>\n",
              "      <td>False</td>\n",
              "      <td>False</td>\n",
              "      <td>False</td>\n",
              "      <td>False</td>\n",
              "      <td>False</td>\n",
              "      <td>False</td>\n",
              "      <td>False</td>\n",
              "      <td>False</td>\n",
              "      <td>False</td>\n",
              "      <td>False</td>\n",
              "      <td>False</td>\n",
              "      <td>False</td>\n",
              "      <td>False</td>\n",
              "      <td>False</td>\n",
              "      <td>False</td>\n",
              "      <td>False</td>\n",
              "      <td>False</td>\n",
              "      <td>False</td>\n",
              "      <td>False</td>\n",
              "      <td>False</td>\n",
              "      <td>False</td>\n",
              "      <td>False</td>\n",
              "      <td>...</td>\n",
              "      <td>False</td>\n",
              "      <td>False</td>\n",
              "      <td>False</td>\n",
              "      <td>False</td>\n",
              "      <td>False</td>\n",
              "      <td>False</td>\n",
              "      <td>False</td>\n",
              "      <td>False</td>\n",
              "      <td>False</td>\n",
              "      <td>False</td>\n",
              "      <td>False</td>\n",
              "      <td>False</td>\n",
              "      <td>False</td>\n",
              "      <td>False</td>\n",
              "      <td>False</td>\n",
              "      <td>False</td>\n",
              "      <td>False</td>\n",
              "      <td>False</td>\n",
              "      <td>False</td>\n",
              "      <td>False</td>\n",
              "      <td>False</td>\n",
              "      <td>False</td>\n",
              "      <td>False</td>\n",
              "      <td>False</td>\n",
              "      <td>False</td>\n",
              "      <td>False</td>\n",
              "      <td>False</td>\n",
              "      <td>False</td>\n",
              "      <td>False</td>\n",
              "      <td>False</td>\n",
              "      <td>False</td>\n",
              "      <td>False</td>\n",
              "      <td>False</td>\n",
              "      <td>False</td>\n",
              "      <td>False</td>\n",
              "      <td>False</td>\n",
              "      <td>False</td>\n",
              "      <td>False</td>\n",
              "      <td>False</td>\n",
              "      <td>False</td>\n",
              "    </tr>\n",
              "    <tr>\n",
              "      <th>3</th>\n",
              "      <td>False</td>\n",
              "      <td>False</td>\n",
              "      <td>False</td>\n",
              "      <td>False</td>\n",
              "      <td>False</td>\n",
              "      <td>False</td>\n",
              "      <td>False</td>\n",
              "      <td>False</td>\n",
              "      <td>False</td>\n",
              "      <td>False</td>\n",
              "      <td>False</td>\n",
              "      <td>False</td>\n",
              "      <td>False</td>\n",
              "      <td>False</td>\n",
              "      <td>False</td>\n",
              "      <td>False</td>\n",
              "      <td>False</td>\n",
              "      <td>False</td>\n",
              "      <td>False</td>\n",
              "      <td>False</td>\n",
              "      <td>False</td>\n",
              "      <td>False</td>\n",
              "      <td>False</td>\n",
              "      <td>False</td>\n",
              "      <td>False</td>\n",
              "      <td>False</td>\n",
              "      <td>False</td>\n",
              "      <td>False</td>\n",
              "      <td>False</td>\n",
              "      <td>False</td>\n",
              "      <td>False</td>\n",
              "      <td>False</td>\n",
              "      <td>False</td>\n",
              "      <td>False</td>\n",
              "      <td>False</td>\n",
              "      <td>False</td>\n",
              "      <td>False</td>\n",
              "      <td>False</td>\n",
              "      <td>False</td>\n",
              "      <td>False</td>\n",
              "      <td>...</td>\n",
              "      <td>False</td>\n",
              "      <td>False</td>\n",
              "      <td>False</td>\n",
              "      <td>False</td>\n",
              "      <td>False</td>\n",
              "      <td>False</td>\n",
              "      <td>False</td>\n",
              "      <td>False</td>\n",
              "      <td>False</td>\n",
              "      <td>False</td>\n",
              "      <td>False</td>\n",
              "      <td>False</td>\n",
              "      <td>False</td>\n",
              "      <td>False</td>\n",
              "      <td>False</td>\n",
              "      <td>False</td>\n",
              "      <td>False</td>\n",
              "      <td>False</td>\n",
              "      <td>False</td>\n",
              "      <td>False</td>\n",
              "      <td>False</td>\n",
              "      <td>False</td>\n",
              "      <td>False</td>\n",
              "      <td>False</td>\n",
              "      <td>False</td>\n",
              "      <td>False</td>\n",
              "      <td>False</td>\n",
              "      <td>False</td>\n",
              "      <td>False</td>\n",
              "      <td>False</td>\n",
              "      <td>False</td>\n",
              "      <td>False</td>\n",
              "      <td>False</td>\n",
              "      <td>False</td>\n",
              "      <td>False</td>\n",
              "      <td>False</td>\n",
              "      <td>False</td>\n",
              "      <td>False</td>\n",
              "      <td>False</td>\n",
              "      <td>False</td>\n",
              "    </tr>\n",
              "    <tr>\n",
              "      <th>4</th>\n",
              "      <td>False</td>\n",
              "      <td>False</td>\n",
              "      <td>False</td>\n",
              "      <td>False</td>\n",
              "      <td>False</td>\n",
              "      <td>False</td>\n",
              "      <td>False</td>\n",
              "      <td>False</td>\n",
              "      <td>False</td>\n",
              "      <td>False</td>\n",
              "      <td>False</td>\n",
              "      <td>False</td>\n",
              "      <td>False</td>\n",
              "      <td>False</td>\n",
              "      <td>False</td>\n",
              "      <td>False</td>\n",
              "      <td>False</td>\n",
              "      <td>False</td>\n",
              "      <td>False</td>\n",
              "      <td>False</td>\n",
              "      <td>False</td>\n",
              "      <td>False</td>\n",
              "      <td>False</td>\n",
              "      <td>False</td>\n",
              "      <td>False</td>\n",
              "      <td>False</td>\n",
              "      <td>False</td>\n",
              "      <td>False</td>\n",
              "      <td>False</td>\n",
              "      <td>False</td>\n",
              "      <td>False</td>\n",
              "      <td>False</td>\n",
              "      <td>False</td>\n",
              "      <td>False</td>\n",
              "      <td>False</td>\n",
              "      <td>False</td>\n",
              "      <td>False</td>\n",
              "      <td>False</td>\n",
              "      <td>False</td>\n",
              "      <td>False</td>\n",
              "      <td>...</td>\n",
              "      <td>False</td>\n",
              "      <td>False</td>\n",
              "      <td>False</td>\n",
              "      <td>False</td>\n",
              "      <td>False</td>\n",
              "      <td>False</td>\n",
              "      <td>False</td>\n",
              "      <td>False</td>\n",
              "      <td>False</td>\n",
              "      <td>False</td>\n",
              "      <td>False</td>\n",
              "      <td>False</td>\n",
              "      <td>False</td>\n",
              "      <td>False</td>\n",
              "      <td>False</td>\n",
              "      <td>False</td>\n",
              "      <td>False</td>\n",
              "      <td>False</td>\n",
              "      <td>False</td>\n",
              "      <td>False</td>\n",
              "      <td>False</td>\n",
              "      <td>False</td>\n",
              "      <td>False</td>\n",
              "      <td>False</td>\n",
              "      <td>False</td>\n",
              "      <td>False</td>\n",
              "      <td>False</td>\n",
              "      <td>False</td>\n",
              "      <td>False</td>\n",
              "      <td>False</td>\n",
              "      <td>False</td>\n",
              "      <td>False</td>\n",
              "      <td>False</td>\n",
              "      <td>False</td>\n",
              "      <td>False</td>\n",
              "      <td>False</td>\n",
              "      <td>False</td>\n",
              "      <td>False</td>\n",
              "      <td>False</td>\n",
              "      <td>False</td>\n",
              "    </tr>\n",
              "    <tr>\n",
              "      <th>...</th>\n",
              "      <td>...</td>\n",
              "      <td>...</td>\n",
              "      <td>...</td>\n",
              "      <td>...</td>\n",
              "      <td>...</td>\n",
              "      <td>...</td>\n",
              "      <td>...</td>\n",
              "      <td>...</td>\n",
              "      <td>...</td>\n",
              "      <td>...</td>\n",
              "      <td>...</td>\n",
              "      <td>...</td>\n",
              "      <td>...</td>\n",
              "      <td>...</td>\n",
              "      <td>...</td>\n",
              "      <td>...</td>\n",
              "      <td>...</td>\n",
              "      <td>...</td>\n",
              "      <td>...</td>\n",
              "      <td>...</td>\n",
              "      <td>...</td>\n",
              "      <td>...</td>\n",
              "      <td>...</td>\n",
              "      <td>...</td>\n",
              "      <td>...</td>\n",
              "      <td>...</td>\n",
              "      <td>...</td>\n",
              "      <td>...</td>\n",
              "      <td>...</td>\n",
              "      <td>...</td>\n",
              "      <td>...</td>\n",
              "      <td>...</td>\n",
              "      <td>...</td>\n",
              "      <td>...</td>\n",
              "      <td>...</td>\n",
              "      <td>...</td>\n",
              "      <td>...</td>\n",
              "      <td>...</td>\n",
              "      <td>...</td>\n",
              "      <td>...</td>\n",
              "      <td>...</td>\n",
              "      <td>...</td>\n",
              "      <td>...</td>\n",
              "      <td>...</td>\n",
              "      <td>...</td>\n",
              "      <td>...</td>\n",
              "      <td>...</td>\n",
              "      <td>...</td>\n",
              "      <td>...</td>\n",
              "      <td>...</td>\n",
              "      <td>...</td>\n",
              "      <td>...</td>\n",
              "      <td>...</td>\n",
              "      <td>...</td>\n",
              "      <td>...</td>\n",
              "      <td>...</td>\n",
              "      <td>...</td>\n",
              "      <td>...</td>\n",
              "      <td>...</td>\n",
              "      <td>...</td>\n",
              "      <td>...</td>\n",
              "      <td>...</td>\n",
              "      <td>...</td>\n",
              "      <td>...</td>\n",
              "      <td>...</td>\n",
              "      <td>...</td>\n",
              "      <td>...</td>\n",
              "      <td>...</td>\n",
              "      <td>...</td>\n",
              "      <td>...</td>\n",
              "      <td>...</td>\n",
              "      <td>...</td>\n",
              "      <td>...</td>\n",
              "      <td>...</td>\n",
              "      <td>...</td>\n",
              "      <td>...</td>\n",
              "      <td>...</td>\n",
              "      <td>...</td>\n",
              "      <td>...</td>\n",
              "      <td>...</td>\n",
              "      <td>...</td>\n",
              "    </tr>\n",
              "    <tr>\n",
              "      <th>961484</th>\n",
              "      <td>False</td>\n",
              "      <td>False</td>\n",
              "      <td>False</td>\n",
              "      <td>False</td>\n",
              "      <td>False</td>\n",
              "      <td>False</td>\n",
              "      <td>False</td>\n",
              "      <td>False</td>\n",
              "      <td>False</td>\n",
              "      <td>False</td>\n",
              "      <td>False</td>\n",
              "      <td>False</td>\n",
              "      <td>False</td>\n",
              "      <td>False</td>\n",
              "      <td>False</td>\n",
              "      <td>False</td>\n",
              "      <td>False</td>\n",
              "      <td>False</td>\n",
              "      <td>False</td>\n",
              "      <td>False</td>\n",
              "      <td>False</td>\n",
              "      <td>False</td>\n",
              "      <td>False</td>\n",
              "      <td>False</td>\n",
              "      <td>False</td>\n",
              "      <td>False</td>\n",
              "      <td>False</td>\n",
              "      <td>False</td>\n",
              "      <td>False</td>\n",
              "      <td>False</td>\n",
              "      <td>False</td>\n",
              "      <td>False</td>\n",
              "      <td>False</td>\n",
              "      <td>False</td>\n",
              "      <td>False</td>\n",
              "      <td>False</td>\n",
              "      <td>False</td>\n",
              "      <td>False</td>\n",
              "      <td>False</td>\n",
              "      <td>False</td>\n",
              "      <td>...</td>\n",
              "      <td>False</td>\n",
              "      <td>False</td>\n",
              "      <td>False</td>\n",
              "      <td>False</td>\n",
              "      <td>False</td>\n",
              "      <td>False</td>\n",
              "      <td>False</td>\n",
              "      <td>False</td>\n",
              "      <td>False</td>\n",
              "      <td>False</td>\n",
              "      <td>False</td>\n",
              "      <td>False</td>\n",
              "      <td>False</td>\n",
              "      <td>False</td>\n",
              "      <td>False</td>\n",
              "      <td>False</td>\n",
              "      <td>False</td>\n",
              "      <td>False</td>\n",
              "      <td>False</td>\n",
              "      <td>False</td>\n",
              "      <td>False</td>\n",
              "      <td>False</td>\n",
              "      <td>False</td>\n",
              "      <td>False</td>\n",
              "      <td>False</td>\n",
              "      <td>False</td>\n",
              "      <td>False</td>\n",
              "      <td>False</td>\n",
              "      <td>False</td>\n",
              "      <td>False</td>\n",
              "      <td>False</td>\n",
              "      <td>False</td>\n",
              "      <td>False</td>\n",
              "      <td>False</td>\n",
              "      <td>False</td>\n",
              "      <td>False</td>\n",
              "      <td>False</td>\n",
              "      <td>False</td>\n",
              "      <td>False</td>\n",
              "      <td>False</td>\n",
              "    </tr>\n",
              "    <tr>\n",
              "      <th>961485</th>\n",
              "      <td>False</td>\n",
              "      <td>False</td>\n",
              "      <td>False</td>\n",
              "      <td>False</td>\n",
              "      <td>False</td>\n",
              "      <td>False</td>\n",
              "      <td>False</td>\n",
              "      <td>False</td>\n",
              "      <td>False</td>\n",
              "      <td>False</td>\n",
              "      <td>False</td>\n",
              "      <td>False</td>\n",
              "      <td>False</td>\n",
              "      <td>False</td>\n",
              "      <td>False</td>\n",
              "      <td>False</td>\n",
              "      <td>False</td>\n",
              "      <td>False</td>\n",
              "      <td>False</td>\n",
              "      <td>False</td>\n",
              "      <td>False</td>\n",
              "      <td>False</td>\n",
              "      <td>False</td>\n",
              "      <td>False</td>\n",
              "      <td>False</td>\n",
              "      <td>False</td>\n",
              "      <td>False</td>\n",
              "      <td>False</td>\n",
              "      <td>False</td>\n",
              "      <td>False</td>\n",
              "      <td>False</td>\n",
              "      <td>False</td>\n",
              "      <td>False</td>\n",
              "      <td>False</td>\n",
              "      <td>False</td>\n",
              "      <td>False</td>\n",
              "      <td>False</td>\n",
              "      <td>False</td>\n",
              "      <td>False</td>\n",
              "      <td>False</td>\n",
              "      <td>...</td>\n",
              "      <td>False</td>\n",
              "      <td>False</td>\n",
              "      <td>False</td>\n",
              "      <td>False</td>\n",
              "      <td>False</td>\n",
              "      <td>False</td>\n",
              "      <td>False</td>\n",
              "      <td>False</td>\n",
              "      <td>False</td>\n",
              "      <td>False</td>\n",
              "      <td>False</td>\n",
              "      <td>False</td>\n",
              "      <td>False</td>\n",
              "      <td>False</td>\n",
              "      <td>False</td>\n",
              "      <td>False</td>\n",
              "      <td>False</td>\n",
              "      <td>False</td>\n",
              "      <td>False</td>\n",
              "      <td>False</td>\n",
              "      <td>False</td>\n",
              "      <td>False</td>\n",
              "      <td>False</td>\n",
              "      <td>False</td>\n",
              "      <td>False</td>\n",
              "      <td>False</td>\n",
              "      <td>False</td>\n",
              "      <td>False</td>\n",
              "      <td>False</td>\n",
              "      <td>False</td>\n",
              "      <td>False</td>\n",
              "      <td>False</td>\n",
              "      <td>False</td>\n",
              "      <td>False</td>\n",
              "      <td>False</td>\n",
              "      <td>False</td>\n",
              "      <td>False</td>\n",
              "      <td>False</td>\n",
              "      <td>False</td>\n",
              "      <td>False</td>\n",
              "    </tr>\n",
              "    <tr>\n",
              "      <th>961486</th>\n",
              "      <td>False</td>\n",
              "      <td>False</td>\n",
              "      <td>False</td>\n",
              "      <td>False</td>\n",
              "      <td>False</td>\n",
              "      <td>False</td>\n",
              "      <td>False</td>\n",
              "      <td>False</td>\n",
              "      <td>False</td>\n",
              "      <td>False</td>\n",
              "      <td>False</td>\n",
              "      <td>False</td>\n",
              "      <td>False</td>\n",
              "      <td>False</td>\n",
              "      <td>False</td>\n",
              "      <td>False</td>\n",
              "      <td>False</td>\n",
              "      <td>False</td>\n",
              "      <td>False</td>\n",
              "      <td>False</td>\n",
              "      <td>False</td>\n",
              "      <td>False</td>\n",
              "      <td>False</td>\n",
              "      <td>False</td>\n",
              "      <td>False</td>\n",
              "      <td>False</td>\n",
              "      <td>False</td>\n",
              "      <td>False</td>\n",
              "      <td>False</td>\n",
              "      <td>False</td>\n",
              "      <td>False</td>\n",
              "      <td>False</td>\n",
              "      <td>False</td>\n",
              "      <td>False</td>\n",
              "      <td>False</td>\n",
              "      <td>False</td>\n",
              "      <td>False</td>\n",
              "      <td>False</td>\n",
              "      <td>False</td>\n",
              "      <td>False</td>\n",
              "      <td>...</td>\n",
              "      <td>False</td>\n",
              "      <td>False</td>\n",
              "      <td>False</td>\n",
              "      <td>False</td>\n",
              "      <td>False</td>\n",
              "      <td>False</td>\n",
              "      <td>False</td>\n",
              "      <td>False</td>\n",
              "      <td>False</td>\n",
              "      <td>False</td>\n",
              "      <td>False</td>\n",
              "      <td>False</td>\n",
              "      <td>False</td>\n",
              "      <td>False</td>\n",
              "      <td>False</td>\n",
              "      <td>False</td>\n",
              "      <td>False</td>\n",
              "      <td>False</td>\n",
              "      <td>False</td>\n",
              "      <td>False</td>\n",
              "      <td>False</td>\n",
              "      <td>False</td>\n",
              "      <td>False</td>\n",
              "      <td>False</td>\n",
              "      <td>False</td>\n",
              "      <td>False</td>\n",
              "      <td>False</td>\n",
              "      <td>False</td>\n",
              "      <td>False</td>\n",
              "      <td>False</td>\n",
              "      <td>False</td>\n",
              "      <td>False</td>\n",
              "      <td>False</td>\n",
              "      <td>False</td>\n",
              "      <td>False</td>\n",
              "      <td>False</td>\n",
              "      <td>False</td>\n",
              "      <td>False</td>\n",
              "      <td>False</td>\n",
              "      <td>False</td>\n",
              "    </tr>\n",
              "    <tr>\n",
              "      <th>961487</th>\n",
              "      <td>False</td>\n",
              "      <td>False</td>\n",
              "      <td>False</td>\n",
              "      <td>False</td>\n",
              "      <td>False</td>\n",
              "      <td>False</td>\n",
              "      <td>False</td>\n",
              "      <td>False</td>\n",
              "      <td>False</td>\n",
              "      <td>False</td>\n",
              "      <td>False</td>\n",
              "      <td>False</td>\n",
              "      <td>False</td>\n",
              "      <td>False</td>\n",
              "      <td>False</td>\n",
              "      <td>False</td>\n",
              "      <td>False</td>\n",
              "      <td>False</td>\n",
              "      <td>False</td>\n",
              "      <td>False</td>\n",
              "      <td>False</td>\n",
              "      <td>False</td>\n",
              "      <td>False</td>\n",
              "      <td>False</td>\n",
              "      <td>False</td>\n",
              "      <td>False</td>\n",
              "      <td>False</td>\n",
              "      <td>False</td>\n",
              "      <td>False</td>\n",
              "      <td>False</td>\n",
              "      <td>False</td>\n",
              "      <td>False</td>\n",
              "      <td>False</td>\n",
              "      <td>False</td>\n",
              "      <td>False</td>\n",
              "      <td>False</td>\n",
              "      <td>False</td>\n",
              "      <td>False</td>\n",
              "      <td>False</td>\n",
              "      <td>False</td>\n",
              "      <td>...</td>\n",
              "      <td>False</td>\n",
              "      <td>False</td>\n",
              "      <td>False</td>\n",
              "      <td>False</td>\n",
              "      <td>False</td>\n",
              "      <td>False</td>\n",
              "      <td>False</td>\n",
              "      <td>False</td>\n",
              "      <td>False</td>\n",
              "      <td>False</td>\n",
              "      <td>False</td>\n",
              "      <td>False</td>\n",
              "      <td>False</td>\n",
              "      <td>False</td>\n",
              "      <td>False</td>\n",
              "      <td>False</td>\n",
              "      <td>False</td>\n",
              "      <td>False</td>\n",
              "      <td>False</td>\n",
              "      <td>False</td>\n",
              "      <td>False</td>\n",
              "      <td>False</td>\n",
              "      <td>False</td>\n",
              "      <td>False</td>\n",
              "      <td>False</td>\n",
              "      <td>False</td>\n",
              "      <td>False</td>\n",
              "      <td>False</td>\n",
              "      <td>False</td>\n",
              "      <td>False</td>\n",
              "      <td>False</td>\n",
              "      <td>False</td>\n",
              "      <td>False</td>\n",
              "      <td>False</td>\n",
              "      <td>False</td>\n",
              "      <td>False</td>\n",
              "      <td>False</td>\n",
              "      <td>False</td>\n",
              "      <td>False</td>\n",
              "      <td>False</td>\n",
              "    </tr>\n",
              "    <tr>\n",
              "      <th>961488</th>\n",
              "      <td>False</td>\n",
              "      <td>False</td>\n",
              "      <td>False</td>\n",
              "      <td>False</td>\n",
              "      <td>False</td>\n",
              "      <td>False</td>\n",
              "      <td>False</td>\n",
              "      <td>False</td>\n",
              "      <td>False</td>\n",
              "      <td>False</td>\n",
              "      <td>False</td>\n",
              "      <td>False</td>\n",
              "      <td>False</td>\n",
              "      <td>False</td>\n",
              "      <td>False</td>\n",
              "      <td>False</td>\n",
              "      <td>False</td>\n",
              "      <td>False</td>\n",
              "      <td>False</td>\n",
              "      <td>False</td>\n",
              "      <td>False</td>\n",
              "      <td>False</td>\n",
              "      <td>False</td>\n",
              "      <td>False</td>\n",
              "      <td>False</td>\n",
              "      <td>False</td>\n",
              "      <td>False</td>\n",
              "      <td>False</td>\n",
              "      <td>False</td>\n",
              "      <td>False</td>\n",
              "      <td>False</td>\n",
              "      <td>False</td>\n",
              "      <td>False</td>\n",
              "      <td>False</td>\n",
              "      <td>False</td>\n",
              "      <td>False</td>\n",
              "      <td>False</td>\n",
              "      <td>False</td>\n",
              "      <td>False</td>\n",
              "      <td>False</td>\n",
              "      <td>...</td>\n",
              "      <td>False</td>\n",
              "      <td>False</td>\n",
              "      <td>False</td>\n",
              "      <td>False</td>\n",
              "      <td>False</td>\n",
              "      <td>False</td>\n",
              "      <td>False</td>\n",
              "      <td>False</td>\n",
              "      <td>False</td>\n",
              "      <td>False</td>\n",
              "      <td>False</td>\n",
              "      <td>False</td>\n",
              "      <td>False</td>\n",
              "      <td>False</td>\n",
              "      <td>False</td>\n",
              "      <td>False</td>\n",
              "      <td>False</td>\n",
              "      <td>False</td>\n",
              "      <td>False</td>\n",
              "      <td>False</td>\n",
              "      <td>False</td>\n",
              "      <td>False</td>\n",
              "      <td>False</td>\n",
              "      <td>False</td>\n",
              "      <td>False</td>\n",
              "      <td>False</td>\n",
              "      <td>False</td>\n",
              "      <td>False</td>\n",
              "      <td>False</td>\n",
              "      <td>False</td>\n",
              "      <td>False</td>\n",
              "      <td>False</td>\n",
              "      <td>False</td>\n",
              "      <td>False</td>\n",
              "      <td>False</td>\n",
              "      <td>False</td>\n",
              "      <td>False</td>\n",
              "      <td>False</td>\n",
              "      <td>False</td>\n",
              "      <td>False</td>\n",
              "    </tr>\n",
              "  </tbody>\n",
              "</table>\n",
              "<p>961489 rows × 307 columns</p>\n",
              "</div>"
            ],
            "text/plain": [
              "        fraud_label  ssn_count0_date  ...  dayofweek_risk  random\n",
              "0             False            False  ...           False   False\n",
              "1             False            False  ...           False   False\n",
              "2             False            False  ...           False   False\n",
              "3             False            False  ...           False   False\n",
              "4             False            False  ...           False   False\n",
              "...             ...              ...  ...             ...     ...\n",
              "961484        False            False  ...           False   False\n",
              "961485        False            False  ...           False   False\n",
              "961486        False            False  ...           False   False\n",
              "961487        False            False  ...           False   False\n",
              "961488        False            False  ...           False   False\n",
              "\n",
              "[961489 rows x 307 columns]"
            ]
          },
          "metadata": {
            "tags": []
          },
          "execution_count": 18
        }
      ]
    },
    {
      "cell_type": "code",
      "metadata": {
        "id": "2EO9Q-drnQF7",
        "colab_type": "code",
        "colab": {}
      },
      "source": [
        "zmydata['date']=mydatacopy['date'].values\n",
        "zmydata['fraud_label']=mydata['fraud_label'].values"
      ],
      "execution_count": 0,
      "outputs": []
    },
    {
      "cell_type": "code",
      "metadata": {
        "id": "-XwNGK1DnQF-",
        "colab_type": "code",
        "outputId": "b8d7b4b2-a422-4025-ef9a-f1f0bace4401",
        "colab": {
          "base_uri": "https://localhost:8080/",
          "height": 33
        }
      },
      "source": [
        "zmydata['fraud_label'].sum()"
      ],
      "execution_count": 0,
      "outputs": [
        {
          "output_type": "execute_result",
          "data": {
            "text/plain": [
              "13872"
            ]
          },
          "metadata": {
            "tags": []
          },
          "execution_count": 20
        }
      ]
    },
    {
      "cell_type": "code",
      "metadata": {
        "id": "6_zHmuwgnQGA",
        "colab_type": "code",
        "colab": {}
      },
      "source": [
        "zmydatatest=zmydata[zmydata['date']>\"2016-10-31\"]\n",
        "zmydatatest=zmydatatest.drop(columns=['date'])"
      ],
      "execution_count": 0,
      "outputs": []
    },
    {
      "cell_type": "code",
      "metadata": {
        "id": "3Hm1jBy2nQGD",
        "colab_type": "code",
        "colab": {}
      },
      "source": [
        "zmydatatrain=zmydata[zmydata['date']<=\"2016-10-31\"]\n",
        "zmydatatrain=zmydatatrain.drop(columns=['date'])"
      ],
      "execution_count": 0,
      "outputs": []
    },
    {
      "cell_type": "code",
      "metadata": {
        "id": "_xpAi0QVnQGF",
        "colab_type": "code",
        "outputId": "e7b8c216-882b-4b97-ee57-421063f58861",
        "colab": {
          "base_uri": "https://localhost:8080/",
          "height": 163
        }
      },
      "source": [
        "zmydatatrain['ssnfname_nunique3_ssn'].describe()"
      ],
      "execution_count": 0,
      "outputs": [
        {
          "output_type": "execute_result",
          "data": {
            "text/plain": [
              "count    794996.0\n",
              "mean          0.0\n",
              "std           0.0\n",
              "min           0.0\n",
              "25%           0.0\n",
              "50%           0.0\n",
              "75%           0.0\n",
              "max           0.0\n",
              "Name: ssnfname_nunique3_ssn, dtype: float64"
            ]
          },
          "metadata": {
            "tags": []
          },
          "execution_count": 23
        }
      ]
    },
    {
      "cell_type": "code",
      "metadata": {
        "id": "fz-3Y6YinQGH",
        "colab_type": "code",
        "colab": {}
      },
      "source": [
        "goodscopy=zmydatatrain[zmydatatrain['fraud_label']==0].copy()\n",
        "badscopy=zmydatatrain[zmydatatrain['fraud_label']==1].copy()"
      ],
      "execution_count": 0,
      "outputs": []
    },
    {
      "cell_type": "code",
      "metadata": {
        "id": "MHoSBsz1nQGJ",
        "colab_type": "code",
        "colab": {}
      },
      "source": [
        "collist=zmydatatrain.columns.tolist()"
      ],
      "execution_count": 0,
      "outputs": []
    },
    {
      "cell_type": "code",
      "metadata": {
        "id": "d2hzdMb3nQGM",
        "colab_type": "code",
        "outputId": "a3ea75ad-8683-404d-c201-0ac90b7538e0",
        "colab": {
          "base_uri": "https://localhost:8080/",
          "height": 33
        }
      },
      "source": [
        "sps.ks_2samp(goodscopy['ssn_count0_date'],badscopy['ssn_count0_date'])[0]"
      ],
      "execution_count": 0,
      "outputs": [
        {
          "output_type": "execute_result",
          "data": {
            "text/plain": [
              "0.10709290590090792"
            ]
          },
          "metadata": {
            "tags": []
          },
          "execution_count": 26
        }
      ]
    },
    {
      "cell_type": "code",
      "metadata": {
        "colab_type": "code",
        "id": "j2oG1hYZ24fJ",
        "colab": {}
      },
      "source": [
        "i=0\n",
        "KSFDR=[]\n",
        "for column in collist:\n",
        "    KSFDR.append(sps.ks_2samp(goodscopy[column],badscopy[column])[0])\n",
        "    i=i+1"
      ],
      "execution_count": 0,
      "outputs": []
    },
    {
      "cell_type": "code",
      "metadata": {
        "id": "JpKVwYhsnQGT",
        "colab_type": "code",
        "colab": {}
      },
      "source": [
        "KSFDR=pd.DataFrame(KSFDR,columns=['ks'])"
      ],
      "execution_count": 0,
      "outputs": []
    },
    {
      "cell_type": "code",
      "metadata": {
        "id": "oPjjFxqCnQGV",
        "colab_type": "code",
        "outputId": "178b3b35-e57b-48c2-84fb-2fce7f4ef694",
        "colab": {
          "base_uri": "https://localhost:8080/",
          "height": 391
        }
      },
      "source": [
        "KSFDR"
      ],
      "execution_count": 0,
      "outputs": [
        {
          "output_type": "execute_result",
          "data": {
            "text/html": [
              "<div>\n",
              "<style scoped>\n",
              "    .dataframe tbody tr th:only-of-type {\n",
              "        vertical-align: middle;\n",
              "    }\n",
              "\n",
              "    .dataframe tbody tr th {\n",
              "        vertical-align: top;\n",
              "    }\n",
              "\n",
              "    .dataframe thead th {\n",
              "        text-align: right;\n",
              "    }\n",
              "</style>\n",
              "<table border=\"1\" class=\"dataframe\">\n",
              "  <thead>\n",
              "    <tr style=\"text-align: right;\">\n",
              "      <th></th>\n",
              "      <th>ks</th>\n",
              "    </tr>\n",
              "  </thead>\n",
              "  <tbody>\n",
              "    <tr>\n",
              "      <th>0</th>\n",
              "      <td>1.000000</td>\n",
              "    </tr>\n",
              "    <tr>\n",
              "      <th>1</th>\n",
              "      <td>0.107093</td>\n",
              "    </tr>\n",
              "    <tr>\n",
              "      <th>2</th>\n",
              "      <td>0.148704</td>\n",
              "    </tr>\n",
              "    <tr>\n",
              "      <th>3</th>\n",
              "      <td>0.172102</td>\n",
              "    </tr>\n",
              "    <tr>\n",
              "      <th>4</th>\n",
              "      <td>0.193036</td>\n",
              "    </tr>\n",
              "    <tr>\n",
              "      <th>...</th>\n",
              "      <td>...</td>\n",
              "    </tr>\n",
              "    <tr>\n",
              "      <th>302</th>\n",
              "      <td>0.058663</td>\n",
              "    </tr>\n",
              "    <tr>\n",
              "      <th>303</th>\n",
              "      <td>0.060210</td>\n",
              "    </tr>\n",
              "    <tr>\n",
              "      <th>304</th>\n",
              "      <td>0.058460</td>\n",
              "    </tr>\n",
              "    <tr>\n",
              "      <th>305</th>\n",
              "      <td>0.022088</td>\n",
              "    </tr>\n",
              "    <tr>\n",
              "      <th>306</th>\n",
              "      <td>0.007633</td>\n",
              "    </tr>\n",
              "  </tbody>\n",
              "</table>\n",
              "<p>307 rows × 1 columns</p>\n",
              "</div>"
            ],
            "text/plain": [
              "           ks\n",
              "0    1.000000\n",
              "1    0.107093\n",
              "2    0.148704\n",
              "3    0.172102\n",
              "4    0.193036\n",
              "..        ...\n",
              "302  0.058663\n",
              "303  0.060210\n",
              "304  0.058460\n",
              "305  0.022088\n",
              "306  0.007633\n",
              "\n",
              "[307 rows x 1 columns]"
            ]
          },
          "metadata": {
            "tags": []
          },
          "execution_count": 29
        }
      ]
    },
    {
      "cell_type": "code",
      "metadata": {
        "scrolled": true,
        "id": "V7YTWyzinQGY",
        "colab_type": "code",
        "colab": {}
      },
      "source": [
        "topRows = int(round(len(zmydatatrain)*0.03))\n",
        "j = 0\n",
        "numbads=sum(zmydatatrain['fraud_label']==1)\n",
        "temp0=pd.DataFrame()\n",
        "for column in zmydatatrain:\n",
        "    if column=='fraud_label':\n",
        "        temp0['fraud_label'] = zmydatatrain['fraud_label']\n",
        "        temp0['fraud_label2']=zmydatatrain['fraud_label']\n",
        "    else:\n",
        "        temp0 = zmydatatrain[[column,'fraud_label']].copy()\n",
        "    temp1 = temp0.sort_values(column,ascending=False).head(topRows).copy()\n",
        "    temp2 = temp0.sort_values(column,ascending=True).head(topRows).copy()\n",
        "    needed1 = temp1.loc[:,'fraud_label']\n",
        "    needed2 = temp2.loc[:,'fraud_label']\n",
        "    FDR1 = sum(needed1)/numbads\n",
        "    FDR2 = sum(needed2)/numbads\n",
        "    FDRate = np.maximum(FDR1,FDR2)\n",
        "    KSFDR.loc[j, 'FDR'] = FDRate\n",
        "    j = j +1\n"
      ],
      "execution_count": 0,
      "outputs": []
    },
    {
      "cell_type": "code",
      "metadata": {
        "id": "pvIHJC8inQGa",
        "colab_type": "code",
        "outputId": "4e962471-a7de-4c72-b2ad-305e9ed420f1",
        "colab": {
          "base_uri": "https://localhost:8080/",
          "height": 391
        }
      },
      "source": [
        "KSFDR"
      ],
      "execution_count": 0,
      "outputs": [
        {
          "output_type": "execute_result",
          "data": {
            "text/html": [
              "<div>\n",
              "<style scoped>\n",
              "    .dataframe tbody tr th:only-of-type {\n",
              "        vertical-align: middle;\n",
              "    }\n",
              "\n",
              "    .dataframe tbody tr th {\n",
              "        vertical-align: top;\n",
              "    }\n",
              "\n",
              "    .dataframe thead th {\n",
              "        text-align: right;\n",
              "    }\n",
              "</style>\n",
              "<table border=\"1\" class=\"dataframe\">\n",
              "  <thead>\n",
              "    <tr style=\"text-align: right;\">\n",
              "      <th></th>\n",
              "      <th>ks</th>\n",
              "      <th>FDR</th>\n",
              "    </tr>\n",
              "  </thead>\n",
              "  <tbody>\n",
              "    <tr>\n",
              "      <th>0</th>\n",
              "      <td>1.000000</td>\n",
              "      <td>1.000000</td>\n",
              "    </tr>\n",
              "    <tr>\n",
              "      <th>1</th>\n",
              "      <td>0.107093</td>\n",
              "      <td>0.134947</td>\n",
              "    </tr>\n",
              "    <tr>\n",
              "      <th>2</th>\n",
              "      <td>0.148704</td>\n",
              "      <td>0.175431</td>\n",
              "    </tr>\n",
              "    <tr>\n",
              "      <th>3</th>\n",
              "      <td>0.172102</td>\n",
              "      <td>0.198328</td>\n",
              "    </tr>\n",
              "    <tr>\n",
              "      <th>4</th>\n",
              "      <td>0.193036</td>\n",
              "      <td>0.218614</td>\n",
              "    </tr>\n",
              "    <tr>\n",
              "      <th>...</th>\n",
              "      <td>...</td>\n",
              "      <td>...</td>\n",
              "    </tr>\n",
              "    <tr>\n",
              "      <th>302</th>\n",
              "      <td>0.058663</td>\n",
              "      <td>0.082971</td>\n",
              "    </tr>\n",
              "    <tr>\n",
              "      <th>303</th>\n",
              "      <td>0.060210</td>\n",
              "      <td>0.086627</td>\n",
              "    </tr>\n",
              "    <tr>\n",
              "      <th>304</th>\n",
              "      <td>0.058460</td>\n",
              "      <td>0.083928</td>\n",
              "    </tr>\n",
              "    <tr>\n",
              "      <th>305</th>\n",
              "      <td>0.022088</td>\n",
              "      <td>0.033780</td>\n",
              "    </tr>\n",
              "    <tr>\n",
              "      <th>306</th>\n",
              "      <td>0.007633</td>\n",
              "      <td>0.030559</td>\n",
              "    </tr>\n",
              "  </tbody>\n",
              "</table>\n",
              "<p>307 rows × 2 columns</p>\n",
              "</div>"
            ],
            "text/plain": [
              "           ks       FDR\n",
              "0    1.000000  1.000000\n",
              "1    0.107093  0.134947\n",
              "2    0.148704  0.175431\n",
              "3    0.172102  0.198328\n",
              "4    0.193036  0.218614\n",
              "..        ...       ...\n",
              "302  0.058663  0.082971\n",
              "303  0.060210  0.086627\n",
              "304  0.058460  0.083928\n",
              "305  0.022088  0.033780\n",
              "306  0.007633  0.030559\n",
              "\n",
              "[307 rows x 2 columns]"
            ]
          },
          "metadata": {
            "tags": []
          },
          "execution_count": 31
        }
      ]
    },
    {
      "cell_type": "code",
      "metadata": {
        "id": "QlCTbkO_nQGd",
        "colab_type": "code",
        "outputId": "ceccb433-eca9-4df2-ecf3-d3242b9eed46",
        "colab": {
          "base_uri": "https://localhost:8080/",
          "height": 33
        }
      },
      "source": [
        "numbads"
      ],
      "execution_count": 0,
      "outputs": [
        {
          "output_type": "execute_result",
          "data": {
            "text/plain": [
              "11486"
            ]
          },
          "metadata": {
            "tags": []
          },
          "execution_count": 32
        }
      ]
    },
    {
      "cell_type": "code",
      "metadata": {
        "id": "9I-aOzj7nQGf",
        "colab_type": "code",
        "colab": {}
      },
      "source": [
        "KSFDR['rank_ks'] = KSFDR['ks'].rank(ascending = True)\n",
        "KSFDR['rank_FDR'] = KSFDR['FDR'].rank(ascending = True)"
      ],
      "execution_count": 0,
      "outputs": []
    },
    {
      "cell_type": "code",
      "metadata": {
        "id": "_-dNHg0snQGh",
        "colab_type": "code",
        "colab": {}
      },
      "source": [
        "KSFDR['average_rank'] = (KSFDR['rank_ks'] + KSFDR['rank_FDR']) / 2\n",
        "KSFDR.sort_values(by=['average_rank'], ascending=False, inplace=True)"
      ],
      "execution_count": 0,
      "outputs": []
    },
    {
      "cell_type": "code",
      "metadata": {
        "id": "vDzWEQ4rnQGk",
        "colab_type": "code",
        "outputId": "b5686bc4-d7d5-44f9-a28c-6ad028e46bff",
        "colab": {
          "base_uri": "https://localhost:8080/",
          "height": 391
        }
      },
      "source": [
        "KSFDR\n",
        "newKSFDR=KSFDR.reset_index()\n",
        "newKSFDR"
      ],
      "execution_count": 0,
      "outputs": [
        {
          "output_type": "execute_result",
          "data": {
            "text/html": [
              "<div>\n",
              "<style scoped>\n",
              "    .dataframe tbody tr th:only-of-type {\n",
              "        vertical-align: middle;\n",
              "    }\n",
              "\n",
              "    .dataframe tbody tr th {\n",
              "        vertical-align: top;\n",
              "    }\n",
              "\n",
              "    .dataframe thead th {\n",
              "        text-align: right;\n",
              "    }\n",
              "</style>\n",
              "<table border=\"1\" class=\"dataframe\">\n",
              "  <thead>\n",
              "    <tr style=\"text-align: right;\">\n",
              "      <th></th>\n",
              "      <th>index</th>\n",
              "      <th>ks</th>\n",
              "      <th>FDR</th>\n",
              "      <th>rank_ks</th>\n",
              "      <th>rank_FDR</th>\n",
              "      <th>average_rank</th>\n",
              "    </tr>\n",
              "  </thead>\n",
              "  <tbody>\n",
              "    <tr>\n",
              "      <th>0</th>\n",
              "      <td>0</td>\n",
              "      <td>1.000000</td>\n",
              "      <td>1.000000</td>\n",
              "      <td>307.0</td>\n",
              "      <td>307.0</td>\n",
              "      <td>307.00</td>\n",
              "    </tr>\n",
              "    <tr>\n",
              "      <th>1</th>\n",
              "      <td>288</td>\n",
              "      <td>0.333210</td>\n",
              "      <td>0.358349</td>\n",
              "      <td>305.0</td>\n",
              "      <td>306.0</td>\n",
              "      <td>305.50</td>\n",
              "    </tr>\n",
              "    <tr>\n",
              "      <th>2</th>\n",
              "      <td>284</td>\n",
              "      <td>0.334096</td>\n",
              "      <td>0.355128</td>\n",
              "      <td>306.0</td>\n",
              "      <td>305.0</td>\n",
              "      <td>305.50</td>\n",
              "    </tr>\n",
              "    <tr>\n",
              "      <th>3</th>\n",
              "      <td>41</td>\n",
              "      <td>0.332032</td>\n",
              "      <td>0.354954</td>\n",
              "      <td>303.0</td>\n",
              "      <td>304.0</td>\n",
              "      <td>303.50</td>\n",
              "    </tr>\n",
              "    <tr>\n",
              "      <th>4</th>\n",
              "      <td>13</td>\n",
              "      <td>0.332725</td>\n",
              "      <td>0.353300</td>\n",
              "      <td>304.0</td>\n",
              "      <td>303.0</td>\n",
              "      <td>303.50</td>\n",
              "    </tr>\n",
              "    <tr>\n",
              "      <th>...</th>\n",
              "      <td>...</td>\n",
              "      <td>...</td>\n",
              "      <td>...</td>\n",
              "      <td>...</td>\n",
              "      <td>...</td>\n",
              "      <td>...</td>\n",
              "    </tr>\n",
              "    <tr>\n",
              "      <th>302</th>\n",
              "      <td>249</td>\n",
              "      <td>0.000128</td>\n",
              "      <td>0.033084</td>\n",
              "      <td>8.0</td>\n",
              "      <td>3.0</td>\n",
              "      <td>5.50</td>\n",
              "    </tr>\n",
              "    <tr>\n",
              "      <th>303</th>\n",
              "      <td>265</td>\n",
              "      <td>0.000103</td>\n",
              "      <td>0.033258</td>\n",
              "      <td>4.0</td>\n",
              "      <td>5.5</td>\n",
              "      <td>4.75</td>\n",
              "    </tr>\n",
              "    <tr>\n",
              "      <th>304</th>\n",
              "      <td>244</td>\n",
              "      <td>0.000015</td>\n",
              "      <td>0.033258</td>\n",
              "      <td>3.0</td>\n",
              "      <td>5.5</td>\n",
              "      <td>4.25</td>\n",
              "    </tr>\n",
              "    <tr>\n",
              "      <th>305</th>\n",
              "      <td>259</td>\n",
              "      <td>-0.000000</td>\n",
              "      <td>0.033084</td>\n",
              "      <td>1.5</td>\n",
              "      <td>3.0</td>\n",
              "      <td>2.25</td>\n",
              "    </tr>\n",
              "    <tr>\n",
              "      <th>306</th>\n",
              "      <td>263</td>\n",
              "      <td>-0.000000</td>\n",
              "      <td>0.033084</td>\n",
              "      <td>1.5</td>\n",
              "      <td>3.0</td>\n",
              "      <td>2.25</td>\n",
              "    </tr>\n",
              "  </tbody>\n",
              "</table>\n",
              "<p>307 rows × 6 columns</p>\n",
              "</div>"
            ],
            "text/plain": [
              "     index        ks       FDR  rank_ks  rank_FDR  average_rank\n",
              "0        0  1.000000  1.000000    307.0     307.0        307.00\n",
              "1      288  0.333210  0.358349    305.0     306.0        305.50\n",
              "2      284  0.334096  0.355128    306.0     305.0        305.50\n",
              "3       41  0.332032  0.354954    303.0     304.0        303.50\n",
              "4       13  0.332725  0.353300    304.0     303.0        303.50\n",
              "..     ...       ...       ...      ...       ...           ...\n",
              "302    249  0.000128  0.033084      8.0       3.0          5.50\n",
              "303    265  0.000103  0.033258      4.0       5.5          4.75\n",
              "304    244  0.000015  0.033258      3.0       5.5          4.25\n",
              "305    259 -0.000000  0.033084      1.5       3.0          2.25\n",
              "306    263 -0.000000  0.033084      1.5       3.0          2.25\n",
              "\n",
              "[307 rows x 6 columns]"
            ]
          },
          "metadata": {
            "tags": []
          },
          "execution_count": 35
        }
      ]
    },
    {
      "cell_type": "code",
      "metadata": {
        "scrolled": true,
        "id": "rE1Cyc8unQGn",
        "colab_type": "code",
        "outputId": "31317ac2-59dd-4663-d37e-4c163854ea77",
        "colab": {
          "base_uri": "https://localhost:8080/",
          "height": 391
        }
      },
      "source": [
        "matchcolumn=pd.DataFrame(collist)\n",
        "matchcolumn=matchcolumn.reset_index()\n",
        "matchcolumn=matchcolumn.rename(columns={0: 'VariableName'})\n",
        "matchcolumn"
      ],
      "execution_count": 0,
      "outputs": [
        {
          "output_type": "execute_result",
          "data": {
            "text/html": [
              "<div>\n",
              "<style scoped>\n",
              "    .dataframe tbody tr th:only-of-type {\n",
              "        vertical-align: middle;\n",
              "    }\n",
              "\n",
              "    .dataframe tbody tr th {\n",
              "        vertical-align: top;\n",
              "    }\n",
              "\n",
              "    .dataframe thead th {\n",
              "        text-align: right;\n",
              "    }\n",
              "</style>\n",
              "<table border=\"1\" class=\"dataframe\">\n",
              "  <thead>\n",
              "    <tr style=\"text-align: right;\">\n",
              "      <th></th>\n",
              "      <th>index</th>\n",
              "      <th>VariableName</th>\n",
              "    </tr>\n",
              "  </thead>\n",
              "  <tbody>\n",
              "    <tr>\n",
              "      <th>0</th>\n",
              "      <td>0</td>\n",
              "      <td>fraud_label</td>\n",
              "    </tr>\n",
              "    <tr>\n",
              "      <th>1</th>\n",
              "      <td>1</td>\n",
              "      <td>ssn_count0_date</td>\n",
              "    </tr>\n",
              "    <tr>\n",
              "      <th>2</th>\n",
              "      <td>2</td>\n",
              "      <td>ssn_count1_date</td>\n",
              "    </tr>\n",
              "    <tr>\n",
              "      <th>3</th>\n",
              "      <td>3</td>\n",
              "      <td>ssn_count3_date</td>\n",
              "    </tr>\n",
              "    <tr>\n",
              "      <th>4</th>\n",
              "      <td>4</td>\n",
              "      <td>ssn_count7_date</td>\n",
              "    </tr>\n",
              "    <tr>\n",
              "      <th>...</th>\n",
              "      <td>...</td>\n",
              "      <td>...</td>\n",
              "    </tr>\n",
              "    <tr>\n",
              "      <th>302</th>\n",
              "      <td>302</td>\n",
              "      <td>fulladdressnamedob_days_since_last_seen</td>\n",
              "    </tr>\n",
              "    <tr>\n",
              "      <th>303</th>\n",
              "      <td>303</td>\n",
              "      <td>dobhomephone_days_since_last_seen</td>\n",
              "    </tr>\n",
              "    <tr>\n",
              "      <th>304</th>\n",
              "      <td>304</td>\n",
              "      <td>homephonenamedob_days_since_last_seen</td>\n",
              "    </tr>\n",
              "    <tr>\n",
              "      <th>305</th>\n",
              "      <td>305</td>\n",
              "      <td>dayofweek_risk</td>\n",
              "    </tr>\n",
              "    <tr>\n",
              "      <th>306</th>\n",
              "      <td>306</td>\n",
              "      <td>random</td>\n",
              "    </tr>\n",
              "  </tbody>\n",
              "</table>\n",
              "<p>307 rows × 2 columns</p>\n",
              "</div>"
            ],
            "text/plain": [
              "     index                             VariableName\n",
              "0        0                              fraud_label\n",
              "1        1                          ssn_count0_date\n",
              "2        2                          ssn_count1_date\n",
              "3        3                          ssn_count3_date\n",
              "4        4                          ssn_count7_date\n",
              "..     ...                                      ...\n",
              "302    302  fulladdressnamedob_days_since_last_seen\n",
              "303    303        dobhomephone_days_since_last_seen\n",
              "304    304    homephonenamedob_days_since_last_seen\n",
              "305    305                           dayofweek_risk\n",
              "306    306                                   random\n",
              "\n",
              "[307 rows x 2 columns]"
            ]
          },
          "metadata": {
            "tags": []
          },
          "execution_count": 36
        }
      ]
    },
    {
      "cell_type": "code",
      "metadata": {
        "scrolled": true,
        "id": "U9KyIcdCnQGp",
        "colab_type": "code",
        "colab": {}
      },
      "source": [
        "newKSFDR = pd.merge(matchcolumn, newKSFDR, left_on = ['index'], right_on = ['index'],how='right')"
      ],
      "execution_count": 0,
      "outputs": []
    },
    {
      "cell_type": "code",
      "metadata": {
        "id": "4-R59g0InQGs",
        "colab_type": "code",
        "colab": {}
      },
      "source": [
        "newKSFDR=newKSFDR.sort_values('average_rank',ascending=False)\n",
        "newKSFDR=newKSFDR.drop(columns=['index'])"
      ],
      "execution_count": 0,
      "outputs": []
    },
    {
      "cell_type": "code",
      "metadata": {
        "id": "kps-85sNnQGu",
        "colab_type": "code",
        "outputId": "c994fc7b-bcd9-43a6-84a4-08d3f3d1bdca",
        "colab": {
          "base_uri": "https://localhost:8080/",
          "height": 391
        }
      },
      "source": [
        "newKSFDR"
      ],
      "execution_count": 0,
      "outputs": [
        {
          "output_type": "execute_result",
          "data": {
            "text/html": [
              "<div>\n",
              "<style scoped>\n",
              "    .dataframe tbody tr th:only-of-type {\n",
              "        vertical-align: middle;\n",
              "    }\n",
              "\n",
              "    .dataframe tbody tr th {\n",
              "        vertical-align: top;\n",
              "    }\n",
              "\n",
              "    .dataframe thead th {\n",
              "        text-align: right;\n",
              "    }\n",
              "</style>\n",
              "<table border=\"1\" class=\"dataframe\">\n",
              "  <thead>\n",
              "    <tr style=\"text-align: right;\">\n",
              "      <th></th>\n",
              "      <th>VariableName</th>\n",
              "      <th>ks</th>\n",
              "      <th>FDR</th>\n",
              "      <th>rank_ks</th>\n",
              "      <th>rank_FDR</th>\n",
              "      <th>average_rank</th>\n",
              "    </tr>\n",
              "  </thead>\n",
              "  <tbody>\n",
              "    <tr>\n",
              "      <th>0</th>\n",
              "      <td>fraud_label</td>\n",
              "      <td>1.000000</td>\n",
              "      <td>1.000000</td>\n",
              "      <td>307.0</td>\n",
              "      <td>307.0</td>\n",
              "      <td>307.00</td>\n",
              "    </tr>\n",
              "    <tr>\n",
              "      <th>288</th>\n",
              "      <td>fulladdress_days_since_last_seen</td>\n",
              "      <td>0.333210</td>\n",
              "      <td>0.358349</td>\n",
              "      <td>305.0</td>\n",
              "      <td>306.0</td>\n",
              "      <td>305.50</td>\n",
              "    </tr>\n",
              "    <tr>\n",
              "      <th>284</th>\n",
              "      <td>address_days_since_last_seen</td>\n",
              "      <td>0.334096</td>\n",
              "      <td>0.355128</td>\n",
              "      <td>306.0</td>\n",
              "      <td>305.0</td>\n",
              "      <td>305.50</td>\n",
              "    </tr>\n",
              "    <tr>\n",
              "      <th>41</th>\n",
              "      <td>fulladdress_count30_date</td>\n",
              "      <td>0.332032</td>\n",
              "      <td>0.354954</td>\n",
              "      <td>303.0</td>\n",
              "      <td>304.0</td>\n",
              "      <td>303.50</td>\n",
              "    </tr>\n",
              "    <tr>\n",
              "      <th>13</th>\n",
              "      <td>address_count30_date</td>\n",
              "      <td>0.332725</td>\n",
              "      <td>0.353300</td>\n",
              "      <td>304.0</td>\n",
              "      <td>303.0</td>\n",
              "      <td>303.50</td>\n",
              "    </tr>\n",
              "    <tr>\n",
              "      <th>...</th>\n",
              "      <td>...</td>\n",
              "      <td>...</td>\n",
              "      <td>...</td>\n",
              "      <td>...</td>\n",
              "      <td>...</td>\n",
              "      <td>...</td>\n",
              "    </tr>\n",
              "    <tr>\n",
              "      <th>249</th>\n",
              "      <td>ssn_nunique3_dob</td>\n",
              "      <td>0.000128</td>\n",
              "      <td>0.033084</td>\n",
              "      <td>8.0</td>\n",
              "      <td>3.0</td>\n",
              "      <td>5.50</td>\n",
              "    </tr>\n",
              "    <tr>\n",
              "      <th>265</th>\n",
              "      <td>ssnfname_nunique3_dob</td>\n",
              "      <td>0.000103</td>\n",
              "      <td>0.033258</td>\n",
              "      <td>4.0</td>\n",
              "      <td>5.5</td>\n",
              "      <td>4.75</td>\n",
              "    </tr>\n",
              "    <tr>\n",
              "      <th>244</th>\n",
              "      <td>ssn_nunique1_ssnfname</td>\n",
              "      <td>0.000015</td>\n",
              "      <td>0.033258</td>\n",
              "      <td>3.0</td>\n",
              "      <td>5.5</td>\n",
              "      <td>4.25</td>\n",
              "    </tr>\n",
              "    <tr>\n",
              "      <th>259</th>\n",
              "      <td>ssnfname_nunique1_ssn</td>\n",
              "      <td>-0.000000</td>\n",
              "      <td>0.033084</td>\n",
              "      <td>1.5</td>\n",
              "      <td>3.0</td>\n",
              "      <td>2.25</td>\n",
              "    </tr>\n",
              "    <tr>\n",
              "      <th>263</th>\n",
              "      <td>ssnfname_nunique3_ssn</td>\n",
              "      <td>-0.000000</td>\n",
              "      <td>0.033084</td>\n",
              "      <td>1.5</td>\n",
              "      <td>3.0</td>\n",
              "      <td>2.25</td>\n",
              "    </tr>\n",
              "  </tbody>\n",
              "</table>\n",
              "<p>307 rows × 6 columns</p>\n",
              "</div>"
            ],
            "text/plain": [
              "                         VariableName        ks  ...  rank_FDR  average_rank\n",
              "0                         fraud_label  1.000000  ...     307.0        307.00\n",
              "288  fulladdress_days_since_last_seen  0.333210  ...     306.0        305.50\n",
              "284      address_days_since_last_seen  0.334096  ...     305.0        305.50\n",
              "41           fulladdress_count30_date  0.332032  ...     304.0        303.50\n",
              "13               address_count30_date  0.332725  ...     303.0        303.50\n",
              "..                                ...       ...  ...       ...           ...\n",
              "249                  ssn_nunique3_dob  0.000128  ...       3.0          5.50\n",
              "265             ssnfname_nunique3_dob  0.000103  ...       5.5          4.75\n",
              "244             ssn_nunique1_ssnfname  0.000015  ...       5.5          4.25\n",
              "259             ssnfname_nunique1_ssn -0.000000  ...       3.0          2.25\n",
              "263             ssnfname_nunique3_ssn -0.000000  ...       3.0          2.25\n",
              "\n",
              "[307 rows x 6 columns]"
            ]
          },
          "metadata": {
            "tags": []
          },
          "execution_count": 39
        }
      ]
    },
    {
      "cell_type": "code",
      "metadata": {
        "scrolled": true,
        "id": "_P3EeajZnQGw",
        "colab_type": "code",
        "colab": {}
      },
      "source": [
        "newKSFDR.to_csv('homework6_0302.csv')"
      ],
      "execution_count": 0,
      "outputs": []
    },
    {
      "cell_type": "code",
      "metadata": {
        "id": "lRXx_rM_nQGy",
        "colab_type": "code",
        "colab": {}
      },
      "source": [
        "vars_keep=newKSFDR['VariableName'][1:55].to_list()"
      ],
      "execution_count": 0,
      "outputs": []
    },
    {
      "cell_type": "code",
      "metadata": {
        "scrolled": true,
        "id": "-C_pllqdnQG1",
        "colab_type": "code",
        "outputId": "f1979086-a5f4-4101-f109-a501027dbcb1",
        "colab": {
          "base_uri": "https://localhost:8080/",
          "height": 411
        }
      },
      "source": [
        "zmydatatrain[vars_keep]"
      ],
      "execution_count": 0,
      "outputs": [
        {
          "output_type": "execute_result",
          "data": {
            "text/html": [
              "<div>\n",
              "<style scoped>\n",
              "    .dataframe tbody tr th:only-of-type {\n",
              "        vertical-align: middle;\n",
              "    }\n",
              "\n",
              "    .dataframe tbody tr th {\n",
              "        vertical-align: top;\n",
              "    }\n",
              "\n",
              "    .dataframe thead th {\n",
              "        text-align: right;\n",
              "    }\n",
              "</style>\n",
              "<table border=\"1\" class=\"dataframe\">\n",
              "  <thead>\n",
              "    <tr style=\"text-align: right;\">\n",
              "      <th></th>\n",
              "      <th>fulladdress_days_since_last_seen</th>\n",
              "      <th>address_days_since_last_seen</th>\n",
              "      <th>fulladdress_count30_date</th>\n",
              "      <th>address_count30_date</th>\n",
              "      <th>address_count14_date</th>\n",
              "      <th>address_count180_date</th>\n",
              "      <th>fulladdress_count14_date</th>\n",
              "      <th>fulladdress_count180_date</th>\n",
              "      <th>address_count7_date</th>\n",
              "      <th>fulladdress_count7_date</th>\n",
              "      <th>fulladdress_count3_date</th>\n",
              "      <th>address_count3_date</th>\n",
              "      <th>fulladdress_nunique3_ssn</th>\n",
              "      <th>fulladdress_nunique3_ssnfname</th>\n",
              "      <th>fulladdress_nunique3_dob</th>\n",
              "      <th>address_count1_date</th>\n",
              "      <th>fulladdress_count1_date</th>\n",
              "      <th>fulladdress_nunique1_dob</th>\n",
              "      <th>fulladdress_nunique1_ssn</th>\n",
              "      <th>fulladdress_nunique1_ssnfname</th>\n",
              "      <th>fulladdresshomephone_days_since_last_seen</th>\n",
              "      <th>fulladdresshomephone_count30_date</th>\n",
              "      <th>ssndob_days_since_last_seen</th>\n",
              "      <th>ssndob_count30_date</th>\n",
              "      <th>namedob_count30_date</th>\n",
              "      <th>namedob_days_since_last_seen</th>\n",
              "      <th>ssn_days_since_last_seen</th>\n",
              "      <th>ssn_count30_date</th>\n",
              "      <th>ssnfname_days_since_last_seen</th>\n",
              "      <th>ssnnamedob_days_since_last_seen</th>\n",
              "      <th>ssnlname_days_since_last_seen</th>\n",
              "      <th>ssnnamedob_count30_date</th>\n",
              "      <th>ssnfname_count30_date</th>\n",
              "      <th>ssnlname_count30_date</th>\n",
              "      <th>ssnfullname_days_since_last_seen</th>\n",
              "      <th>ssnfullname_count30_date</th>\n",
              "      <th>ssndob_count180_date</th>\n",
              "      <th>namedob_count180_date</th>\n",
              "      <th>ssn_count180_date</th>\n",
              "      <th>fulladdresshomephone_count180_date</th>\n",
              "      <th>fulladdresshomephone_count14_date</th>\n",
              "      <th>ssnlname_count180_date</th>\n",
              "      <th>ssnfname_count180_date</th>\n",
              "      <th>ssnnamedob_count180_date</th>\n",
              "      <th>ssnfullname_count180_date</th>\n",
              "      <th>namedob_count14_date</th>\n",
              "      <th>ssndob_count14_date</th>\n",
              "      <th>ssn_count14_date</th>\n",
              "      <th>ssnnamedob_count14_date</th>\n",
              "      <th>ssnfname_count14_date</th>\n",
              "      <th>ssnlname_count14_date</th>\n",
              "      <th>ssnfullname_count14_date</th>\n",
              "      <th>address_1_count_address_14_count_Ave</th>\n",
              "      <th>fulladdress_1_count_fulladdress_14_count_Ave</th>\n",
              "    </tr>\n",
              "  </thead>\n",
              "  <tbody>\n",
              "    <tr>\n",
              "      <th>0</th>\n",
              "      <td>-0.411706</td>\n",
              "      <td>-0.437425</td>\n",
              "      <td>-0.103392</td>\n",
              "      <td>-0.119479</td>\n",
              "      <td>-0.089339</td>\n",
              "      <td>-0.214284</td>\n",
              "      <td>-0.079681</td>\n",
              "      <td>-0.227749</td>\n",
              "      <td>-0.073005</td>\n",
              "      <td>-0.067413</td>\n",
              "      <td>-0.058171</td>\n",
              "      <td>-0.061071</td>\n",
              "      <td>-0.052073</td>\n",
              "      <td>-0.052086</td>\n",
              "      <td>-0.052572</td>\n",
              "      <td>-0.051332</td>\n",
              "      <td>-0.049913</td>\n",
              "      <td>-0.047263</td>\n",
              "      <td>-0.047001</td>\n",
              "      <td>-0.047011</td>\n",
              "      <td>-0.384043</td>\n",
              "      <td>-0.096485</td>\n",
              "      <td>-0.374468</td>\n",
              "      <td>-0.09434</td>\n",
              "      <td>-0.094632</td>\n",
              "      <td>-0.375653</td>\n",
              "      <td>-0.400721</td>\n",
              "      <td>-0.100589</td>\n",
              "      <td>-0.398333</td>\n",
              "      <td>-0.373585</td>\n",
              "      <td>-0.398269</td>\n",
              "      <td>-0.094045</td>\n",
              "      <td>-0.099596</td>\n",
              "      <td>-0.099584</td>\n",
              "      <td>-0.397608</td>\n",
              "      <td>-0.099366</td>\n",
              "      <td>-0.218006</td>\n",
              "      <td>-0.217501</td>\n",
              "      <td>-0.189519</td>\n",
              "      <td>-0.222642</td>\n",
              "      <td>-0.070856</td>\n",
              "      <td>-0.234407</td>\n",
              "      <td>-0.234458</td>\n",
              "      <td>-0.217328</td>\n",
              "      <td>-0.233941</td>\n",
              "      <td>-0.069169</td>\n",
              "      <td>-0.068978</td>\n",
              "      <td>-0.073065</td>\n",
              "      <td>-0.068841</td>\n",
              "      <td>-0.071707</td>\n",
              "      <td>-0.07167</td>\n",
              "      <td>-0.071577</td>\n",
              "      <td>0.141748</td>\n",
              "      <td>0.125036</td>\n",
              "    </tr>\n",
              "    <tr>\n",
              "      <th>1</th>\n",
              "      <td>-0.411706</td>\n",
              "      <td>-0.437425</td>\n",
              "      <td>-0.103392</td>\n",
              "      <td>-0.119479</td>\n",
              "      <td>-0.089339</td>\n",
              "      <td>-0.214284</td>\n",
              "      <td>-0.079681</td>\n",
              "      <td>-0.227749</td>\n",
              "      <td>-0.073005</td>\n",
              "      <td>-0.067413</td>\n",
              "      <td>-0.058171</td>\n",
              "      <td>-0.061071</td>\n",
              "      <td>-0.052073</td>\n",
              "      <td>-0.052086</td>\n",
              "      <td>-0.052572</td>\n",
              "      <td>-0.051332</td>\n",
              "      <td>-0.049913</td>\n",
              "      <td>-0.047263</td>\n",
              "      <td>-0.047001</td>\n",
              "      <td>-0.047011</td>\n",
              "      <td>-0.384043</td>\n",
              "      <td>-0.096485</td>\n",
              "      <td>-0.374468</td>\n",
              "      <td>-0.09434</td>\n",
              "      <td>-0.094632</td>\n",
              "      <td>-0.375653</td>\n",
              "      <td>-0.400721</td>\n",
              "      <td>-0.100589</td>\n",
              "      <td>-0.398333</td>\n",
              "      <td>-0.373585</td>\n",
              "      <td>-0.398269</td>\n",
              "      <td>-0.094045</td>\n",
              "      <td>-0.099596</td>\n",
              "      <td>-0.099584</td>\n",
              "      <td>-0.397608</td>\n",
              "      <td>-0.099366</td>\n",
              "      <td>-0.218006</td>\n",
              "      <td>-0.217501</td>\n",
              "      <td>-0.189519</td>\n",
              "      <td>-0.222642</td>\n",
              "      <td>-0.070856</td>\n",
              "      <td>-0.234407</td>\n",
              "      <td>-0.234458</td>\n",
              "      <td>-0.217328</td>\n",
              "      <td>-0.233941</td>\n",
              "      <td>-0.069169</td>\n",
              "      <td>-0.068978</td>\n",
              "      <td>-0.073065</td>\n",
              "      <td>-0.068841</td>\n",
              "      <td>-0.071707</td>\n",
              "      <td>-0.07167</td>\n",
              "      <td>-0.071577</td>\n",
              "      <td>0.141748</td>\n",
              "      <td>0.125036</td>\n",
              "    </tr>\n",
              "    <tr>\n",
              "      <th>2</th>\n",
              "      <td>-0.411706</td>\n",
              "      <td>-0.437425</td>\n",
              "      <td>-0.103392</td>\n",
              "      <td>-0.119479</td>\n",
              "      <td>-0.089339</td>\n",
              "      <td>-0.214284</td>\n",
              "      <td>-0.079681</td>\n",
              "      <td>-0.227749</td>\n",
              "      <td>-0.073005</td>\n",
              "      <td>-0.067413</td>\n",
              "      <td>-0.058171</td>\n",
              "      <td>-0.061071</td>\n",
              "      <td>-0.052073</td>\n",
              "      <td>-0.052086</td>\n",
              "      <td>-0.052572</td>\n",
              "      <td>-0.051332</td>\n",
              "      <td>-0.049913</td>\n",
              "      <td>-0.047263</td>\n",
              "      <td>-0.047001</td>\n",
              "      <td>-0.047011</td>\n",
              "      <td>-0.384043</td>\n",
              "      <td>-0.096485</td>\n",
              "      <td>-0.374468</td>\n",
              "      <td>-0.09434</td>\n",
              "      <td>-0.094632</td>\n",
              "      <td>-0.375653</td>\n",
              "      <td>-0.400721</td>\n",
              "      <td>-0.100589</td>\n",
              "      <td>-0.398333</td>\n",
              "      <td>-0.373585</td>\n",
              "      <td>-0.398269</td>\n",
              "      <td>-0.094045</td>\n",
              "      <td>-0.099596</td>\n",
              "      <td>-0.099584</td>\n",
              "      <td>-0.397608</td>\n",
              "      <td>-0.099366</td>\n",
              "      <td>-0.218006</td>\n",
              "      <td>-0.217501</td>\n",
              "      <td>-0.189519</td>\n",
              "      <td>-0.222642</td>\n",
              "      <td>-0.070856</td>\n",
              "      <td>-0.234407</td>\n",
              "      <td>-0.234458</td>\n",
              "      <td>-0.217328</td>\n",
              "      <td>-0.233941</td>\n",
              "      <td>-0.069169</td>\n",
              "      <td>-0.068978</td>\n",
              "      <td>-0.073065</td>\n",
              "      <td>-0.068841</td>\n",
              "      <td>-0.071707</td>\n",
              "      <td>-0.07167</td>\n",
              "      <td>-0.071577</td>\n",
              "      <td>0.141748</td>\n",
              "      <td>0.125036</td>\n",
              "    </tr>\n",
              "    <tr>\n",
              "      <th>3</th>\n",
              "      <td>-0.411706</td>\n",
              "      <td>-0.437425</td>\n",
              "      <td>-0.103392</td>\n",
              "      <td>-0.119479</td>\n",
              "      <td>-0.089339</td>\n",
              "      <td>-0.214284</td>\n",
              "      <td>-0.079681</td>\n",
              "      <td>-0.227749</td>\n",
              "      <td>-0.073005</td>\n",
              "      <td>-0.067413</td>\n",
              "      <td>-0.058171</td>\n",
              "      <td>-0.061071</td>\n",
              "      <td>-0.052073</td>\n",
              "      <td>-0.052086</td>\n",
              "      <td>-0.052572</td>\n",
              "      <td>-0.051332</td>\n",
              "      <td>-0.049913</td>\n",
              "      <td>-0.047263</td>\n",
              "      <td>-0.047001</td>\n",
              "      <td>-0.047011</td>\n",
              "      <td>-0.384043</td>\n",
              "      <td>-0.096485</td>\n",
              "      <td>-0.374468</td>\n",
              "      <td>-0.09434</td>\n",
              "      <td>-0.094632</td>\n",
              "      <td>-0.375653</td>\n",
              "      <td>-0.400721</td>\n",
              "      <td>-0.100589</td>\n",
              "      <td>-0.398333</td>\n",
              "      <td>-0.373585</td>\n",
              "      <td>-0.398269</td>\n",
              "      <td>-0.094045</td>\n",
              "      <td>-0.099596</td>\n",
              "      <td>-0.099584</td>\n",
              "      <td>-0.397608</td>\n",
              "      <td>-0.099366</td>\n",
              "      <td>-0.218006</td>\n",
              "      <td>-0.217501</td>\n",
              "      <td>-0.189519</td>\n",
              "      <td>-0.222642</td>\n",
              "      <td>-0.070856</td>\n",
              "      <td>-0.234407</td>\n",
              "      <td>-0.234458</td>\n",
              "      <td>-0.217328</td>\n",
              "      <td>-0.233941</td>\n",
              "      <td>-0.069169</td>\n",
              "      <td>-0.068978</td>\n",
              "      <td>-0.073065</td>\n",
              "      <td>-0.068841</td>\n",
              "      <td>-0.071707</td>\n",
              "      <td>-0.07167</td>\n",
              "      <td>-0.071577</td>\n",
              "      <td>0.141748</td>\n",
              "      <td>0.125036</td>\n",
              "    </tr>\n",
              "    <tr>\n",
              "      <th>4</th>\n",
              "      <td>-0.411706</td>\n",
              "      <td>-0.437425</td>\n",
              "      <td>-0.103392</td>\n",
              "      <td>-0.119479</td>\n",
              "      <td>-0.089339</td>\n",
              "      <td>-0.214284</td>\n",
              "      <td>-0.079681</td>\n",
              "      <td>-0.227749</td>\n",
              "      <td>-0.073005</td>\n",
              "      <td>-0.067413</td>\n",
              "      <td>-0.058171</td>\n",
              "      <td>-0.061071</td>\n",
              "      <td>-0.052073</td>\n",
              "      <td>-0.052086</td>\n",
              "      <td>-0.052572</td>\n",
              "      <td>-0.051332</td>\n",
              "      <td>-0.049913</td>\n",
              "      <td>-0.047263</td>\n",
              "      <td>-0.047001</td>\n",
              "      <td>-0.047011</td>\n",
              "      <td>-0.384043</td>\n",
              "      <td>-0.096485</td>\n",
              "      <td>-0.374468</td>\n",
              "      <td>-0.09434</td>\n",
              "      <td>-0.094632</td>\n",
              "      <td>-0.375653</td>\n",
              "      <td>-0.400721</td>\n",
              "      <td>-0.100589</td>\n",
              "      <td>-0.398333</td>\n",
              "      <td>-0.373585</td>\n",
              "      <td>-0.398269</td>\n",
              "      <td>-0.094045</td>\n",
              "      <td>-0.099596</td>\n",
              "      <td>-0.099584</td>\n",
              "      <td>-0.397608</td>\n",
              "      <td>-0.099366</td>\n",
              "      <td>-0.218006</td>\n",
              "      <td>-0.217501</td>\n",
              "      <td>-0.189519</td>\n",
              "      <td>-0.222642</td>\n",
              "      <td>-0.070856</td>\n",
              "      <td>-0.234407</td>\n",
              "      <td>-0.234458</td>\n",
              "      <td>-0.217328</td>\n",
              "      <td>-0.233941</td>\n",
              "      <td>-0.069169</td>\n",
              "      <td>-0.068978</td>\n",
              "      <td>-0.073065</td>\n",
              "      <td>-0.068841</td>\n",
              "      <td>-0.071707</td>\n",
              "      <td>-0.07167</td>\n",
              "      <td>-0.071577</td>\n",
              "      <td>0.141748</td>\n",
              "      <td>0.125036</td>\n",
              "    </tr>\n",
              "    <tr>\n",
              "      <th>...</th>\n",
              "      <td>...</td>\n",
              "      <td>...</td>\n",
              "      <td>...</td>\n",
              "      <td>...</td>\n",
              "      <td>...</td>\n",
              "      <td>...</td>\n",
              "      <td>...</td>\n",
              "      <td>...</td>\n",
              "      <td>...</td>\n",
              "      <td>...</td>\n",
              "      <td>...</td>\n",
              "      <td>...</td>\n",
              "      <td>...</td>\n",
              "      <td>...</td>\n",
              "      <td>...</td>\n",
              "      <td>...</td>\n",
              "      <td>...</td>\n",
              "      <td>...</td>\n",
              "      <td>...</td>\n",
              "      <td>...</td>\n",
              "      <td>...</td>\n",
              "      <td>...</td>\n",
              "      <td>...</td>\n",
              "      <td>...</td>\n",
              "      <td>...</td>\n",
              "      <td>...</td>\n",
              "      <td>...</td>\n",
              "      <td>...</td>\n",
              "      <td>...</td>\n",
              "      <td>...</td>\n",
              "      <td>...</td>\n",
              "      <td>...</td>\n",
              "      <td>...</td>\n",
              "      <td>...</td>\n",
              "      <td>...</td>\n",
              "      <td>...</td>\n",
              "      <td>...</td>\n",
              "      <td>...</td>\n",
              "      <td>...</td>\n",
              "      <td>...</td>\n",
              "      <td>...</td>\n",
              "      <td>...</td>\n",
              "      <td>...</td>\n",
              "      <td>...</td>\n",
              "      <td>...</td>\n",
              "      <td>...</td>\n",
              "      <td>...</td>\n",
              "      <td>...</td>\n",
              "      <td>...</td>\n",
              "      <td>...</td>\n",
              "      <td>...</td>\n",
              "      <td>...</td>\n",
              "      <td>...</td>\n",
              "      <td>...</td>\n",
              "    </tr>\n",
              "    <tr>\n",
              "      <th>794991</th>\n",
              "      <td>2.862299</td>\n",
              "      <td>2.658984</td>\n",
              "      <td>-0.103392</td>\n",
              "      <td>-0.119479</td>\n",
              "      <td>-0.089339</td>\n",
              "      <td>0.644301</td>\n",
              "      <td>-0.079681</td>\n",
              "      <td>1.007958</td>\n",
              "      <td>-0.073005</td>\n",
              "      <td>-0.067413</td>\n",
              "      <td>-0.058171</td>\n",
              "      <td>-0.061071</td>\n",
              "      <td>-0.052073</td>\n",
              "      <td>-0.052086</td>\n",
              "      <td>-0.052572</td>\n",
              "      <td>-0.051332</td>\n",
              "      <td>-0.049913</td>\n",
              "      <td>-0.047263</td>\n",
              "      <td>-0.047001</td>\n",
              "      <td>-0.047011</td>\n",
              "      <td>3.074655</td>\n",
              "      <td>-0.096485</td>\n",
              "      <td>3.148812</td>\n",
              "      <td>-0.09434</td>\n",
              "      <td>-0.094632</td>\n",
              "      <td>3.140509</td>\n",
              "      <td>2.953143</td>\n",
              "      <td>-0.100589</td>\n",
              "      <td>2.972643</td>\n",
              "      <td>3.156585</td>\n",
              "      <td>2.973034</td>\n",
              "      <td>-0.094045</td>\n",
              "      <td>-0.099596</td>\n",
              "      <td>-0.099584</td>\n",
              "      <td>2.978121</td>\n",
              "      <td>-0.099366</td>\n",
              "      <td>1.259643</td>\n",
              "      <td>1.246107</td>\n",
              "      <td>0.923321</td>\n",
              "      <td>1.219699</td>\n",
              "      <td>-0.070856</td>\n",
              "      <td>1.221131</td>\n",
              "      <td>1.220850</td>\n",
              "      <td>1.262812</td>\n",
              "      <td>1.223069</td>\n",
              "      <td>-0.069169</td>\n",
              "      <td>-0.068978</td>\n",
              "      <td>-0.073065</td>\n",
              "      <td>-0.068841</td>\n",
              "      <td>-0.071707</td>\n",
              "      <td>-0.07167</td>\n",
              "      <td>-0.071577</td>\n",
              "      <td>0.141748</td>\n",
              "      <td>0.125036</td>\n",
              "    </tr>\n",
              "    <tr>\n",
              "      <th>794992</th>\n",
              "      <td>1.721358</td>\n",
              "      <td>1.579932</td>\n",
              "      <td>-0.103392</td>\n",
              "      <td>-0.119479</td>\n",
              "      <td>-0.089339</td>\n",
              "      <td>0.644301</td>\n",
              "      <td>-0.079681</td>\n",
              "      <td>1.007958</td>\n",
              "      <td>-0.073005</td>\n",
              "      <td>-0.067413</td>\n",
              "      <td>-0.058171</td>\n",
              "      <td>-0.061071</td>\n",
              "      <td>-0.052073</td>\n",
              "      <td>-0.052086</td>\n",
              "      <td>-0.052572</td>\n",
              "      <td>-0.051332</td>\n",
              "      <td>-0.049913</td>\n",
              "      <td>-0.047263</td>\n",
              "      <td>-0.047001</td>\n",
              "      <td>-0.047011</td>\n",
              "      <td>1.869351</td>\n",
              "      <td>-0.096485</td>\n",
              "      <td>1.921002</td>\n",
              "      <td>-0.09434</td>\n",
              "      <td>-0.094632</td>\n",
              "      <td>1.915180</td>\n",
              "      <td>1.784372</td>\n",
              "      <td>-0.100589</td>\n",
              "      <td>1.797909</td>\n",
              "      <td>1.926374</td>\n",
              "      <td>1.798186</td>\n",
              "      <td>-0.094045</td>\n",
              "      <td>-0.099596</td>\n",
              "      <td>-0.099584</td>\n",
              "      <td>1.801731</td>\n",
              "      <td>-0.099366</td>\n",
              "      <td>1.259643</td>\n",
              "      <td>1.246107</td>\n",
              "      <td>0.923321</td>\n",
              "      <td>1.219699</td>\n",
              "      <td>-0.070856</td>\n",
              "      <td>1.221131</td>\n",
              "      <td>1.220850</td>\n",
              "      <td>1.262812</td>\n",
              "      <td>1.223069</td>\n",
              "      <td>-0.069169</td>\n",
              "      <td>-0.068978</td>\n",
              "      <td>-0.073065</td>\n",
              "      <td>-0.068841</td>\n",
              "      <td>-0.071707</td>\n",
              "      <td>-0.07167</td>\n",
              "      <td>-0.071577</td>\n",
              "      <td>0.141748</td>\n",
              "      <td>0.125036</td>\n",
              "    </tr>\n",
              "    <tr>\n",
              "      <th>794993</th>\n",
              "      <td>-0.411706</td>\n",
              "      <td>-0.437425</td>\n",
              "      <td>-0.103392</td>\n",
              "      <td>-0.119479</td>\n",
              "      <td>-0.089339</td>\n",
              "      <td>-0.214284</td>\n",
              "      <td>-0.079681</td>\n",
              "      <td>-0.227749</td>\n",
              "      <td>-0.073005</td>\n",
              "      <td>-0.067413</td>\n",
              "      <td>-0.058171</td>\n",
              "      <td>-0.061071</td>\n",
              "      <td>-0.052073</td>\n",
              "      <td>-0.052086</td>\n",
              "      <td>-0.052572</td>\n",
              "      <td>-0.051332</td>\n",
              "      <td>-0.049913</td>\n",
              "      <td>-0.047263</td>\n",
              "      <td>-0.047001</td>\n",
              "      <td>-0.047011</td>\n",
              "      <td>-0.384043</td>\n",
              "      <td>-0.096485</td>\n",
              "      <td>-0.374468</td>\n",
              "      <td>-0.09434</td>\n",
              "      <td>-0.094632</td>\n",
              "      <td>-0.375653</td>\n",
              "      <td>-0.400721</td>\n",
              "      <td>-0.100589</td>\n",
              "      <td>-0.398333</td>\n",
              "      <td>-0.373585</td>\n",
              "      <td>-0.398269</td>\n",
              "      <td>-0.094045</td>\n",
              "      <td>-0.099596</td>\n",
              "      <td>-0.099584</td>\n",
              "      <td>-0.397608</td>\n",
              "      <td>-0.099366</td>\n",
              "      <td>-0.218006</td>\n",
              "      <td>-0.217501</td>\n",
              "      <td>-0.189519</td>\n",
              "      <td>-0.222642</td>\n",
              "      <td>-0.070856</td>\n",
              "      <td>-0.234407</td>\n",
              "      <td>-0.234458</td>\n",
              "      <td>-0.217328</td>\n",
              "      <td>-0.233941</td>\n",
              "      <td>-0.069169</td>\n",
              "      <td>-0.068978</td>\n",
              "      <td>-0.073065</td>\n",
              "      <td>-0.068841</td>\n",
              "      <td>-0.071707</td>\n",
              "      <td>-0.07167</td>\n",
              "      <td>-0.071577</td>\n",
              "      <td>0.141748</td>\n",
              "      <td>0.125036</td>\n",
              "    </tr>\n",
              "    <tr>\n",
              "      <th>794994</th>\n",
              "      <td>-0.411706</td>\n",
              "      <td>-0.437425</td>\n",
              "      <td>-0.103392</td>\n",
              "      <td>-0.119479</td>\n",
              "      <td>-0.089339</td>\n",
              "      <td>-0.214284</td>\n",
              "      <td>-0.079681</td>\n",
              "      <td>-0.227749</td>\n",
              "      <td>-0.073005</td>\n",
              "      <td>-0.067413</td>\n",
              "      <td>-0.058171</td>\n",
              "      <td>-0.061071</td>\n",
              "      <td>-0.052073</td>\n",
              "      <td>-0.052086</td>\n",
              "      <td>-0.052572</td>\n",
              "      <td>-0.051332</td>\n",
              "      <td>-0.049913</td>\n",
              "      <td>-0.047263</td>\n",
              "      <td>-0.047001</td>\n",
              "      <td>-0.047011</td>\n",
              "      <td>-0.384043</td>\n",
              "      <td>-0.096485</td>\n",
              "      <td>-0.374468</td>\n",
              "      <td>-0.09434</td>\n",
              "      <td>-0.094632</td>\n",
              "      <td>-0.375653</td>\n",
              "      <td>-0.400721</td>\n",
              "      <td>-0.100589</td>\n",
              "      <td>-0.398333</td>\n",
              "      <td>-0.373585</td>\n",
              "      <td>-0.398269</td>\n",
              "      <td>-0.094045</td>\n",
              "      <td>-0.099596</td>\n",
              "      <td>-0.099584</td>\n",
              "      <td>-0.397608</td>\n",
              "      <td>-0.099366</td>\n",
              "      <td>-0.218006</td>\n",
              "      <td>-0.217501</td>\n",
              "      <td>-0.189519</td>\n",
              "      <td>-0.222642</td>\n",
              "      <td>-0.070856</td>\n",
              "      <td>-0.234407</td>\n",
              "      <td>-0.234458</td>\n",
              "      <td>-0.217328</td>\n",
              "      <td>-0.233941</td>\n",
              "      <td>-0.069169</td>\n",
              "      <td>-0.068978</td>\n",
              "      <td>-0.073065</td>\n",
              "      <td>-0.068841</td>\n",
              "      <td>-0.071707</td>\n",
              "      <td>-0.07167</td>\n",
              "      <td>-0.071577</td>\n",
              "      <td>0.141748</td>\n",
              "      <td>0.125036</td>\n",
              "    </tr>\n",
              "    <tr>\n",
              "      <th>794995</th>\n",
              "      <td>-0.411706</td>\n",
              "      <td>-0.437425</td>\n",
              "      <td>-0.103392</td>\n",
              "      <td>-0.119479</td>\n",
              "      <td>-0.089339</td>\n",
              "      <td>-0.214284</td>\n",
              "      <td>-0.079681</td>\n",
              "      <td>-0.227749</td>\n",
              "      <td>-0.073005</td>\n",
              "      <td>-0.067413</td>\n",
              "      <td>-0.058171</td>\n",
              "      <td>-0.061071</td>\n",
              "      <td>-0.052073</td>\n",
              "      <td>-0.052086</td>\n",
              "      <td>-0.052572</td>\n",
              "      <td>-0.051332</td>\n",
              "      <td>-0.049913</td>\n",
              "      <td>-0.047263</td>\n",
              "      <td>-0.047001</td>\n",
              "      <td>-0.047011</td>\n",
              "      <td>-0.384043</td>\n",
              "      <td>-0.096485</td>\n",
              "      <td>-0.374468</td>\n",
              "      <td>-0.09434</td>\n",
              "      <td>-0.094632</td>\n",
              "      <td>-0.375653</td>\n",
              "      <td>-0.400721</td>\n",
              "      <td>-0.100589</td>\n",
              "      <td>-0.398333</td>\n",
              "      <td>-0.373585</td>\n",
              "      <td>-0.398269</td>\n",
              "      <td>-0.094045</td>\n",
              "      <td>-0.099596</td>\n",
              "      <td>-0.099584</td>\n",
              "      <td>-0.397608</td>\n",
              "      <td>-0.099366</td>\n",
              "      <td>-0.218006</td>\n",
              "      <td>-0.217501</td>\n",
              "      <td>-0.189519</td>\n",
              "      <td>-0.222642</td>\n",
              "      <td>-0.070856</td>\n",
              "      <td>-0.234407</td>\n",
              "      <td>-0.234458</td>\n",
              "      <td>-0.217328</td>\n",
              "      <td>-0.233941</td>\n",
              "      <td>-0.069169</td>\n",
              "      <td>-0.068978</td>\n",
              "      <td>-0.073065</td>\n",
              "      <td>-0.068841</td>\n",
              "      <td>-0.071707</td>\n",
              "      <td>-0.07167</td>\n",
              "      <td>-0.071577</td>\n",
              "      <td>0.141748</td>\n",
              "      <td>0.125036</td>\n",
              "    </tr>\n",
              "  </tbody>\n",
              "</table>\n",
              "<p>794996 rows × 54 columns</p>\n",
              "</div>"
            ],
            "text/plain": [
              "        fulladdress_days_since_last_seen  ...  fulladdress_1_count_fulladdress_14_count_Ave\n",
              "0                              -0.411706  ...                                      0.125036\n",
              "1                              -0.411706  ...                                      0.125036\n",
              "2                              -0.411706  ...                                      0.125036\n",
              "3                              -0.411706  ...                                      0.125036\n",
              "4                              -0.411706  ...                                      0.125036\n",
              "...                                  ...  ...                                           ...\n",
              "794991                          2.862299  ...                                      0.125036\n",
              "794992                          1.721358  ...                                      0.125036\n",
              "794993                         -0.411706  ...                                      0.125036\n",
              "794994                         -0.411706  ...                                      0.125036\n",
              "794995                         -0.411706  ...                                      0.125036\n",
              "\n",
              "[794996 rows x 54 columns]"
            ]
          },
          "metadata": {
            "tags": []
          },
          "execution_count": 42
        }
      ]
    },
    {
      "cell_type": "code",
      "metadata": {
        "id": "OmyXgtVCnQG3",
        "colab_type": "code",
        "colab": {}
      },
      "source": [
        "vars_keep=zmydatatrain[vars_keep]"
      ],
      "execution_count": 0,
      "outputs": []
    },
    {
      "cell_type": "code",
      "metadata": {
        "id": "KFTHrrSdnQG5",
        "colab_type": "code",
        "outputId": "e34ad63b-b2b8-495f-84cd-bb355a6dd58f",
        "colab": {
          "base_uri": "https://localhost:8080/",
          "height": 33
        }
      },
      "source": [
        "len(vars_keep)"
      ],
      "execution_count": 0,
      "outputs": [
        {
          "output_type": "execute_result",
          "data": {
            "text/plain": [
              "794996"
            ]
          },
          "metadata": {
            "tags": []
          },
          "execution_count": 44
        }
      ]
    },
    {
      "cell_type": "markdown",
      "metadata": {
        "id": "6xMFTyQ1nQG7",
        "colab_type": "text"
      },
      "source": [
        "#### Wrappers are highly sensitive to change of data: fluctuation / variation"
      ]
    },
    {
      "cell_type": "code",
      "metadata": {
        "scrolled": true,
        "id": "xwS5D4XvnQG8",
        "colab_type": "code",
        "colab": {}
      },
      "source": [
        "from sklearn.linear_model import LogisticRegression\n",
        "from sklearn.feature_selection import RFECV\n",
        "\n",
        "model = LogisticRegression()\n",
        "rfecv = RFECV(estimator=model, step=1, cv=2, verbose=3, n_jobs=-1, scoring='roc_auc')"
      ],
      "execution_count": 0,
      "outputs": []
    },
    {
      "cell_type": "code",
      "metadata": {
        "id": "7uqBJgrgnQG-",
        "colab_type": "code",
        "outputId": "5ec97cf8-b722-4ac8-c4be-0fc556af2666",
        "colab": {
          "base_uri": "https://localhost:8080/",
          "height": 33
        }
      },
      "source": [
        "Y = np.array(zmydatatrain['fraud_label']).reshape(-1, 1)\n",
        "Y.shape"
      ],
      "execution_count": 0,
      "outputs": [
        {
          "output_type": "execute_result",
          "data": {
            "text/plain": [
              "(794996, 1)"
            ]
          },
          "metadata": {
            "tags": []
          },
          "execution_count": 46
        }
      ]
    },
    {
      "cell_type": "code",
      "metadata": {
        "id": "sh_Fko42nQHD",
        "colab_type": "code",
        "colab": {}
      },
      "source": [
        "## Capping some variables "
      ],
      "execution_count": 0,
      "outputs": []
    },
    {
      "cell_type": "code",
      "metadata": {
        "id": "e811eFu5oA7j",
        "colab_type": "code",
        "outputId": "a7839ccf-427f-4d98-c067-a6e398b6a241",
        "colab": {
          "base_uri": "https://localhost:8080/",
          "height": 411
        }
      },
      "source": [
        "vars_keep"
      ],
      "execution_count": 0,
      "outputs": [
        {
          "output_type": "execute_result",
          "data": {
            "text/html": [
              "<div>\n",
              "<style scoped>\n",
              "    .dataframe tbody tr th:only-of-type {\n",
              "        vertical-align: middle;\n",
              "    }\n",
              "\n",
              "    .dataframe tbody tr th {\n",
              "        vertical-align: top;\n",
              "    }\n",
              "\n",
              "    .dataframe thead th {\n",
              "        text-align: right;\n",
              "    }\n",
              "</style>\n",
              "<table border=\"1\" class=\"dataframe\">\n",
              "  <thead>\n",
              "    <tr style=\"text-align: right;\">\n",
              "      <th></th>\n",
              "      <th>fulladdress_days_since_last_seen</th>\n",
              "      <th>address_days_since_last_seen</th>\n",
              "      <th>fulladdress_count30_date</th>\n",
              "      <th>address_count30_date</th>\n",
              "      <th>address_count14_date</th>\n",
              "      <th>address_count180_date</th>\n",
              "      <th>fulladdress_count14_date</th>\n",
              "      <th>fulladdress_count180_date</th>\n",
              "      <th>address_count7_date</th>\n",
              "      <th>fulladdress_count7_date</th>\n",
              "      <th>fulladdress_count3_date</th>\n",
              "      <th>address_count3_date</th>\n",
              "      <th>fulladdress_nunique3_ssn</th>\n",
              "      <th>fulladdress_nunique3_ssnfname</th>\n",
              "      <th>fulladdress_nunique3_dob</th>\n",
              "      <th>address_count1_date</th>\n",
              "      <th>fulladdress_count1_date</th>\n",
              "      <th>fulladdress_nunique1_dob</th>\n",
              "      <th>fulladdress_nunique1_ssn</th>\n",
              "      <th>fulladdress_nunique1_ssnfname</th>\n",
              "      <th>fulladdresshomephone_days_since_last_seen</th>\n",
              "      <th>fulladdresshomephone_count30_date</th>\n",
              "      <th>ssndob_days_since_last_seen</th>\n",
              "      <th>ssndob_count30_date</th>\n",
              "      <th>namedob_count30_date</th>\n",
              "      <th>namedob_days_since_last_seen</th>\n",
              "      <th>ssn_days_since_last_seen</th>\n",
              "      <th>ssn_count30_date</th>\n",
              "      <th>ssnfname_days_since_last_seen</th>\n",
              "      <th>ssnnamedob_days_since_last_seen</th>\n",
              "      <th>ssnlname_days_since_last_seen</th>\n",
              "      <th>ssnnamedob_count30_date</th>\n",
              "      <th>ssnfname_count30_date</th>\n",
              "      <th>ssnlname_count30_date</th>\n",
              "      <th>ssnfullname_days_since_last_seen</th>\n",
              "      <th>ssnfullname_count30_date</th>\n",
              "      <th>ssndob_count180_date</th>\n",
              "      <th>namedob_count180_date</th>\n",
              "      <th>ssn_count180_date</th>\n",
              "      <th>fulladdresshomephone_count180_date</th>\n",
              "      <th>fulladdresshomephone_count14_date</th>\n",
              "      <th>ssnlname_count180_date</th>\n",
              "      <th>ssnfname_count180_date</th>\n",
              "      <th>ssnnamedob_count180_date</th>\n",
              "      <th>ssnfullname_count180_date</th>\n",
              "      <th>namedob_count14_date</th>\n",
              "      <th>ssndob_count14_date</th>\n",
              "      <th>ssn_count14_date</th>\n",
              "      <th>ssnnamedob_count14_date</th>\n",
              "      <th>ssnfname_count14_date</th>\n",
              "      <th>ssnlname_count14_date</th>\n",
              "      <th>ssnfullname_count14_date</th>\n",
              "      <th>address_1_count_address_14_count_Ave</th>\n",
              "      <th>fulladdress_1_count_fulladdress_14_count_Ave</th>\n",
              "    </tr>\n",
              "  </thead>\n",
              "  <tbody>\n",
              "    <tr>\n",
              "      <th>0</th>\n",
              "      <td>-0.411706</td>\n",
              "      <td>-0.437425</td>\n",
              "      <td>-0.103392</td>\n",
              "      <td>-0.119479</td>\n",
              "      <td>-0.089339</td>\n",
              "      <td>-0.214284</td>\n",
              "      <td>-0.079681</td>\n",
              "      <td>-0.227749</td>\n",
              "      <td>-0.073005</td>\n",
              "      <td>-0.067413</td>\n",
              "      <td>-0.058171</td>\n",
              "      <td>-0.061071</td>\n",
              "      <td>-0.052073</td>\n",
              "      <td>-0.052086</td>\n",
              "      <td>-0.052572</td>\n",
              "      <td>-0.051332</td>\n",
              "      <td>-0.049913</td>\n",
              "      <td>-0.047263</td>\n",
              "      <td>-0.047001</td>\n",
              "      <td>-0.047011</td>\n",
              "      <td>-0.384043</td>\n",
              "      <td>-0.096485</td>\n",
              "      <td>-0.374468</td>\n",
              "      <td>-0.09434</td>\n",
              "      <td>-0.094632</td>\n",
              "      <td>-0.375653</td>\n",
              "      <td>-0.400721</td>\n",
              "      <td>-0.100589</td>\n",
              "      <td>-0.398333</td>\n",
              "      <td>-0.373585</td>\n",
              "      <td>-0.398269</td>\n",
              "      <td>-0.094045</td>\n",
              "      <td>-0.099596</td>\n",
              "      <td>-0.099584</td>\n",
              "      <td>-0.397608</td>\n",
              "      <td>-0.099366</td>\n",
              "      <td>-0.218006</td>\n",
              "      <td>-0.217501</td>\n",
              "      <td>-0.189519</td>\n",
              "      <td>-0.222642</td>\n",
              "      <td>-0.070856</td>\n",
              "      <td>-0.234407</td>\n",
              "      <td>-0.234458</td>\n",
              "      <td>-0.217328</td>\n",
              "      <td>-0.233941</td>\n",
              "      <td>-0.069169</td>\n",
              "      <td>-0.068978</td>\n",
              "      <td>-0.073065</td>\n",
              "      <td>-0.068841</td>\n",
              "      <td>-0.071707</td>\n",
              "      <td>-0.07167</td>\n",
              "      <td>-0.071577</td>\n",
              "      <td>0.141748</td>\n",
              "      <td>0.125036</td>\n",
              "    </tr>\n",
              "    <tr>\n",
              "      <th>1</th>\n",
              "      <td>-0.411706</td>\n",
              "      <td>-0.437425</td>\n",
              "      <td>-0.103392</td>\n",
              "      <td>-0.119479</td>\n",
              "      <td>-0.089339</td>\n",
              "      <td>-0.214284</td>\n",
              "      <td>-0.079681</td>\n",
              "      <td>-0.227749</td>\n",
              "      <td>-0.073005</td>\n",
              "      <td>-0.067413</td>\n",
              "      <td>-0.058171</td>\n",
              "      <td>-0.061071</td>\n",
              "      <td>-0.052073</td>\n",
              "      <td>-0.052086</td>\n",
              "      <td>-0.052572</td>\n",
              "      <td>-0.051332</td>\n",
              "      <td>-0.049913</td>\n",
              "      <td>-0.047263</td>\n",
              "      <td>-0.047001</td>\n",
              "      <td>-0.047011</td>\n",
              "      <td>-0.384043</td>\n",
              "      <td>-0.096485</td>\n",
              "      <td>-0.374468</td>\n",
              "      <td>-0.09434</td>\n",
              "      <td>-0.094632</td>\n",
              "      <td>-0.375653</td>\n",
              "      <td>-0.400721</td>\n",
              "      <td>-0.100589</td>\n",
              "      <td>-0.398333</td>\n",
              "      <td>-0.373585</td>\n",
              "      <td>-0.398269</td>\n",
              "      <td>-0.094045</td>\n",
              "      <td>-0.099596</td>\n",
              "      <td>-0.099584</td>\n",
              "      <td>-0.397608</td>\n",
              "      <td>-0.099366</td>\n",
              "      <td>-0.218006</td>\n",
              "      <td>-0.217501</td>\n",
              "      <td>-0.189519</td>\n",
              "      <td>-0.222642</td>\n",
              "      <td>-0.070856</td>\n",
              "      <td>-0.234407</td>\n",
              "      <td>-0.234458</td>\n",
              "      <td>-0.217328</td>\n",
              "      <td>-0.233941</td>\n",
              "      <td>-0.069169</td>\n",
              "      <td>-0.068978</td>\n",
              "      <td>-0.073065</td>\n",
              "      <td>-0.068841</td>\n",
              "      <td>-0.071707</td>\n",
              "      <td>-0.07167</td>\n",
              "      <td>-0.071577</td>\n",
              "      <td>0.141748</td>\n",
              "      <td>0.125036</td>\n",
              "    </tr>\n",
              "    <tr>\n",
              "      <th>2</th>\n",
              "      <td>-0.411706</td>\n",
              "      <td>-0.437425</td>\n",
              "      <td>-0.103392</td>\n",
              "      <td>-0.119479</td>\n",
              "      <td>-0.089339</td>\n",
              "      <td>-0.214284</td>\n",
              "      <td>-0.079681</td>\n",
              "      <td>-0.227749</td>\n",
              "      <td>-0.073005</td>\n",
              "      <td>-0.067413</td>\n",
              "      <td>-0.058171</td>\n",
              "      <td>-0.061071</td>\n",
              "      <td>-0.052073</td>\n",
              "      <td>-0.052086</td>\n",
              "      <td>-0.052572</td>\n",
              "      <td>-0.051332</td>\n",
              "      <td>-0.049913</td>\n",
              "      <td>-0.047263</td>\n",
              "      <td>-0.047001</td>\n",
              "      <td>-0.047011</td>\n",
              "      <td>-0.384043</td>\n",
              "      <td>-0.096485</td>\n",
              "      <td>-0.374468</td>\n",
              "      <td>-0.09434</td>\n",
              "      <td>-0.094632</td>\n",
              "      <td>-0.375653</td>\n",
              "      <td>-0.400721</td>\n",
              "      <td>-0.100589</td>\n",
              "      <td>-0.398333</td>\n",
              "      <td>-0.373585</td>\n",
              "      <td>-0.398269</td>\n",
              "      <td>-0.094045</td>\n",
              "      <td>-0.099596</td>\n",
              "      <td>-0.099584</td>\n",
              "      <td>-0.397608</td>\n",
              "      <td>-0.099366</td>\n",
              "      <td>-0.218006</td>\n",
              "      <td>-0.217501</td>\n",
              "      <td>-0.189519</td>\n",
              "      <td>-0.222642</td>\n",
              "      <td>-0.070856</td>\n",
              "      <td>-0.234407</td>\n",
              "      <td>-0.234458</td>\n",
              "      <td>-0.217328</td>\n",
              "      <td>-0.233941</td>\n",
              "      <td>-0.069169</td>\n",
              "      <td>-0.068978</td>\n",
              "      <td>-0.073065</td>\n",
              "      <td>-0.068841</td>\n",
              "      <td>-0.071707</td>\n",
              "      <td>-0.07167</td>\n",
              "      <td>-0.071577</td>\n",
              "      <td>0.141748</td>\n",
              "      <td>0.125036</td>\n",
              "    </tr>\n",
              "    <tr>\n",
              "      <th>3</th>\n",
              "      <td>-0.411706</td>\n",
              "      <td>-0.437425</td>\n",
              "      <td>-0.103392</td>\n",
              "      <td>-0.119479</td>\n",
              "      <td>-0.089339</td>\n",
              "      <td>-0.214284</td>\n",
              "      <td>-0.079681</td>\n",
              "      <td>-0.227749</td>\n",
              "      <td>-0.073005</td>\n",
              "      <td>-0.067413</td>\n",
              "      <td>-0.058171</td>\n",
              "      <td>-0.061071</td>\n",
              "      <td>-0.052073</td>\n",
              "      <td>-0.052086</td>\n",
              "      <td>-0.052572</td>\n",
              "      <td>-0.051332</td>\n",
              "      <td>-0.049913</td>\n",
              "      <td>-0.047263</td>\n",
              "      <td>-0.047001</td>\n",
              "      <td>-0.047011</td>\n",
              "      <td>-0.384043</td>\n",
              "      <td>-0.096485</td>\n",
              "      <td>-0.374468</td>\n",
              "      <td>-0.09434</td>\n",
              "      <td>-0.094632</td>\n",
              "      <td>-0.375653</td>\n",
              "      <td>-0.400721</td>\n",
              "      <td>-0.100589</td>\n",
              "      <td>-0.398333</td>\n",
              "      <td>-0.373585</td>\n",
              "      <td>-0.398269</td>\n",
              "      <td>-0.094045</td>\n",
              "      <td>-0.099596</td>\n",
              "      <td>-0.099584</td>\n",
              "      <td>-0.397608</td>\n",
              "      <td>-0.099366</td>\n",
              "      <td>-0.218006</td>\n",
              "      <td>-0.217501</td>\n",
              "      <td>-0.189519</td>\n",
              "      <td>-0.222642</td>\n",
              "      <td>-0.070856</td>\n",
              "      <td>-0.234407</td>\n",
              "      <td>-0.234458</td>\n",
              "      <td>-0.217328</td>\n",
              "      <td>-0.233941</td>\n",
              "      <td>-0.069169</td>\n",
              "      <td>-0.068978</td>\n",
              "      <td>-0.073065</td>\n",
              "      <td>-0.068841</td>\n",
              "      <td>-0.071707</td>\n",
              "      <td>-0.07167</td>\n",
              "      <td>-0.071577</td>\n",
              "      <td>0.141748</td>\n",
              "      <td>0.125036</td>\n",
              "    </tr>\n",
              "    <tr>\n",
              "      <th>4</th>\n",
              "      <td>-0.411706</td>\n",
              "      <td>-0.437425</td>\n",
              "      <td>-0.103392</td>\n",
              "      <td>-0.119479</td>\n",
              "      <td>-0.089339</td>\n",
              "      <td>-0.214284</td>\n",
              "      <td>-0.079681</td>\n",
              "      <td>-0.227749</td>\n",
              "      <td>-0.073005</td>\n",
              "      <td>-0.067413</td>\n",
              "      <td>-0.058171</td>\n",
              "      <td>-0.061071</td>\n",
              "      <td>-0.052073</td>\n",
              "      <td>-0.052086</td>\n",
              "      <td>-0.052572</td>\n",
              "      <td>-0.051332</td>\n",
              "      <td>-0.049913</td>\n",
              "      <td>-0.047263</td>\n",
              "      <td>-0.047001</td>\n",
              "      <td>-0.047011</td>\n",
              "      <td>-0.384043</td>\n",
              "      <td>-0.096485</td>\n",
              "      <td>-0.374468</td>\n",
              "      <td>-0.09434</td>\n",
              "      <td>-0.094632</td>\n",
              "      <td>-0.375653</td>\n",
              "      <td>-0.400721</td>\n",
              "      <td>-0.100589</td>\n",
              "      <td>-0.398333</td>\n",
              "      <td>-0.373585</td>\n",
              "      <td>-0.398269</td>\n",
              "      <td>-0.094045</td>\n",
              "      <td>-0.099596</td>\n",
              "      <td>-0.099584</td>\n",
              "      <td>-0.397608</td>\n",
              "      <td>-0.099366</td>\n",
              "      <td>-0.218006</td>\n",
              "      <td>-0.217501</td>\n",
              "      <td>-0.189519</td>\n",
              "      <td>-0.222642</td>\n",
              "      <td>-0.070856</td>\n",
              "      <td>-0.234407</td>\n",
              "      <td>-0.234458</td>\n",
              "      <td>-0.217328</td>\n",
              "      <td>-0.233941</td>\n",
              "      <td>-0.069169</td>\n",
              "      <td>-0.068978</td>\n",
              "      <td>-0.073065</td>\n",
              "      <td>-0.068841</td>\n",
              "      <td>-0.071707</td>\n",
              "      <td>-0.07167</td>\n",
              "      <td>-0.071577</td>\n",
              "      <td>0.141748</td>\n",
              "      <td>0.125036</td>\n",
              "    </tr>\n",
              "    <tr>\n",
              "      <th>...</th>\n",
              "      <td>...</td>\n",
              "      <td>...</td>\n",
              "      <td>...</td>\n",
              "      <td>...</td>\n",
              "      <td>...</td>\n",
              "      <td>...</td>\n",
              "      <td>...</td>\n",
              "      <td>...</td>\n",
              "      <td>...</td>\n",
              "      <td>...</td>\n",
              "      <td>...</td>\n",
              "      <td>...</td>\n",
              "      <td>...</td>\n",
              "      <td>...</td>\n",
              "      <td>...</td>\n",
              "      <td>...</td>\n",
              "      <td>...</td>\n",
              "      <td>...</td>\n",
              "      <td>...</td>\n",
              "      <td>...</td>\n",
              "      <td>...</td>\n",
              "      <td>...</td>\n",
              "      <td>...</td>\n",
              "      <td>...</td>\n",
              "      <td>...</td>\n",
              "      <td>...</td>\n",
              "      <td>...</td>\n",
              "      <td>...</td>\n",
              "      <td>...</td>\n",
              "      <td>...</td>\n",
              "      <td>...</td>\n",
              "      <td>...</td>\n",
              "      <td>...</td>\n",
              "      <td>...</td>\n",
              "      <td>...</td>\n",
              "      <td>...</td>\n",
              "      <td>...</td>\n",
              "      <td>...</td>\n",
              "      <td>...</td>\n",
              "      <td>...</td>\n",
              "      <td>...</td>\n",
              "      <td>...</td>\n",
              "      <td>...</td>\n",
              "      <td>...</td>\n",
              "      <td>...</td>\n",
              "      <td>...</td>\n",
              "      <td>...</td>\n",
              "      <td>...</td>\n",
              "      <td>...</td>\n",
              "      <td>...</td>\n",
              "      <td>...</td>\n",
              "      <td>...</td>\n",
              "      <td>...</td>\n",
              "      <td>...</td>\n",
              "    </tr>\n",
              "    <tr>\n",
              "      <th>794991</th>\n",
              "      <td>2.862299</td>\n",
              "      <td>2.658984</td>\n",
              "      <td>-0.103392</td>\n",
              "      <td>-0.119479</td>\n",
              "      <td>-0.089339</td>\n",
              "      <td>0.644301</td>\n",
              "      <td>-0.079681</td>\n",
              "      <td>1.007958</td>\n",
              "      <td>-0.073005</td>\n",
              "      <td>-0.067413</td>\n",
              "      <td>-0.058171</td>\n",
              "      <td>-0.061071</td>\n",
              "      <td>-0.052073</td>\n",
              "      <td>-0.052086</td>\n",
              "      <td>-0.052572</td>\n",
              "      <td>-0.051332</td>\n",
              "      <td>-0.049913</td>\n",
              "      <td>-0.047263</td>\n",
              "      <td>-0.047001</td>\n",
              "      <td>-0.047011</td>\n",
              "      <td>3.074655</td>\n",
              "      <td>-0.096485</td>\n",
              "      <td>3.148812</td>\n",
              "      <td>-0.09434</td>\n",
              "      <td>-0.094632</td>\n",
              "      <td>3.140509</td>\n",
              "      <td>2.953143</td>\n",
              "      <td>-0.100589</td>\n",
              "      <td>2.972643</td>\n",
              "      <td>3.156585</td>\n",
              "      <td>2.973034</td>\n",
              "      <td>-0.094045</td>\n",
              "      <td>-0.099596</td>\n",
              "      <td>-0.099584</td>\n",
              "      <td>2.978121</td>\n",
              "      <td>-0.099366</td>\n",
              "      <td>1.259643</td>\n",
              "      <td>1.246107</td>\n",
              "      <td>0.923321</td>\n",
              "      <td>1.219699</td>\n",
              "      <td>-0.070856</td>\n",
              "      <td>1.221131</td>\n",
              "      <td>1.220850</td>\n",
              "      <td>1.262812</td>\n",
              "      <td>1.223069</td>\n",
              "      <td>-0.069169</td>\n",
              "      <td>-0.068978</td>\n",
              "      <td>-0.073065</td>\n",
              "      <td>-0.068841</td>\n",
              "      <td>-0.071707</td>\n",
              "      <td>-0.07167</td>\n",
              "      <td>-0.071577</td>\n",
              "      <td>0.141748</td>\n",
              "      <td>0.125036</td>\n",
              "    </tr>\n",
              "    <tr>\n",
              "      <th>794992</th>\n",
              "      <td>1.721358</td>\n",
              "      <td>1.579932</td>\n",
              "      <td>-0.103392</td>\n",
              "      <td>-0.119479</td>\n",
              "      <td>-0.089339</td>\n",
              "      <td>0.644301</td>\n",
              "      <td>-0.079681</td>\n",
              "      <td>1.007958</td>\n",
              "      <td>-0.073005</td>\n",
              "      <td>-0.067413</td>\n",
              "      <td>-0.058171</td>\n",
              "      <td>-0.061071</td>\n",
              "      <td>-0.052073</td>\n",
              "      <td>-0.052086</td>\n",
              "      <td>-0.052572</td>\n",
              "      <td>-0.051332</td>\n",
              "      <td>-0.049913</td>\n",
              "      <td>-0.047263</td>\n",
              "      <td>-0.047001</td>\n",
              "      <td>-0.047011</td>\n",
              "      <td>1.869351</td>\n",
              "      <td>-0.096485</td>\n",
              "      <td>1.921002</td>\n",
              "      <td>-0.09434</td>\n",
              "      <td>-0.094632</td>\n",
              "      <td>1.915180</td>\n",
              "      <td>1.784372</td>\n",
              "      <td>-0.100589</td>\n",
              "      <td>1.797909</td>\n",
              "      <td>1.926374</td>\n",
              "      <td>1.798186</td>\n",
              "      <td>-0.094045</td>\n",
              "      <td>-0.099596</td>\n",
              "      <td>-0.099584</td>\n",
              "      <td>1.801731</td>\n",
              "      <td>-0.099366</td>\n",
              "      <td>1.259643</td>\n",
              "      <td>1.246107</td>\n",
              "      <td>0.923321</td>\n",
              "      <td>1.219699</td>\n",
              "      <td>-0.070856</td>\n",
              "      <td>1.221131</td>\n",
              "      <td>1.220850</td>\n",
              "      <td>1.262812</td>\n",
              "      <td>1.223069</td>\n",
              "      <td>-0.069169</td>\n",
              "      <td>-0.068978</td>\n",
              "      <td>-0.073065</td>\n",
              "      <td>-0.068841</td>\n",
              "      <td>-0.071707</td>\n",
              "      <td>-0.07167</td>\n",
              "      <td>-0.071577</td>\n",
              "      <td>0.141748</td>\n",
              "      <td>0.125036</td>\n",
              "    </tr>\n",
              "    <tr>\n",
              "      <th>794993</th>\n",
              "      <td>-0.411706</td>\n",
              "      <td>-0.437425</td>\n",
              "      <td>-0.103392</td>\n",
              "      <td>-0.119479</td>\n",
              "      <td>-0.089339</td>\n",
              "      <td>-0.214284</td>\n",
              "      <td>-0.079681</td>\n",
              "      <td>-0.227749</td>\n",
              "      <td>-0.073005</td>\n",
              "      <td>-0.067413</td>\n",
              "      <td>-0.058171</td>\n",
              "      <td>-0.061071</td>\n",
              "      <td>-0.052073</td>\n",
              "      <td>-0.052086</td>\n",
              "      <td>-0.052572</td>\n",
              "      <td>-0.051332</td>\n",
              "      <td>-0.049913</td>\n",
              "      <td>-0.047263</td>\n",
              "      <td>-0.047001</td>\n",
              "      <td>-0.047011</td>\n",
              "      <td>-0.384043</td>\n",
              "      <td>-0.096485</td>\n",
              "      <td>-0.374468</td>\n",
              "      <td>-0.09434</td>\n",
              "      <td>-0.094632</td>\n",
              "      <td>-0.375653</td>\n",
              "      <td>-0.400721</td>\n",
              "      <td>-0.100589</td>\n",
              "      <td>-0.398333</td>\n",
              "      <td>-0.373585</td>\n",
              "      <td>-0.398269</td>\n",
              "      <td>-0.094045</td>\n",
              "      <td>-0.099596</td>\n",
              "      <td>-0.099584</td>\n",
              "      <td>-0.397608</td>\n",
              "      <td>-0.099366</td>\n",
              "      <td>-0.218006</td>\n",
              "      <td>-0.217501</td>\n",
              "      <td>-0.189519</td>\n",
              "      <td>-0.222642</td>\n",
              "      <td>-0.070856</td>\n",
              "      <td>-0.234407</td>\n",
              "      <td>-0.234458</td>\n",
              "      <td>-0.217328</td>\n",
              "      <td>-0.233941</td>\n",
              "      <td>-0.069169</td>\n",
              "      <td>-0.068978</td>\n",
              "      <td>-0.073065</td>\n",
              "      <td>-0.068841</td>\n",
              "      <td>-0.071707</td>\n",
              "      <td>-0.07167</td>\n",
              "      <td>-0.071577</td>\n",
              "      <td>0.141748</td>\n",
              "      <td>0.125036</td>\n",
              "    </tr>\n",
              "    <tr>\n",
              "      <th>794994</th>\n",
              "      <td>-0.411706</td>\n",
              "      <td>-0.437425</td>\n",
              "      <td>-0.103392</td>\n",
              "      <td>-0.119479</td>\n",
              "      <td>-0.089339</td>\n",
              "      <td>-0.214284</td>\n",
              "      <td>-0.079681</td>\n",
              "      <td>-0.227749</td>\n",
              "      <td>-0.073005</td>\n",
              "      <td>-0.067413</td>\n",
              "      <td>-0.058171</td>\n",
              "      <td>-0.061071</td>\n",
              "      <td>-0.052073</td>\n",
              "      <td>-0.052086</td>\n",
              "      <td>-0.052572</td>\n",
              "      <td>-0.051332</td>\n",
              "      <td>-0.049913</td>\n",
              "      <td>-0.047263</td>\n",
              "      <td>-0.047001</td>\n",
              "      <td>-0.047011</td>\n",
              "      <td>-0.384043</td>\n",
              "      <td>-0.096485</td>\n",
              "      <td>-0.374468</td>\n",
              "      <td>-0.09434</td>\n",
              "      <td>-0.094632</td>\n",
              "      <td>-0.375653</td>\n",
              "      <td>-0.400721</td>\n",
              "      <td>-0.100589</td>\n",
              "      <td>-0.398333</td>\n",
              "      <td>-0.373585</td>\n",
              "      <td>-0.398269</td>\n",
              "      <td>-0.094045</td>\n",
              "      <td>-0.099596</td>\n",
              "      <td>-0.099584</td>\n",
              "      <td>-0.397608</td>\n",
              "      <td>-0.099366</td>\n",
              "      <td>-0.218006</td>\n",
              "      <td>-0.217501</td>\n",
              "      <td>-0.189519</td>\n",
              "      <td>-0.222642</td>\n",
              "      <td>-0.070856</td>\n",
              "      <td>-0.234407</td>\n",
              "      <td>-0.234458</td>\n",
              "      <td>-0.217328</td>\n",
              "      <td>-0.233941</td>\n",
              "      <td>-0.069169</td>\n",
              "      <td>-0.068978</td>\n",
              "      <td>-0.073065</td>\n",
              "      <td>-0.068841</td>\n",
              "      <td>-0.071707</td>\n",
              "      <td>-0.07167</td>\n",
              "      <td>-0.071577</td>\n",
              "      <td>0.141748</td>\n",
              "      <td>0.125036</td>\n",
              "    </tr>\n",
              "    <tr>\n",
              "      <th>794995</th>\n",
              "      <td>-0.411706</td>\n",
              "      <td>-0.437425</td>\n",
              "      <td>-0.103392</td>\n",
              "      <td>-0.119479</td>\n",
              "      <td>-0.089339</td>\n",
              "      <td>-0.214284</td>\n",
              "      <td>-0.079681</td>\n",
              "      <td>-0.227749</td>\n",
              "      <td>-0.073005</td>\n",
              "      <td>-0.067413</td>\n",
              "      <td>-0.058171</td>\n",
              "      <td>-0.061071</td>\n",
              "      <td>-0.052073</td>\n",
              "      <td>-0.052086</td>\n",
              "      <td>-0.052572</td>\n",
              "      <td>-0.051332</td>\n",
              "      <td>-0.049913</td>\n",
              "      <td>-0.047263</td>\n",
              "      <td>-0.047001</td>\n",
              "      <td>-0.047011</td>\n",
              "      <td>-0.384043</td>\n",
              "      <td>-0.096485</td>\n",
              "      <td>-0.374468</td>\n",
              "      <td>-0.09434</td>\n",
              "      <td>-0.094632</td>\n",
              "      <td>-0.375653</td>\n",
              "      <td>-0.400721</td>\n",
              "      <td>-0.100589</td>\n",
              "      <td>-0.398333</td>\n",
              "      <td>-0.373585</td>\n",
              "      <td>-0.398269</td>\n",
              "      <td>-0.094045</td>\n",
              "      <td>-0.099596</td>\n",
              "      <td>-0.099584</td>\n",
              "      <td>-0.397608</td>\n",
              "      <td>-0.099366</td>\n",
              "      <td>-0.218006</td>\n",
              "      <td>-0.217501</td>\n",
              "      <td>-0.189519</td>\n",
              "      <td>-0.222642</td>\n",
              "      <td>-0.070856</td>\n",
              "      <td>-0.234407</td>\n",
              "      <td>-0.234458</td>\n",
              "      <td>-0.217328</td>\n",
              "      <td>-0.233941</td>\n",
              "      <td>-0.069169</td>\n",
              "      <td>-0.068978</td>\n",
              "      <td>-0.073065</td>\n",
              "      <td>-0.068841</td>\n",
              "      <td>-0.071707</td>\n",
              "      <td>-0.07167</td>\n",
              "      <td>-0.071577</td>\n",
              "      <td>0.141748</td>\n",
              "      <td>0.125036</td>\n",
              "    </tr>\n",
              "  </tbody>\n",
              "</table>\n",
              "<p>794996 rows × 54 columns</p>\n",
              "</div>"
            ],
            "text/plain": [
              "        fulladdress_days_since_last_seen  ...  fulladdress_1_count_fulladdress_14_count_Ave\n",
              "0                              -0.411706  ...                                      0.125036\n",
              "1                              -0.411706  ...                                      0.125036\n",
              "2                              -0.411706  ...                                      0.125036\n",
              "3                              -0.411706  ...                                      0.125036\n",
              "4                              -0.411706  ...                                      0.125036\n",
              "...                                  ...  ...                                           ...\n",
              "794991                          2.862299  ...                                      0.125036\n",
              "794992                          1.721358  ...                                      0.125036\n",
              "794993                         -0.411706  ...                                      0.125036\n",
              "794994                         -0.411706  ...                                      0.125036\n",
              "794995                         -0.411706  ...                                      0.125036\n",
              "\n",
              "[794996 rows x 54 columns]"
            ]
          },
          "metadata": {
            "tags": []
          },
          "execution_count": 49
        }
      ]
    },
    {
      "cell_type": "code",
      "metadata": {
        "id": "iLIjcwqpndch",
        "colab_type": "code",
        "outputId": "6fbf79f5-e260-4eb6-f0e9-9ab2738aaddf",
        "colab": {
          "base_uri": "https://localhost:8080/",
          "height": 1000
        }
      },
      "source": [
        "rfecv.fit(vars_keep,Y)"
      ],
      "execution_count": 0,
      "outputs": [
        {
          "output_type": "stream",
          "text": [
            "/usr/local/lib/python3.6/dist-packages/sklearn/utils/validation.py:760: DataConversionWarning: A column-vector y was passed when a 1d array was expected. Please change the shape of y to (n_samples, ), for example using ravel().\n",
            "  y = column_or_1d(y, warn=True)\n"
          ],
          "name": "stderr"
        },
        {
          "output_type": "stream",
          "text": [
            "Fitting estimator with 54 features.\n"
          ],
          "name": "stdout"
        },
        {
          "output_type": "stream",
          "text": [
            "/usr/local/lib/python3.6/dist-packages/sklearn/linear_model/_logistic.py:940: ConvergenceWarning: lbfgs failed to converge (status=1):\n",
            "STOP: TOTAL NO. of ITERATIONS REACHED LIMIT.\n",
            "\n",
            "Increase the number of iterations (max_iter) or scale the data as shown in:\n",
            "    https://scikit-learn.org/stable/modules/preprocessing.html\n",
            "Please also refer to the documentation for alternative solver options:\n",
            "    https://scikit-learn.org/stable/modules/linear_model.html#logistic-regression\n",
            "  extra_warning_msg=_LOGISTIC_SOLVER_CONVERGENCE_MSG)\n"
          ],
          "name": "stderr"
        },
        {
          "output_type": "stream",
          "text": [
            "Fitting estimator with 53 features.\n"
          ],
          "name": "stdout"
        },
        {
          "output_type": "stream",
          "text": [
            "/usr/local/lib/python3.6/dist-packages/sklearn/linear_model/_logistic.py:940: ConvergenceWarning: lbfgs failed to converge (status=1):\n",
            "STOP: TOTAL NO. of ITERATIONS REACHED LIMIT.\n",
            "\n",
            "Increase the number of iterations (max_iter) or scale the data as shown in:\n",
            "    https://scikit-learn.org/stable/modules/preprocessing.html\n",
            "Please also refer to the documentation for alternative solver options:\n",
            "    https://scikit-learn.org/stable/modules/linear_model.html#logistic-regression\n",
            "  extra_warning_msg=_LOGISTIC_SOLVER_CONVERGENCE_MSG)\n"
          ],
          "name": "stderr"
        },
        {
          "output_type": "stream",
          "text": [
            "Fitting estimator with 52 features.\n"
          ],
          "name": "stdout"
        },
        {
          "output_type": "stream",
          "text": [
            "/usr/local/lib/python3.6/dist-packages/sklearn/linear_model/_logistic.py:940: ConvergenceWarning: lbfgs failed to converge (status=1):\n",
            "STOP: TOTAL NO. of ITERATIONS REACHED LIMIT.\n",
            "\n",
            "Increase the number of iterations (max_iter) or scale the data as shown in:\n",
            "    https://scikit-learn.org/stable/modules/preprocessing.html\n",
            "Please also refer to the documentation for alternative solver options:\n",
            "    https://scikit-learn.org/stable/modules/linear_model.html#logistic-regression\n",
            "  extra_warning_msg=_LOGISTIC_SOLVER_CONVERGENCE_MSG)\n"
          ],
          "name": "stderr"
        },
        {
          "output_type": "stream",
          "text": [
            "Fitting estimator with 51 features.\n"
          ],
          "name": "stdout"
        },
        {
          "output_type": "stream",
          "text": [
            "/usr/local/lib/python3.6/dist-packages/sklearn/linear_model/_logistic.py:940: ConvergenceWarning: lbfgs failed to converge (status=1):\n",
            "STOP: TOTAL NO. of ITERATIONS REACHED LIMIT.\n",
            "\n",
            "Increase the number of iterations (max_iter) or scale the data as shown in:\n",
            "    https://scikit-learn.org/stable/modules/preprocessing.html\n",
            "Please also refer to the documentation for alternative solver options:\n",
            "    https://scikit-learn.org/stable/modules/linear_model.html#logistic-regression\n",
            "  extra_warning_msg=_LOGISTIC_SOLVER_CONVERGENCE_MSG)\n"
          ],
          "name": "stderr"
        },
        {
          "output_type": "stream",
          "text": [
            "Fitting estimator with 50 features.\n"
          ],
          "name": "stdout"
        },
        {
          "output_type": "stream",
          "text": [
            "/usr/local/lib/python3.6/dist-packages/sklearn/linear_model/_logistic.py:940: ConvergenceWarning: lbfgs failed to converge (status=1):\n",
            "STOP: TOTAL NO. of ITERATIONS REACHED LIMIT.\n",
            "\n",
            "Increase the number of iterations (max_iter) or scale the data as shown in:\n",
            "    https://scikit-learn.org/stable/modules/preprocessing.html\n",
            "Please also refer to the documentation for alternative solver options:\n",
            "    https://scikit-learn.org/stable/modules/linear_model.html#logistic-regression\n",
            "  extra_warning_msg=_LOGISTIC_SOLVER_CONVERGENCE_MSG)\n"
          ],
          "name": "stderr"
        },
        {
          "output_type": "stream",
          "text": [
            "Fitting estimator with 49 features.\n"
          ],
          "name": "stdout"
        },
        {
          "output_type": "stream",
          "text": [
            "/usr/local/lib/python3.6/dist-packages/sklearn/linear_model/_logistic.py:940: ConvergenceWarning: lbfgs failed to converge (status=1):\n",
            "STOP: TOTAL NO. of ITERATIONS REACHED LIMIT.\n",
            "\n",
            "Increase the number of iterations (max_iter) or scale the data as shown in:\n",
            "    https://scikit-learn.org/stable/modules/preprocessing.html\n",
            "Please also refer to the documentation for alternative solver options:\n",
            "    https://scikit-learn.org/stable/modules/linear_model.html#logistic-regression\n",
            "  extra_warning_msg=_LOGISTIC_SOLVER_CONVERGENCE_MSG)\n"
          ],
          "name": "stderr"
        },
        {
          "output_type": "stream",
          "text": [
            "Fitting estimator with 48 features.\n"
          ],
          "name": "stdout"
        },
        {
          "output_type": "stream",
          "text": [
            "/usr/local/lib/python3.6/dist-packages/sklearn/linear_model/_logistic.py:940: ConvergenceWarning: lbfgs failed to converge (status=1):\n",
            "STOP: TOTAL NO. of ITERATIONS REACHED LIMIT.\n",
            "\n",
            "Increase the number of iterations (max_iter) or scale the data as shown in:\n",
            "    https://scikit-learn.org/stable/modules/preprocessing.html\n",
            "Please also refer to the documentation for alternative solver options:\n",
            "    https://scikit-learn.org/stable/modules/linear_model.html#logistic-regression\n",
            "  extra_warning_msg=_LOGISTIC_SOLVER_CONVERGENCE_MSG)\n"
          ],
          "name": "stderr"
        },
        {
          "output_type": "stream",
          "text": [
            "Fitting estimator with 47 features.\n"
          ],
          "name": "stdout"
        },
        {
          "output_type": "stream",
          "text": [
            "/usr/local/lib/python3.6/dist-packages/sklearn/linear_model/_logistic.py:940: ConvergenceWarning: lbfgs failed to converge (status=1):\n",
            "STOP: TOTAL NO. of ITERATIONS REACHED LIMIT.\n",
            "\n",
            "Increase the number of iterations (max_iter) or scale the data as shown in:\n",
            "    https://scikit-learn.org/stable/modules/preprocessing.html\n",
            "Please also refer to the documentation for alternative solver options:\n",
            "    https://scikit-learn.org/stable/modules/linear_model.html#logistic-regression\n",
            "  extra_warning_msg=_LOGISTIC_SOLVER_CONVERGENCE_MSG)\n"
          ],
          "name": "stderr"
        },
        {
          "output_type": "stream",
          "text": [
            "Fitting estimator with 46 features.\n"
          ],
          "name": "stdout"
        },
        {
          "output_type": "stream",
          "text": [
            "/usr/local/lib/python3.6/dist-packages/sklearn/linear_model/_logistic.py:940: ConvergenceWarning: lbfgs failed to converge (status=1):\n",
            "STOP: TOTAL NO. of ITERATIONS REACHED LIMIT.\n",
            "\n",
            "Increase the number of iterations (max_iter) or scale the data as shown in:\n",
            "    https://scikit-learn.org/stable/modules/preprocessing.html\n",
            "Please also refer to the documentation for alternative solver options:\n",
            "    https://scikit-learn.org/stable/modules/linear_model.html#logistic-regression\n",
            "  extra_warning_msg=_LOGISTIC_SOLVER_CONVERGENCE_MSG)\n"
          ],
          "name": "stderr"
        },
        {
          "output_type": "stream",
          "text": [
            "Fitting estimator with 45 features.\n"
          ],
          "name": "stdout"
        },
        {
          "output_type": "stream",
          "text": [
            "/usr/local/lib/python3.6/dist-packages/sklearn/linear_model/_logistic.py:940: ConvergenceWarning: lbfgs failed to converge (status=1):\n",
            "STOP: TOTAL NO. of ITERATIONS REACHED LIMIT.\n",
            "\n",
            "Increase the number of iterations (max_iter) or scale the data as shown in:\n",
            "    https://scikit-learn.org/stable/modules/preprocessing.html\n",
            "Please also refer to the documentation for alternative solver options:\n",
            "    https://scikit-learn.org/stable/modules/linear_model.html#logistic-regression\n",
            "  extra_warning_msg=_LOGISTIC_SOLVER_CONVERGENCE_MSG)\n"
          ],
          "name": "stderr"
        },
        {
          "output_type": "stream",
          "text": [
            "Fitting estimator with 44 features.\n"
          ],
          "name": "stdout"
        },
        {
          "output_type": "stream",
          "text": [
            "/usr/local/lib/python3.6/dist-packages/sklearn/linear_model/_logistic.py:940: ConvergenceWarning: lbfgs failed to converge (status=1):\n",
            "STOP: TOTAL NO. of ITERATIONS REACHED LIMIT.\n",
            "\n",
            "Increase the number of iterations (max_iter) or scale the data as shown in:\n",
            "    https://scikit-learn.org/stable/modules/preprocessing.html\n",
            "Please also refer to the documentation for alternative solver options:\n",
            "    https://scikit-learn.org/stable/modules/linear_model.html#logistic-regression\n",
            "  extra_warning_msg=_LOGISTIC_SOLVER_CONVERGENCE_MSG)\n"
          ],
          "name": "stderr"
        },
        {
          "output_type": "stream",
          "text": [
            "Fitting estimator with 43 features.\n"
          ],
          "name": "stdout"
        },
        {
          "output_type": "stream",
          "text": [
            "/usr/local/lib/python3.6/dist-packages/sklearn/linear_model/_logistic.py:940: ConvergenceWarning: lbfgs failed to converge (status=1):\n",
            "STOP: TOTAL NO. of ITERATIONS REACHED LIMIT.\n",
            "\n",
            "Increase the number of iterations (max_iter) or scale the data as shown in:\n",
            "    https://scikit-learn.org/stable/modules/preprocessing.html\n",
            "Please also refer to the documentation for alternative solver options:\n",
            "    https://scikit-learn.org/stable/modules/linear_model.html#logistic-regression\n",
            "  extra_warning_msg=_LOGISTIC_SOLVER_CONVERGENCE_MSG)\n"
          ],
          "name": "stderr"
        },
        {
          "output_type": "stream",
          "text": [
            "Fitting estimator with 42 features.\n"
          ],
          "name": "stdout"
        },
        {
          "output_type": "stream",
          "text": [
            "/usr/local/lib/python3.6/dist-packages/sklearn/linear_model/_logistic.py:940: ConvergenceWarning: lbfgs failed to converge (status=1):\n",
            "STOP: TOTAL NO. of ITERATIONS REACHED LIMIT.\n",
            "\n",
            "Increase the number of iterations (max_iter) or scale the data as shown in:\n",
            "    https://scikit-learn.org/stable/modules/preprocessing.html\n",
            "Please also refer to the documentation for alternative solver options:\n",
            "    https://scikit-learn.org/stable/modules/linear_model.html#logistic-regression\n",
            "  extra_warning_msg=_LOGISTIC_SOLVER_CONVERGENCE_MSG)\n"
          ],
          "name": "stderr"
        },
        {
          "output_type": "stream",
          "text": [
            "Fitting estimator with 41 features.\n"
          ],
          "name": "stdout"
        },
        {
          "output_type": "stream",
          "text": [
            "/usr/local/lib/python3.6/dist-packages/sklearn/linear_model/_logistic.py:940: ConvergenceWarning: lbfgs failed to converge (status=1):\n",
            "STOP: TOTAL NO. of ITERATIONS REACHED LIMIT.\n",
            "\n",
            "Increase the number of iterations (max_iter) or scale the data as shown in:\n",
            "    https://scikit-learn.org/stable/modules/preprocessing.html\n",
            "Please also refer to the documentation for alternative solver options:\n",
            "    https://scikit-learn.org/stable/modules/linear_model.html#logistic-regression\n",
            "  extra_warning_msg=_LOGISTIC_SOLVER_CONVERGENCE_MSG)\n"
          ],
          "name": "stderr"
        },
        {
          "output_type": "stream",
          "text": [
            "Fitting estimator with 40 features.\n"
          ],
          "name": "stdout"
        },
        {
          "output_type": "stream",
          "text": [
            "/usr/local/lib/python3.6/dist-packages/sklearn/linear_model/_logistic.py:940: ConvergenceWarning: lbfgs failed to converge (status=1):\n",
            "STOP: TOTAL NO. of ITERATIONS REACHED LIMIT.\n",
            "\n",
            "Increase the number of iterations (max_iter) or scale the data as shown in:\n",
            "    https://scikit-learn.org/stable/modules/preprocessing.html\n",
            "Please also refer to the documentation for alternative solver options:\n",
            "    https://scikit-learn.org/stable/modules/linear_model.html#logistic-regression\n",
            "  extra_warning_msg=_LOGISTIC_SOLVER_CONVERGENCE_MSG)\n"
          ],
          "name": "stderr"
        },
        {
          "output_type": "stream",
          "text": [
            "Fitting estimator with 39 features.\n"
          ],
          "name": "stdout"
        },
        {
          "output_type": "stream",
          "text": [
            "/usr/local/lib/python3.6/dist-packages/sklearn/linear_model/_logistic.py:940: ConvergenceWarning: lbfgs failed to converge (status=1):\n",
            "STOP: TOTAL NO. of ITERATIONS REACHED LIMIT.\n",
            "\n",
            "Increase the number of iterations (max_iter) or scale the data as shown in:\n",
            "    https://scikit-learn.org/stable/modules/preprocessing.html\n",
            "Please also refer to the documentation for alternative solver options:\n",
            "    https://scikit-learn.org/stable/modules/linear_model.html#logistic-regression\n",
            "  extra_warning_msg=_LOGISTIC_SOLVER_CONVERGENCE_MSG)\n"
          ],
          "name": "stderr"
        },
        {
          "output_type": "stream",
          "text": [
            "Fitting estimator with 38 features.\n"
          ],
          "name": "stdout"
        },
        {
          "output_type": "stream",
          "text": [
            "/usr/local/lib/python3.6/dist-packages/sklearn/linear_model/_logistic.py:940: ConvergenceWarning: lbfgs failed to converge (status=1):\n",
            "STOP: TOTAL NO. of ITERATIONS REACHED LIMIT.\n",
            "\n",
            "Increase the number of iterations (max_iter) or scale the data as shown in:\n",
            "    https://scikit-learn.org/stable/modules/preprocessing.html\n",
            "Please also refer to the documentation for alternative solver options:\n",
            "    https://scikit-learn.org/stable/modules/linear_model.html#logistic-regression\n",
            "  extra_warning_msg=_LOGISTIC_SOLVER_CONVERGENCE_MSG)\n"
          ],
          "name": "stderr"
        },
        {
          "output_type": "stream",
          "text": [
            "Fitting estimator with 37 features.\n"
          ],
          "name": "stdout"
        },
        {
          "output_type": "stream",
          "text": [
            "/usr/local/lib/python3.6/dist-packages/sklearn/linear_model/_logistic.py:940: ConvergenceWarning: lbfgs failed to converge (status=1):\n",
            "STOP: TOTAL NO. of ITERATIONS REACHED LIMIT.\n",
            "\n",
            "Increase the number of iterations (max_iter) or scale the data as shown in:\n",
            "    https://scikit-learn.org/stable/modules/preprocessing.html\n",
            "Please also refer to the documentation for alternative solver options:\n",
            "    https://scikit-learn.org/stable/modules/linear_model.html#logistic-regression\n",
            "  extra_warning_msg=_LOGISTIC_SOLVER_CONVERGENCE_MSG)\n"
          ],
          "name": "stderr"
        },
        {
          "output_type": "stream",
          "text": [
            "Fitting estimator with 36 features.\n"
          ],
          "name": "stdout"
        },
        {
          "output_type": "stream",
          "text": [
            "/usr/local/lib/python3.6/dist-packages/sklearn/linear_model/_logistic.py:940: ConvergenceWarning: lbfgs failed to converge (status=1):\n",
            "STOP: TOTAL NO. of ITERATIONS REACHED LIMIT.\n",
            "\n",
            "Increase the number of iterations (max_iter) or scale the data as shown in:\n",
            "    https://scikit-learn.org/stable/modules/preprocessing.html\n",
            "Please also refer to the documentation for alternative solver options:\n",
            "    https://scikit-learn.org/stable/modules/linear_model.html#logistic-regression\n",
            "  extra_warning_msg=_LOGISTIC_SOLVER_CONVERGENCE_MSG)\n"
          ],
          "name": "stderr"
        },
        {
          "output_type": "stream",
          "text": [
            "Fitting estimator with 35 features.\n"
          ],
          "name": "stdout"
        },
        {
          "output_type": "stream",
          "text": [
            "/usr/local/lib/python3.6/dist-packages/sklearn/linear_model/_logistic.py:940: ConvergenceWarning: lbfgs failed to converge (status=1):\n",
            "STOP: TOTAL NO. of ITERATIONS REACHED LIMIT.\n",
            "\n",
            "Increase the number of iterations (max_iter) or scale the data as shown in:\n",
            "    https://scikit-learn.org/stable/modules/preprocessing.html\n",
            "Please also refer to the documentation for alternative solver options:\n",
            "    https://scikit-learn.org/stable/modules/linear_model.html#logistic-regression\n",
            "  extra_warning_msg=_LOGISTIC_SOLVER_CONVERGENCE_MSG)\n"
          ],
          "name": "stderr"
        },
        {
          "output_type": "stream",
          "text": [
            "Fitting estimator with 34 features.\n"
          ],
          "name": "stdout"
        },
        {
          "output_type": "stream",
          "text": [
            "/usr/local/lib/python3.6/dist-packages/sklearn/linear_model/_logistic.py:940: ConvergenceWarning: lbfgs failed to converge (status=1):\n",
            "STOP: TOTAL NO. of ITERATIONS REACHED LIMIT.\n",
            "\n",
            "Increase the number of iterations (max_iter) or scale the data as shown in:\n",
            "    https://scikit-learn.org/stable/modules/preprocessing.html\n",
            "Please also refer to the documentation for alternative solver options:\n",
            "    https://scikit-learn.org/stable/modules/linear_model.html#logistic-regression\n",
            "  extra_warning_msg=_LOGISTIC_SOLVER_CONVERGENCE_MSG)\n"
          ],
          "name": "stderr"
        },
        {
          "output_type": "stream",
          "text": [
            "Fitting estimator with 33 features.\n"
          ],
          "name": "stdout"
        },
        {
          "output_type": "stream",
          "text": [
            "/usr/local/lib/python3.6/dist-packages/sklearn/linear_model/_logistic.py:940: ConvergenceWarning: lbfgs failed to converge (status=1):\n",
            "STOP: TOTAL NO. of ITERATIONS REACHED LIMIT.\n",
            "\n",
            "Increase the number of iterations (max_iter) or scale the data as shown in:\n",
            "    https://scikit-learn.org/stable/modules/preprocessing.html\n",
            "Please also refer to the documentation for alternative solver options:\n",
            "    https://scikit-learn.org/stable/modules/linear_model.html#logistic-regression\n",
            "  extra_warning_msg=_LOGISTIC_SOLVER_CONVERGENCE_MSG)\n"
          ],
          "name": "stderr"
        },
        {
          "output_type": "stream",
          "text": [
            "Fitting estimator with 32 features.\n"
          ],
          "name": "stdout"
        },
        {
          "output_type": "stream",
          "text": [
            "/usr/local/lib/python3.6/dist-packages/sklearn/linear_model/_logistic.py:940: ConvergenceWarning: lbfgs failed to converge (status=1):\n",
            "STOP: TOTAL NO. of ITERATIONS REACHED LIMIT.\n",
            "\n",
            "Increase the number of iterations (max_iter) or scale the data as shown in:\n",
            "    https://scikit-learn.org/stable/modules/preprocessing.html\n",
            "Please also refer to the documentation for alternative solver options:\n",
            "    https://scikit-learn.org/stable/modules/linear_model.html#logistic-regression\n",
            "  extra_warning_msg=_LOGISTIC_SOLVER_CONVERGENCE_MSG)\n"
          ],
          "name": "stderr"
        },
        {
          "output_type": "stream",
          "text": [
            "Fitting estimator with 31 features.\n"
          ],
          "name": "stdout"
        },
        {
          "output_type": "stream",
          "text": [
            "/usr/local/lib/python3.6/dist-packages/sklearn/linear_model/_logistic.py:940: ConvergenceWarning: lbfgs failed to converge (status=1):\n",
            "STOP: TOTAL NO. of ITERATIONS REACHED LIMIT.\n",
            "\n",
            "Increase the number of iterations (max_iter) or scale the data as shown in:\n",
            "    https://scikit-learn.org/stable/modules/preprocessing.html\n",
            "Please also refer to the documentation for alternative solver options:\n",
            "    https://scikit-learn.org/stable/modules/linear_model.html#logistic-regression\n",
            "  extra_warning_msg=_LOGISTIC_SOLVER_CONVERGENCE_MSG)\n"
          ],
          "name": "stderr"
        },
        {
          "output_type": "stream",
          "text": [
            "Fitting estimator with 30 features.\n"
          ],
          "name": "stdout"
        },
        {
          "output_type": "stream",
          "text": [
            "/usr/local/lib/python3.6/dist-packages/sklearn/linear_model/_logistic.py:940: ConvergenceWarning: lbfgs failed to converge (status=1):\n",
            "STOP: TOTAL NO. of ITERATIONS REACHED LIMIT.\n",
            "\n",
            "Increase the number of iterations (max_iter) or scale the data as shown in:\n",
            "    https://scikit-learn.org/stable/modules/preprocessing.html\n",
            "Please also refer to the documentation for alternative solver options:\n",
            "    https://scikit-learn.org/stable/modules/linear_model.html#logistic-regression\n",
            "  extra_warning_msg=_LOGISTIC_SOLVER_CONVERGENCE_MSG)\n"
          ],
          "name": "stderr"
        },
        {
          "output_type": "stream",
          "text": [
            "Fitting estimator with 29 features.\n"
          ],
          "name": "stdout"
        },
        {
          "output_type": "stream",
          "text": [
            "/usr/local/lib/python3.6/dist-packages/sklearn/linear_model/_logistic.py:940: ConvergenceWarning: lbfgs failed to converge (status=1):\n",
            "STOP: TOTAL NO. of ITERATIONS REACHED LIMIT.\n",
            "\n",
            "Increase the number of iterations (max_iter) or scale the data as shown in:\n",
            "    https://scikit-learn.org/stable/modules/preprocessing.html\n",
            "Please also refer to the documentation for alternative solver options:\n",
            "    https://scikit-learn.org/stable/modules/linear_model.html#logistic-regression\n",
            "  extra_warning_msg=_LOGISTIC_SOLVER_CONVERGENCE_MSG)\n"
          ],
          "name": "stderr"
        },
        {
          "output_type": "stream",
          "text": [
            "Fitting estimator with 28 features.\n"
          ],
          "name": "stdout"
        },
        {
          "output_type": "stream",
          "text": [
            "/usr/local/lib/python3.6/dist-packages/sklearn/linear_model/_logistic.py:940: ConvergenceWarning: lbfgs failed to converge (status=1):\n",
            "STOP: TOTAL NO. of ITERATIONS REACHED LIMIT.\n",
            "\n",
            "Increase the number of iterations (max_iter) or scale the data as shown in:\n",
            "    https://scikit-learn.org/stable/modules/preprocessing.html\n",
            "Please also refer to the documentation for alternative solver options:\n",
            "    https://scikit-learn.org/stable/modules/linear_model.html#logistic-regression\n",
            "  extra_warning_msg=_LOGISTIC_SOLVER_CONVERGENCE_MSG)\n"
          ],
          "name": "stderr"
        },
        {
          "output_type": "stream",
          "text": [
            "Fitting estimator with 27 features.\n"
          ],
          "name": "stdout"
        },
        {
          "output_type": "stream",
          "text": [
            "/usr/local/lib/python3.6/dist-packages/sklearn/linear_model/_logistic.py:940: ConvergenceWarning: lbfgs failed to converge (status=1):\n",
            "STOP: TOTAL NO. of ITERATIONS REACHED LIMIT.\n",
            "\n",
            "Increase the number of iterations (max_iter) or scale the data as shown in:\n",
            "    https://scikit-learn.org/stable/modules/preprocessing.html\n",
            "Please also refer to the documentation for alternative solver options:\n",
            "    https://scikit-learn.org/stable/modules/linear_model.html#logistic-regression\n",
            "  extra_warning_msg=_LOGISTIC_SOLVER_CONVERGENCE_MSG)\n"
          ],
          "name": "stderr"
        },
        {
          "output_type": "stream",
          "text": [
            "Fitting estimator with 26 features.\n"
          ],
          "name": "stdout"
        },
        {
          "output_type": "stream",
          "text": [
            "/usr/local/lib/python3.6/dist-packages/sklearn/linear_model/_logistic.py:940: ConvergenceWarning: lbfgs failed to converge (status=1):\n",
            "STOP: TOTAL NO. of ITERATIONS REACHED LIMIT.\n",
            "\n",
            "Increase the number of iterations (max_iter) or scale the data as shown in:\n",
            "    https://scikit-learn.org/stable/modules/preprocessing.html\n",
            "Please also refer to the documentation for alternative solver options:\n",
            "    https://scikit-learn.org/stable/modules/linear_model.html#logistic-regression\n",
            "  extra_warning_msg=_LOGISTIC_SOLVER_CONVERGENCE_MSG)\n"
          ],
          "name": "stderr"
        },
        {
          "output_type": "stream",
          "text": [
            "Fitting estimator with 25 features.\n"
          ],
          "name": "stdout"
        },
        {
          "output_type": "stream",
          "text": [
            "/usr/local/lib/python3.6/dist-packages/sklearn/linear_model/_logistic.py:940: ConvergenceWarning: lbfgs failed to converge (status=1):\n",
            "STOP: TOTAL NO. of ITERATIONS REACHED LIMIT.\n",
            "\n",
            "Increase the number of iterations (max_iter) or scale the data as shown in:\n",
            "    https://scikit-learn.org/stable/modules/preprocessing.html\n",
            "Please also refer to the documentation for alternative solver options:\n",
            "    https://scikit-learn.org/stable/modules/linear_model.html#logistic-regression\n",
            "  extra_warning_msg=_LOGISTIC_SOLVER_CONVERGENCE_MSG)\n"
          ],
          "name": "stderr"
        },
        {
          "output_type": "stream",
          "text": [
            "Fitting estimator with 24 features.\n"
          ],
          "name": "stdout"
        },
        {
          "output_type": "stream",
          "text": [
            "/usr/local/lib/python3.6/dist-packages/sklearn/linear_model/_logistic.py:940: ConvergenceWarning: lbfgs failed to converge (status=1):\n",
            "STOP: TOTAL NO. of ITERATIONS REACHED LIMIT.\n",
            "\n",
            "Increase the number of iterations (max_iter) or scale the data as shown in:\n",
            "    https://scikit-learn.org/stable/modules/preprocessing.html\n",
            "Please also refer to the documentation for alternative solver options:\n",
            "    https://scikit-learn.org/stable/modules/linear_model.html#logistic-regression\n",
            "  extra_warning_msg=_LOGISTIC_SOLVER_CONVERGENCE_MSG)\n"
          ],
          "name": "stderr"
        },
        {
          "output_type": "stream",
          "text": [
            "Fitting estimator with 23 features.\n"
          ],
          "name": "stdout"
        },
        {
          "output_type": "stream",
          "text": [
            "/usr/local/lib/python3.6/dist-packages/sklearn/linear_model/_logistic.py:940: ConvergenceWarning: lbfgs failed to converge (status=1):\n",
            "STOP: TOTAL NO. of ITERATIONS REACHED LIMIT.\n",
            "\n",
            "Increase the number of iterations (max_iter) or scale the data as shown in:\n",
            "    https://scikit-learn.org/stable/modules/preprocessing.html\n",
            "Please also refer to the documentation for alternative solver options:\n",
            "    https://scikit-learn.org/stable/modules/linear_model.html#logistic-regression\n",
            "  extra_warning_msg=_LOGISTIC_SOLVER_CONVERGENCE_MSG)\n"
          ],
          "name": "stderr"
        },
        {
          "output_type": "stream",
          "text": [
            "Fitting estimator with 22 features.\n"
          ],
          "name": "stdout"
        },
        {
          "output_type": "stream",
          "text": [
            "/usr/local/lib/python3.6/dist-packages/sklearn/linear_model/_logistic.py:940: ConvergenceWarning: lbfgs failed to converge (status=1):\n",
            "STOP: TOTAL NO. of ITERATIONS REACHED LIMIT.\n",
            "\n",
            "Increase the number of iterations (max_iter) or scale the data as shown in:\n",
            "    https://scikit-learn.org/stable/modules/preprocessing.html\n",
            "Please also refer to the documentation for alternative solver options:\n",
            "    https://scikit-learn.org/stable/modules/linear_model.html#logistic-regression\n",
            "  extra_warning_msg=_LOGISTIC_SOLVER_CONVERGENCE_MSG)\n"
          ],
          "name": "stderr"
        },
        {
          "output_type": "stream",
          "text": [
            "Fitting estimator with 21 features.\n"
          ],
          "name": "stdout"
        },
        {
          "output_type": "stream",
          "text": [
            "/usr/local/lib/python3.6/dist-packages/sklearn/linear_model/_logistic.py:940: ConvergenceWarning: lbfgs failed to converge (status=1):\n",
            "STOP: TOTAL NO. of ITERATIONS REACHED LIMIT.\n",
            "\n",
            "Increase the number of iterations (max_iter) or scale the data as shown in:\n",
            "    https://scikit-learn.org/stable/modules/preprocessing.html\n",
            "Please also refer to the documentation for alternative solver options:\n",
            "    https://scikit-learn.org/stable/modules/linear_model.html#logistic-regression\n",
            "  extra_warning_msg=_LOGISTIC_SOLVER_CONVERGENCE_MSG)\n"
          ],
          "name": "stderr"
        },
        {
          "output_type": "stream",
          "text": [
            "Fitting estimator with 20 features.\n"
          ],
          "name": "stdout"
        },
        {
          "output_type": "stream",
          "text": [
            "/usr/local/lib/python3.6/dist-packages/sklearn/linear_model/_logistic.py:940: ConvergenceWarning: lbfgs failed to converge (status=1):\n",
            "STOP: TOTAL NO. of ITERATIONS REACHED LIMIT.\n",
            "\n",
            "Increase the number of iterations (max_iter) or scale the data as shown in:\n",
            "    https://scikit-learn.org/stable/modules/preprocessing.html\n",
            "Please also refer to the documentation for alternative solver options:\n",
            "    https://scikit-learn.org/stable/modules/linear_model.html#logistic-regression\n",
            "  extra_warning_msg=_LOGISTIC_SOLVER_CONVERGENCE_MSG)\n",
            "/usr/local/lib/python3.6/dist-packages/sklearn/linear_model/_logistic.py:940: ConvergenceWarning: lbfgs failed to converge (status=1):\n",
            "STOP: TOTAL NO. of ITERATIONS REACHED LIMIT.\n",
            "\n",
            "Increase the number of iterations (max_iter) or scale the data as shown in:\n",
            "    https://scikit-learn.org/stable/modules/preprocessing.html\n",
            "Please also refer to the documentation for alternative solver options:\n",
            "    https://scikit-learn.org/stable/modules/linear_model.html#logistic-regression\n",
            "  extra_warning_msg=_LOGISTIC_SOLVER_CONVERGENCE_MSG)\n",
            "/usr/local/lib/python3.6/dist-packages/sklearn/linear_model/_logistic.py:940: ConvergenceWarning: lbfgs failed to converge (status=1):\n",
            "STOP: TOTAL NO. of ITERATIONS REACHED LIMIT.\n",
            "\n",
            "Increase the number of iterations (max_iter) or scale the data as shown in:\n",
            "    https://scikit-learn.org/stable/modules/preprocessing.html\n",
            "Please also refer to the documentation for alternative solver options:\n",
            "    https://scikit-learn.org/stable/modules/linear_model.html#logistic-regression\n",
            "  extra_warning_msg=_LOGISTIC_SOLVER_CONVERGENCE_MSG)\n"
          ],
          "name": "stderr"
        },
        {
          "output_type": "execute_result",
          "data": {
            "text/plain": [
              "RFECV(cv=2,\n",
              "      estimator=LogisticRegression(C=1.0, class_weight=None, dual=False,\n",
              "                                   fit_intercept=True, intercept_scaling=1,\n",
              "                                   l1_ratio=None, max_iter=100,\n",
              "                                   multi_class='auto', n_jobs=None,\n",
              "                                   penalty='l2', random_state=None,\n",
              "                                   solver='lbfgs', tol=0.0001, verbose=0,\n",
              "                                   warm_start=False),\n",
              "      min_features_to_select=1, n_jobs=-1, scoring='roc_auc', step=1,\n",
              "      verbose=3)"
            ]
          },
          "metadata": {
            "tags": []
          },
          "execution_count": 50
        }
      ]
    },
    {
      "cell_type": "code",
      "metadata": {
        "id": "VVaOO9qnnQHG",
        "colab_type": "code",
        "outputId": "6dc51971-6294-4483-9184-4018ba74538f",
        "colab": {
          "base_uri": "https://localhost:8080/",
          "height": 911
        }
      },
      "source": [
        "var_selected = pd.DataFrame(sorted(zip(map(lambda x: round(x), rfecv.ranking_), vars_keep.columns)),\n",
        "                            columns = ['ranking', 'variable'])\n",
        "print(var_selected)"
      ],
      "execution_count": 0,
      "outputs": [
        {
          "output_type": "stream",
          "text": [
            "    ranking                                      variable\n",
            "0         1                       fulladdress_count1_date\n",
            "1         1                      fulladdress_count30_date\n",
            "2         1              fulladdress_days_since_last_seen\n",
            "3         1                      fulladdress_nunique1_dob\n",
            "4         1             fulladdresshomephone_count30_date\n",
            "5         1     fulladdresshomephone_days_since_last_seen\n",
            "6         1                          namedob_count14_date\n",
            "7         1                          namedob_count30_date\n",
            "8         1                  namedob_days_since_last_seen\n",
            "9         1                      ssn_days_since_last_seen\n",
            "10        1                           ssndob_count30_date\n",
            "11        1                   ssndob_days_since_last_seen\n",
            "12        1                 ssnfname_days_since_last_seen\n",
            "13        1                      ssnfullname_count30_date\n",
            "14        1              ssnfullname_days_since_last_seen\n",
            "15        1                         ssnlname_count30_date\n",
            "16        1                 ssnlname_days_since_last_seen\n",
            "17        1                       ssnnamedob_count30_date\n",
            "18        1               ssnnamedob_days_since_last_seen\n",
            "19        2                        ssnlname_count180_date\n",
            "20        3             fulladdresshomephone_count14_date\n",
            "21        4                      fulladdress_nunique3_ssn\n",
            "22        5                  address_days_since_last_seen\n",
            "23        6                         ssnfname_count14_date\n",
            "24        7                         ssnlname_count14_date\n",
            "25        8                         ssnfname_count30_date\n",
            "26        9                     ssnfullname_count180_date\n",
            "27       10                        ssnfname_count180_date\n",
            "28       11                         namedob_count180_date\n",
            "29       12                      ssnnamedob_count180_date\n",
            "30       13                     fulladdress_count180_date\n",
            "31       14                          address_count30_date\n",
            "32       15                      fulladdress_nunique3_dob\n",
            "33       16                           address_count3_date\n",
            "34       17                              ssn_count14_date\n",
            "35       18                              ssn_count30_date\n",
            "36       19                       fulladdress_count7_date\n",
            "37       20                       ssnnamedob_count14_date\n",
            "38       21                       fulladdress_count3_date\n",
            "39       22                           address_count1_date\n",
            "40       23                           address_count7_date\n",
            "41       24                      fulladdress_count14_date\n",
            "42       25          address_1_count_address_14_count_Ave\n",
            "43       26                         address_count180_date\n",
            "44       27                 fulladdress_nunique3_ssnfname\n",
            "45       28            fulladdresshomephone_count180_date\n",
            "46       29                      ssnfullname_count14_date\n",
            "47       30                          ssndob_count180_date\n",
            "48       31                             ssn_count180_date\n",
            "49       32                      fulladdress_nunique1_ssn\n",
            "50       33  fulladdress_1_count_fulladdress_14_count_Ave\n",
            "51       34                 fulladdress_nunique1_ssnfname\n",
            "52       35                          address_count14_date\n",
            "53       36                           ssndob_count14_date\n"
          ],
          "name": "stdout"
        }
      ]
    },
    {
      "cell_type": "code",
      "metadata": {
        "id": "6ItITNEVwYLW",
        "colab_type": "code",
        "colab": {}
      },
      "source": [
        "var_selected.to_csv('var_80.csv')"
      ],
      "execution_count": 0,
      "outputs": []
    },
    {
      "cell_type": "code",
      "metadata": {
        "id": "MDq9-K8WnQHI",
        "colab_type": "code",
        "outputId": "3cb43b3a-0063-458c-f045-ee7e7e3f2114",
        "colab": {
          "base_uri": "https://localhost:8080/",
          "height": 158
        }
      },
      "source": [
        "var_selected.to_csv('/content/drive/My Drive/Spring 2020/DSO 562 - Fraud Analytics/Project 2/selected_variables.csv')"
      ],
      "execution_count": 0,
      "outputs": [
        {
          "output_type": "error",
          "ename": "NameError",
          "evalue": "ignored",
          "traceback": [
            "\u001b[0;31m---------------------------------------------------------------------------\u001b[0m",
            "\u001b[0;31mNameError\u001b[0m                                 Traceback (most recent call last)",
            "\u001b[0;32m<ipython-input-455-b6228369ca61>\u001b[0m in \u001b[0;36m<module>\u001b[0;34m()\u001b[0m\n\u001b[0;32m----> 1\u001b[0;31m \u001b[0mvar_selected\u001b[0m\u001b[0;34m.\u001b[0m\u001b[0mto_csv\u001b[0m\u001b[0;34m(\u001b[0m\u001b[0;34m'/content/drive/My Drive/Spring 2020/DSO 562 - Fraud Analytics/Project 2/selected_variables.csv'\u001b[0m\u001b[0;34m)\u001b[0m\u001b[0;34m\u001b[0m\u001b[0;34m\u001b[0m\u001b[0m\n\u001b[0m",
            "\u001b[0;31mNameError\u001b[0m: name 'var_selected' is not defined"
          ]
        }
      ]
    },
    {
      "cell_type": "code",
      "metadata": {
        "id": "d_Y30DYQmHLo",
        "colab_type": "code",
        "colab": {}
      },
      "source": [
        "var_selected=pd.read_csv(('/content/drive/My Drive/Spring 2020/DSO 562 - Fraud Analytics/Project 2/selected_variables.csv'))"
      ],
      "execution_count": 0,
      "outputs": []
    },
    {
      "cell_type": "code",
      "metadata": {
        "id": "R2ammTVlnQHN",
        "colab_type": "code",
        "colab": {}
      },
      "source": [
        "import matplotlib.pyplot as plt"
      ],
      "execution_count": 0,
      "outputs": []
    },
    {
      "cell_type": "code",
      "metadata": {
        "id": "SZiIE3G6nQHP",
        "colab_type": "code",
        "outputId": "98a068f8-f1ee-416b-b116-a6fad6720db8",
        "colab": {
          "base_uri": "https://localhost:8080/",
          "height": 278
        }
      },
      "source": [
        "plt.figure()\n",
        "plt.xlabel('Number of features selected')\n",
        "plt.ylabel('Cross validation score (AUC)')\n",
        "plt.plot(range(1,len(rfecv.grid_scores_)+1),rfecv.grid_scores_)\n",
        "plt.show()"
      ],
      "execution_count": 0,
      "outputs": [
        {
          "output_type": "display_data",
          "data": {
            "image/png": "[encoded data removed]",
            "text/plain": [
              "<Figure size 432x288 with 1 Axes>"
            ]
          },
          "metadata": {
            "tags": []
          }
        }
      ]
    },
    {
      "cell_type": "code",
      "metadata": {
        "id": "i07QnorqnQHQ",
        "colab_type": "code",
        "colab": {}
      },
      "source": [
        "result=pd.DataFrame(var_selected)"
      ],
      "execution_count": 0,
      "outputs": []
    },
    {
      "cell_type": "code",
      "metadata": {
        "id": "zTMqzx_vnQHS",
        "colab_type": "code",
        "colab": {}
      },
      "source": [
        "result['rfecv_scores']=rfecv.grid_scores_"
      ],
      "execution_count": 0,
      "outputs": []
    },
    {
      "cell_type": "code",
      "metadata": {
        "id": "4t3NA_JAnQHU",
        "colab_type": "code",
        "colab": {}
      },
      "source": [
        "result.to_csv('selected_variable_astrun.csv')"
      ],
      "execution_count": 0,
      "outputs": []
    },
    {
      "cell_type": "code",
      "metadata": {
        "id": "Vayk_v1ZnQHn",
        "colab_type": "code",
        "outputId": "f7cc4597-a02d-4599-e985-7d3516edb856",
        "colab": {
          "base_uri": "https://localhost:8080/",
          "height": 245
        }
      },
      "source": [
        "zmydatatrain.iloc[:, zmydatatrain.columns != 'fraud_label'].columns"
      ],
      "execution_count": 0,
      "outputs": [
        {
          "output_type": "execute_result",
          "data": {
            "text/plain": [
              "Index(['ssn_count0_date', 'ssn_count1_date', 'ssn_count3_date',\n",
              "       'ssn_count7_date', 'ssn_count14_date', 'ssn_count30_date',\n",
              "       'ssn_count180_date', 'address_count0_date', 'address_count1_date',\n",
              "       'address_count3_date',\n",
              "       ...\n",
              "       'ssnfulladdress_days_since_last_seen',\n",
              "       'namehomephone_days_since_last_seen',\n",
              "       'namefulladdress_days_since_last_seen',\n",
              "       'fulladdressdob_days_since_last_seen',\n",
              "       'fulladdresshomephone_days_since_last_seen',\n",
              "       'fulladdressnamedob_days_since_last_seen',\n",
              "       'dobhomephone_days_since_last_seen',\n",
              "       'homephonenamedob_days_since_last_seen', 'dayofweek_risk', 'random'],\n",
              "      dtype='object', length=306)"
            ]
          },
          "metadata": {
            "tags": []
          },
          "execution_count": 104
        }
      ]
    },
    {
      "cell_type": "code",
      "metadata": {
        "id": "yem-3jRRnQHq",
        "colab_type": "code",
        "colab": {}
      },
      "source": [
        "wrapper_selected=var_selected[:30]['variable'].to_list()"
      ],
      "execution_count": 0,
      "outputs": []
    },
    {
      "cell_type": "code",
      "metadata": {
        "id": "NiACzzzov3Rg",
        "colab_type": "code",
        "colab": {}
      },
      "source": [
        "wrapper_selected.append('fraud_label')"
      ],
      "execution_count": 0,
      "outputs": []
    },
    {
      "cell_type": "code",
      "metadata": {
        "id": "5yClQU5qnQHs",
        "colab_type": "code",
        "outputId": "d8554148-a948-4354-e80c-7289ca277231",
        "colab": {
          "base_uri": "https://localhost:8080/",
          "height": 521
        }
      },
      "source": [
        "wrapper_selected"
      ],
      "execution_count": 0,
      "outputs": [
        {
          "output_type": "execute_result",
          "data": {
            "text/plain": [
              "['fulladdress_count1_date',\n",
              " 'fulladdress_count30_date',\n",
              " 'fulladdress_days_since_last_seen',\n",
              " 'fulladdress_nunique1_dob',\n",
              " 'fulladdresshomephone_count30_date',\n",
              " 'fulladdresshomephone_days_since_last_seen',\n",
              " 'namedob_count14_date',\n",
              " 'namedob_count30_date',\n",
              " 'namedob_days_since_last_seen',\n",
              " 'ssn_days_since_last_seen',\n",
              " 'ssndob_count30_date',\n",
              " 'ssndob_days_since_last_seen',\n",
              " 'ssnfname_days_since_last_seen',\n",
              " 'ssnfullname_count30_date',\n",
              " 'ssnfullname_days_since_last_seen',\n",
              " 'ssnlname_count30_date',\n",
              " 'ssnlname_days_since_last_seen',\n",
              " 'ssnnamedob_count30_date',\n",
              " 'ssnnamedob_days_since_last_seen',\n",
              " 'ssnlname_count180_date',\n",
              " 'fulladdresshomephone_count14_date',\n",
              " 'fulladdress_nunique3_ssn',\n",
              " 'address_days_since_last_seen',\n",
              " 'ssnfname_count14_date',\n",
              " 'ssnlname_count14_date',\n",
              " 'ssnfname_count30_date',\n",
              " 'ssnfullname_count180_date',\n",
              " 'ssnfname_count180_date',\n",
              " 'namedob_count180_date',\n",
              " 'ssnnamedob_count180_date',\n",
              " 'fraud_label']"
            ]
          },
          "metadata": {
            "tags": []
          },
          "execution_count": 122
        }
      ]
    },
    {
      "cell_type": "markdown",
      "metadata": {
        "id": "pqz0LCuLnQHz",
        "colab_type": "text"
      },
      "source": [
        "### Split zmydatatrain into train and test set:"
      ]
    },
    {
      "cell_type": "code",
      "metadata": {
        "id": "Fu5aPFsqwSh0",
        "colab_type": "code",
        "colab": {}
      },
      "source": [
        "import matplotlib.pyplot as plt\n",
        "import numpy as np\n",
        "from sklearn.linear_model import LogisticRegression\n",
        "from sklearn.metrics import classification_report, confusion_matrix"
      ],
      "execution_count": 0,
      "outputs": []
    },
    {
      "cell_type": "code",
      "metadata": {
        "id": "ZwcFlcFMQtYB",
        "colab_type": "code",
        "colab": {}
      },
      "source": [
        "X_train_copy=pd.read_csv('/content/drive/Shared drives/DSO562 Fraud Project/Project2/Data_Modeling/X_train.csv')\n",
        "X_test_copy=pd.read_csv('/content/drive/Shared drives/DSO562 Fraud Project/Project2/Data_Modeling/X_test.csv')"
      ],
      "execution_count": 0,
      "outputs": []
    },
    {
      "cell_type": "code",
      "metadata": {
        "id": "oArZsOdKRJGl",
        "colab_type": "code",
        "colab": {}
      },
      "source": [
        "X_test=X_test.drop(columns=['Unnamed: 0'])\n",
        "X_train=X_train.drop(columns=['Unnamed: 0'])"
      ],
      "execution_count": 0,
      "outputs": []
    },
    {
      "cell_type": "code",
      "metadata": {
        "id": "GKVwOmFiR-s0",
        "colab_type": "code",
        "colab": {}
      },
      "source": [
        "y_test=pd.read_csv('/content/drive/Shared drives/DSO562 Fraud Project/Project2/Data_Modeling/y_test.csv')\n",
        "y_train=pd.read_csv('/content/drive/Shared drives/DSO562 Fraud Project/Project2/Data_Modeling/y_train.csv')"
      ],
      "execution_count": 0,
      "outputs": []
    },
    {
      "cell_type": "code",
      "metadata": {
        "id": "BOW-pcJGQ5-m",
        "colab_type": "code",
        "colab": {}
      },
      "source": [
        "y_test=y_test['fraud_label']\n",
        "y_train=y_train['fraud_label']"
      ],
      "execution_count": 0,
      "outputs": []
    },
    {
      "cell_type": "code",
      "metadata": {
        "id": "gZqApRX041g_",
        "colab_type": "code",
        "colab": {}
      },
      "source": [
        "varall=pd.read_csv('/content/drive/My Drive/Spring 2020/DSO 562 - Fraud Analytics/Project 2/selected_variables.csv')"
      ],
      "execution_count": 0,
      "outputs": []
    },
    {
      "cell_type": "code",
      "metadata": {
        "id": "VYKaANWLjvjX",
        "colab_type": "code",
        "colab": {}
      },
      "source": [
        "varall2=pd.read_csv('/content/drive/Shared drives/DSO562 Fraud Project/Project2/selected_variables_version2.csv')"
      ],
      "execution_count": 0,
      "outputs": []
    },
    {
      "cell_type": "code",
      "metadata": {
        "id": "f9uqUPamkHFB",
        "colab_type": "code",
        "colab": {}
      },
      "source": [
        "varall=varall2['variable'][:30]"
      ],
      "execution_count": 0,
      "outputs": []
    },
    {
      "cell_type": "code",
      "metadata": {
        "id": "_uMUFhqtiUsw",
        "colab_type": "code",
        "outputId": "0222183f-4f86-442b-8cd7-94e28262368a",
        "colab": {
          "base_uri": "https://localhost:8080/",
          "height": 33
        }
      },
      "source": [
        "len(varall)"
      ],
      "execution_count": 0,
      "outputs": [
        {
          "output_type": "execute_result",
          "data": {
            "text/plain": [
              "30"
            ]
          },
          "metadata": {
            "tags": []
          },
          "execution_count": 44
        }
      ]
    },
    {
      "cell_type": "code",
      "metadata": {
        "id": "_lVxvXiO5nUx",
        "colab_type": "code",
        "colab": {}
      },
      "source": [
        "variables=varall.to_list()"
      ],
      "execution_count": 0,
      "outputs": []
    },
    {
      "cell_type": "code",
      "metadata": {
        "id": "7fTAp017aYJm",
        "colab_type": "code",
        "outputId": "2e97aa09-b81c-49ea-efd4-b6bd058fed9d",
        "colab": {
          "base_uri": "https://localhost:8080/",
          "height": 505
        }
      },
      "source": [
        "variables"
      ],
      "execution_count": 0,
      "outputs": [
        {
          "output_type": "execute_result",
          "data": {
            "text/plain": [
              "['fulladdress_count30_date',\n",
              " 'fulladdress_days_since_last_seen',\n",
              " 'fulladdress_nunique1_dob',\n",
              " 'fulladdress_nunique1_ssnfname',\n",
              " 'fulladdress_nunique3_ssn',\n",
              " 'fulladdress_nunique3_ssnfname',\n",
              " 'fulladdresshomephone_count14_date',\n",
              " 'fulladdresshomephone_count30_date',\n",
              " 'fulladdresshomephone_days_since_last_seen',\n",
              " 'namedob_count30_date',\n",
              " 'namedob_days_since_last_seen',\n",
              " 'ssn_days_since_last_seen',\n",
              " 'ssndob_count14_date',\n",
              " 'ssndob_count30_date',\n",
              " 'ssndob_days_since_last_seen',\n",
              " 'ssnfname_days_since_last_seen',\n",
              " 'ssnfullname_days_since_last_seen',\n",
              " 'ssnlname_days_since_last_seen',\n",
              " 'ssnnamedob_count14_date',\n",
              " 'ssnnamedob_count30_date',\n",
              " 'ssnnamedob_days_since_last_seen',\n",
              " 'namedob_count14_date',\n",
              " 'ssnfname_count180_date',\n",
              " 'ssnlname_count30_date',\n",
              " 'ssnfullname_count30_date',\n",
              " 'ssnfname_count30_date',\n",
              " 'address_days_since_last_seen',\n",
              " 'address_count3_date',\n",
              " 'namedob_count180_date',\n",
              " 'ssnnamedob_count180_date']"
            ]
          },
          "metadata": {
            "tags": []
          },
          "execution_count": 1404
        }
      ]
    },
    {
      "cell_type": "code",
      "metadata": {
        "id": "WM7hY-x7JXw9",
        "colab_type": "code",
        "outputId": "74a35117-e005-45cd-8377-4dbdf4571bf9",
        "colab": {
          "base_uri": "https://localhost:8080/",
          "height": 33
        }
      },
      "source": [
        "len(variables)"
      ],
      "execution_count": 0,
      "outputs": [
        {
          "output_type": "execute_result",
          "data": {
            "text/plain": [
              "30"
            ]
          },
          "metadata": {
            "tags": []
          },
          "execution_count": 1405
        }
      ]
    },
    {
      "cell_type": "code",
      "metadata": {
        "id": "pW25UyQ8Wtx5",
        "colab_type": "code",
        "colab": {}
      },
      "source": [
        "X_test=X_test_copy[variables]\n",
        "X_train=X_train_copy[variables]"
      ],
      "execution_count": 0,
      "outputs": []
    },
    {
      "cell_type": "code",
      "metadata": {
        "id": "VMMeic-TnQH0",
        "colab_type": "code",
        "colab": {}
      },
      "source": [
        "#from sklearn.model_selection import train_test_split\n",
        "#datasplit=zmydatatrain[variables]\n",
        "#datasplit1 = datasplit.drop(\"fraud_label\", axis = 1)\n",
        "#X_train, X_test, y_train, y_test = train_test_split(datasplit1, datasplit['fraud_label'], test_size = 0.20, random_state = 9, stratify = datasplit['fraud_label'])"
      ],
      "execution_count": 0,
      "outputs": []
    },
    {
      "cell_type": "code",
      "metadata": {
        "id": "cpZLK-YXwZP2",
        "colab_type": "code",
        "outputId": "4b003a29-d1f1-4432-9933-ac6ea61aac75",
        "colab": {
          "base_uri": "https://localhost:8080/",
          "height": 115
        }
      },
      "source": [
        "!pip install imblearn"
      ],
      "execution_count": 0,
      "outputs": [
        {
          "output_type": "stream",
          "text": [
            "Requirement already satisfied: imblearn in /usr/local/lib/python3.6/dist-packages (0.0)\n",
            "Requirement already satisfied: imbalanced-learn in /usr/local/lib/python3.6/dist-packages (from imblearn) (0.4.3)\n",
            "Requirement already satisfied: scikit-learn>=0.20 in /usr/local/lib/python3.6/dist-packages (from imbalanced-learn->imblearn) (0.22.1)\n",
            "Requirement already satisfied: numpy>=1.8.2 in /usr/local/lib/python3.6/dist-packages (from imbalanced-learn->imblearn) (1.17.5)\n",
            "Requirement already satisfied: scipy>=0.13.3 in /usr/local/lib/python3.6/dist-packages (from imbalanced-learn->imblearn) (1.4.1)\n",
            "Requirement already satisfied: joblib>=0.11 in /usr/local/lib/python3.6/dist-packages (from scikit-learn>=0.20->imbalanced-learn->imblearn) (0.14.1)\n"
          ],
          "name": "stdout"
        }
      ]
    },
    {
      "cell_type": "code",
      "metadata": {
        "id": "2awbFBNbwYe3",
        "colab_type": "code",
        "outputId": "d4dfcf26-c083-46e8-85b8-62c908caadd8",
        "colab": {
          "base_uri": "https://localhost:8080/",
          "height": 200
        }
      },
      "source": [
        "print(\"Before OverSampling, counts of label '1': {}\".format(sum(y_train == 1))) \n",
        "print(\"Before OverSampling, counts of label '0': {} \\n\".format(sum(y_train == 0))) \n",
        "  \n",
        "# import SMOTE module from imblearn library \n",
        "# pip install imblearn (if you don't have imblearn in your system) \n",
        "from imblearn.over_sampling import SMOTE \n",
        "sm = SMOTE(random_state = 2) \n",
        "X_train_res, y_train_res = sm.fit_sample(X_train, y_train.ravel()) \n",
        "  \n",
        "print('After OverSampling, the shape of train_X: {}'.format(X_train_res.shape)) \n",
        "print('After OverSampling, the shape of train_y: {} \\n'.format(y_train_res.shape)) \n",
        "  \n",
        "print(\"After OverSampling, counts of label '1': {}\".format(sum(y_train_res == 1))) \n",
        "print(\"After OverSampling, counts of label '0': {}\".format(sum(y_train_res == 0))) \n"
      ],
      "execution_count": 0,
      "outputs": [
        {
          "output_type": "stream",
          "text": [
            "Before OverSampling, counts of label '1': 9189\n",
            "Before OverSampling, counts of label '0': 626807 \n",
            "\n"
          ],
          "name": "stdout"
        },
        {
          "output_type": "stream",
          "text": [
            "/usr/local/lib/python3.6/dist-packages/sklearn/utils/deprecation.py:87: FutureWarning: Function safe_indexing is deprecated; safe_indexing is deprecated in version 0.22 and will be removed in version 0.24.\n",
            "  warnings.warn(msg, category=FutureWarning)\n"
          ],
          "name": "stderr"
        },
        {
          "output_type": "stream",
          "text": [
            "After OverSampling, the shape of train_X: (1253614, 15)\n",
            "After OverSampling, the shape of train_y: (1253614,) \n",
            "\n",
            "After OverSampling, counts of label '1': 626807\n",
            "After OverSampling, counts of label '0': 626807\n"
          ],
          "name": "stdout"
        }
      ]
    },
    {
      "cell_type": "code",
      "metadata": {
        "scrolled": true,
        "id": "L2Oem94JnQH1",
        "colab_type": "code",
        "outputId": "9ffce2f4-9fe5-4c5e-898a-1c08904873c6",
        "colab": {
          "base_uri": "https://localhost:8080/",
          "height": 98
        }
      },
      "source": [
        "model=LogisticRegression()\n",
        "model.fit(X_train_res, y_train_res)"
      ],
      "execution_count": 0,
      "outputs": [
        {
          "output_type": "execute_result",
          "data": {
            "text/plain": [
              "LogisticRegression(C=1.0, class_weight=None, dual=False, fit_intercept=True,\n",
              "                   intercept_scaling=1, l1_ratio=None, max_iter=100,\n",
              "                   multi_class='auto', n_jobs=None, penalty='l2',\n",
              "                   random_state=None, solver='lbfgs', tol=0.0001, verbose=0,\n",
              "                   warm_start=False)"
            ]
          },
          "metadata": {
            "tags": []
          },
          "execution_count": 1340
        }
      ]
    },
    {
      "cell_type": "code",
      "metadata": {
        "id": "OoL65NlanQH4",
        "colab_type": "code",
        "colab": {}
      },
      "source": [
        "fdrsample=len(model.predict_proba(X_test))*0.03"
      ],
      "execution_count": 0,
      "outputs": []
    },
    {
      "cell_type": "code",
      "metadata": {
        "id": "18qStcYOnQH5",
        "colab_type": "code",
        "outputId": "7987ba91-7df2-4800-d95a-09ef8967aa2c",
        "colab": {
          "base_uri": "https://localhost:8080/",
          "height": 33
        }
      },
      "source": [
        "fdrsample"
      ],
      "execution_count": 0,
      "outputs": [
        {
          "output_type": "execute_result",
          "data": {
            "text/plain": [
              "4770.0"
            ]
          },
          "metadata": {
            "tags": []
          },
          "execution_count": 1342
        }
      ]
    },
    {
      "cell_type": "markdown",
      "metadata": {
        "id": "3QbxBGv4H-yJ",
        "colab_type": "text"
      },
      "source": [
        "Training Effectiveness"
      ]
    },
    {
      "cell_type": "code",
      "metadata": {
        "id": "sqLhsrcOH-HF",
        "colab_type": "code",
        "colab": {}
      },
      "source": [
        "predict=model.predict_proba(X_train)"
      ],
      "execution_count": 0,
      "outputs": []
    },
    {
      "cell_type": "code",
      "metadata": {
        "id": "6_Fo_0f2nQH-",
        "colab_type": "code",
        "colab": {}
      },
      "source": [
        "yactual=y_train.reset_index()\n",
        "yactual=yactual['fraud_label']"
      ],
      "execution_count": 0,
      "outputs": []
    },
    {
      "cell_type": "code",
      "metadata": {
        "id": "QBliwCU9nQIA",
        "colab_type": "code",
        "colab": {}
      },
      "source": [
        "df=pd.DataFrame(predict,yactual)\n",
        "df=df.reset_index()\n",
        "df=df.rename(columns={1: 'Pred_Proba'})\n",
        "predict=df.sort_values('fraud_label',ascending=False)\n",
        "predict=predict.sort_values('Pred_Proba',ascending=False)\n",
        "predict.reset_index(inplace=True)"
      ],
      "execution_count": 0,
      "outputs": []
    },
    {
      "cell_type": "code",
      "metadata": {
        "id": "JUdr71tUxfXk",
        "colab_type": "code",
        "colab": {}
      },
      "source": [
        "predict=predict.drop(columns=[0,'index'])"
      ],
      "execution_count": 0,
      "outputs": []
    },
    {
      "cell_type": "code",
      "metadata": {
        "id": "NewDlKqk10Kc",
        "colab_type": "code",
        "colab": {}
      },
      "source": [
        "predict=predict[:round(len(X_train)*.03)]"
      ],
      "execution_count": 0,
      "outputs": []
    },
    {
      "cell_type": "code",
      "metadata": {
        "id": "gG_7yFZVIon2",
        "colab_type": "code",
        "outputId": "f4ac6aaa-584d-487c-fb7f-186b39f1cbff",
        "colab": {
          "base_uri": "https://localhost:8080/",
          "height": 391
        }
      },
      "source": [
        "predict"
      ],
      "execution_count": 0,
      "outputs": [
        {
          "output_type": "execute_result",
          "data": {
            "text/html": [
              "<div>\n",
              "<style scoped>\n",
              "    .dataframe tbody tr th:only-of-type {\n",
              "        vertical-align: middle;\n",
              "    }\n",
              "\n",
              "    .dataframe tbody tr th {\n",
              "        vertical-align: top;\n",
              "    }\n",
              "\n",
              "    .dataframe thead th {\n",
              "        text-align: right;\n",
              "    }\n",
              "</style>\n",
              "<table border=\"1\" class=\"dataframe\">\n",
              "  <thead>\n",
              "    <tr style=\"text-align: right;\">\n",
              "      <th></th>\n",
              "      <th>fraud_label</th>\n",
              "      <th>Pred_Proba</th>\n",
              "    </tr>\n",
              "  </thead>\n",
              "  <tbody>\n",
              "    <tr>\n",
              "      <th>0</th>\n",
              "      <td>1</td>\n",
              "      <td>1.000000</td>\n",
              "    </tr>\n",
              "    <tr>\n",
              "      <th>1</th>\n",
              "      <td>1</td>\n",
              "      <td>1.000000</td>\n",
              "    </tr>\n",
              "    <tr>\n",
              "      <th>2</th>\n",
              "      <td>1</td>\n",
              "      <td>1.000000</td>\n",
              "    </tr>\n",
              "    <tr>\n",
              "      <th>3</th>\n",
              "      <td>1</td>\n",
              "      <td>1.000000</td>\n",
              "    </tr>\n",
              "    <tr>\n",
              "      <th>4</th>\n",
              "      <td>1</td>\n",
              "      <td>1.000000</td>\n",
              "    </tr>\n",
              "    <tr>\n",
              "      <th>...</th>\n",
              "      <td>...</td>\n",
              "      <td>...</td>\n",
              "    </tr>\n",
              "    <tr>\n",
              "      <th>19075</th>\n",
              "      <td>0</td>\n",
              "      <td>0.666952</td>\n",
              "    </tr>\n",
              "    <tr>\n",
              "      <th>19076</th>\n",
              "      <td>0</td>\n",
              "      <td>0.666952</td>\n",
              "    </tr>\n",
              "    <tr>\n",
              "      <th>19077</th>\n",
              "      <td>0</td>\n",
              "      <td>0.666952</td>\n",
              "    </tr>\n",
              "    <tr>\n",
              "      <th>19078</th>\n",
              "      <td>0</td>\n",
              "      <td>0.666952</td>\n",
              "    </tr>\n",
              "    <tr>\n",
              "      <th>19079</th>\n",
              "      <td>0</td>\n",
              "      <td>0.666952</td>\n",
              "    </tr>\n",
              "  </tbody>\n",
              "</table>\n",
              "<p>19080 rows × 2 columns</p>\n",
              "</div>"
            ],
            "text/plain": [
              "       fraud_label  Pred_Proba\n",
              "0                1    1.000000\n",
              "1                1    1.000000\n",
              "2                1    1.000000\n",
              "3                1    1.000000\n",
              "4                1    1.000000\n",
              "...            ...         ...\n",
              "19075            0    0.666952\n",
              "19076            0    0.666952\n",
              "19077            0    0.666952\n",
              "19078            0    0.666952\n",
              "19079            0    0.666952\n",
              "\n",
              "[19080 rows x 2 columns]"
            ]
          },
          "metadata": {
            "tags": []
          },
          "execution_count": 1348
        }
      ]
    },
    {
      "cell_type": "code",
      "metadata": {
        "id": "zPpcc3gY67vi",
        "colab_type": "code",
        "outputId": "02bf38d9-e735-40d0-b089-6c2ac771dd3d",
        "colab": {
          "base_uri": "https://localhost:8080/",
          "height": 33
        }
      },
      "source": [
        "sum(predict['fraud_label']==1)"
      ],
      "execution_count": 0,
      "outputs": [
        {
          "output_type": "execute_result",
          "data": {
            "text/plain": [
              "3254"
            ]
          },
          "metadata": {
            "tags": []
          },
          "execution_count": 1349
        }
      ]
    },
    {
      "cell_type": "code",
      "metadata": {
        "id": "eKO2mYyo21AP",
        "colab_type": "code",
        "colab": {}
      },
      "source": [
        "trainFDR=sum(predict['fraud_label']==1)/(sum(y_train))"
      ],
      "execution_count": 0,
      "outputs": []
    },
    {
      "cell_type": "markdown",
      "metadata": {
        "id": "3trr1YtPI4qY",
        "colab_type": "text"
      },
      "source": [
        "Testing with test data:"
      ]
    },
    {
      "cell_type": "code",
      "metadata": {
        "id": "AuJUAqujI4We",
        "colab_type": "code",
        "colab": {}
      },
      "source": [
        "predict=model.predict_proba(X_test)\n",
        "yactual=y_test.reset_index()\n",
        "yactual=yactual['fraud_label']"
      ],
      "execution_count": 0,
      "outputs": []
    },
    {
      "cell_type": "code",
      "metadata": {
        "id": "SaeDq6m0JBqK",
        "colab_type": "code",
        "colab": {}
      },
      "source": [
        "df=pd.DataFrame(predict,yactual)\n",
        "df=df.reset_index()\n",
        "df=df.rename(columns={1: 'Pred_Proba'})\n",
        "predict=df.sort_values('fraud_label',ascending=False)\n",
        "predict=predict.sort_values('Pred_Proba',ascending=False)\n",
        "predict.reset_index(inplace=True)"
      ],
      "execution_count": 0,
      "outputs": []
    },
    {
      "cell_type": "code",
      "metadata": {
        "id": "p351K4foJDc_",
        "colab_type": "code",
        "colab": {}
      },
      "source": [
        "predict=predict[:round(len(X_test)*.03)]"
      ],
      "execution_count": 0,
      "outputs": []
    },
    {
      "cell_type": "code",
      "metadata": {
        "id": "FyUt4T0TJFCy",
        "colab_type": "code",
        "colab": {}
      },
      "source": [
        "ytestFDR=sum(predict['fraud_label']==1)/(sum(y_test))"
      ],
      "execution_count": 0,
      "outputs": []
    },
    {
      "cell_type": "markdown",
      "metadata": {
        "id": "5cF6bleoAmcq",
        "colab_type": "text"
      },
      "source": [
        "Testing Model:"
      ]
    },
    {
      "cell_type": "code",
      "metadata": {
        "id": "rNY_fu6XDfw4",
        "colab_type": "code",
        "outputId": "27ddfe8d-633e-4f59-87a6-741d3c7d7e05",
        "colab": {
          "base_uri": "https://localhost:8080/",
          "height": 33
        }
      },
      "source": [
        "zmydatatest.shape"
      ],
      "execution_count": 0,
      "outputs": [
        {
          "output_type": "execute_result",
          "data": {
            "text/plain": [
              "(166493, 307)"
            ]
          },
          "metadata": {
            "tags": []
          },
          "execution_count": 1355
        }
      ]
    },
    {
      "cell_type": "code",
      "metadata": {
        "id": "VHHskwRODhI7",
        "colab_type": "code",
        "outputId": "3d3cee61-a80d-4a84-b959-a4a16c259e20",
        "colab": {
          "base_uri": "https://localhost:8080/",
          "height": 33
        }
      },
      "source": [
        "ztestfraud.shape"
      ],
      "execution_count": 0,
      "outputs": [
        {
          "output_type": "execute_result",
          "data": {
            "text/plain": [
              "(166493,)"
            ]
          },
          "metadata": {
            "tags": []
          },
          "execution_count": 1356
        }
      ]
    },
    {
      "cell_type": "code",
      "metadata": {
        "id": "GSMUL0u2AQ33",
        "colab_type": "code",
        "colab": {}
      },
      "source": [
        "datatest=zmydatatest[variables]\n",
        "ztestfraud=zmydatatest['fraud_label']"
      ],
      "execution_count": 0,
      "outputs": []
    },
    {
      "cell_type": "code",
      "metadata": {
        "id": "6vSIJPKxBLZN",
        "colab_type": "code",
        "colab": {}
      },
      "source": [
        "predict=model.predict_proba(datatest)"
      ],
      "execution_count": 0,
      "outputs": []
    },
    {
      "cell_type": "code",
      "metadata": {
        "id": "hmB-IBLvCnaH",
        "colab_type": "code",
        "colab": {}
      },
      "source": [
        "df=pd.DataFrame(predict,ztestfraud)\n",
        "df=df.reset_index()\n",
        "df=df.rename(columns={1: 'Pred_Proba'})\n",
        "predict=df.sort_values('fraud_label',ascending=False)\n",
        "predict=predict.sort_values('Pred_Proba',ascending=False)\n",
        "predict.reset_index(inplace=True)"
      ],
      "execution_count": 0,
      "outputs": []
    },
    {
      "cell_type": "code",
      "metadata": {
        "id": "Ag0SVmFuGi93",
        "colab_type": "code",
        "outputId": "141f702c-0fe1-43d4-9e64-26775f016c6c",
        "colab": {
          "base_uri": "https://localhost:8080/",
          "height": 33
        }
      },
      "source": [
        "sum(predict[:4995]['fraud_label']==1)"
      ],
      "execution_count": 0,
      "outputs": [
        {
          "output_type": "execute_result",
          "data": {
            "text/plain": [
              "766"
            ]
          },
          "metadata": {
            "tags": []
          },
          "execution_count": 1360
        }
      ]
    },
    {
      "cell_type": "code",
      "metadata": {
        "id": "4UrFDe_HEcW5",
        "colab_type": "code",
        "outputId": "c64c1eea-60a2-407b-8f8f-4e979e7ee335",
        "colab": {
          "base_uri": "https://localhost:8080/",
          "height": 33
        }
      },
      "source": [
        "sum(predict[:round(len(zmydatatest)*0.03)]['fraud_label']==1)"
      ],
      "execution_count": 0,
      "outputs": [
        {
          "output_type": "execute_result",
          "data": {
            "text/plain": [
              "766"
            ]
          },
          "metadata": {
            "tags": []
          },
          "execution_count": 1361
        }
      ]
    },
    {
      "cell_type": "code",
      "metadata": {
        "id": "WWO-4UAjEQjG",
        "colab_type": "code",
        "outputId": "d956446c-1430-4222-a056-1032648f2e7f",
        "colab": {
          "base_uri": "https://localhost:8080/",
          "height": 33
        }
      },
      "source": [
        "ztestfraud.sum()"
      ],
      "execution_count": 0,
      "outputs": [
        {
          "output_type": "execute_result",
          "data": {
            "text/plain": [
              "2386"
            ]
          },
          "metadata": {
            "tags": []
          },
          "execution_count": 1362
        }
      ]
    },
    {
      "cell_type": "code",
      "metadata": {
        "id": "5omeVu1SBrDy",
        "colab_type": "code",
        "colab": {}
      },
      "source": [
        "ootFDR=sum(predict[:round(len(zmydatatest)*0.03)]['fraud_label']==1)/(sum(ztestfraud))"
      ],
      "execution_count": 0,
      "outputs": []
    },
    {
      "cell_type": "code",
      "metadata": {
        "id": "wDgWottnCZdQ",
        "colab_type": "code",
        "outputId": "5ef25bd0-98c9-4104-9f7f-e63f378b15b0",
        "colab": {
          "base_uri": "https://localhost:8080/",
          "height": 66
        }
      },
      "source": [
        "print(f'The train FDR is: {round(trainFDR*100,4)}%\\n\\\n",
        "The test FDR is: {round(ytestFDR*100,4)}%\\n\\\n",
        "The oot FDR is: {round(ootFDR*100,4)}%.')"
      ],
      "execution_count": 0,
      "outputs": [
        {
          "output_type": "stream",
          "text": [
            "The train FDR is: 35.4119%\n",
            "The test FDR is: 37.0919%\n",
            "The oot FDR is: 32.1039%.\n"
          ],
          "name": "stdout"
        }
      ]
    },
    {
      "cell_type": "code",
      "metadata": {
        "id": "NhMV4ScNBwqo",
        "colab_type": "code",
        "outputId": "d10e2ecf-0911-4c5d-b6b6-437716305f05",
        "colab": {
          "base_uri": "https://localhost:8080/",
          "height": 391
        }
      },
      "source": [
        "predict"
      ],
      "execution_count": 0,
      "outputs": [
        {
          "output_type": "execute_result",
          "data": {
            "text/html": [
              "<div>\n",
              "<style scoped>\n",
              "    .dataframe tbody tr th:only-of-type {\n",
              "        vertical-align: middle;\n",
              "    }\n",
              "\n",
              "    .dataframe tbody tr th {\n",
              "        vertical-align: top;\n",
              "    }\n",
              "\n",
              "    .dataframe thead th {\n",
              "        text-align: right;\n",
              "    }\n",
              "</style>\n",
              "<table border=\"1\" class=\"dataframe\">\n",
              "  <thead>\n",
              "    <tr style=\"text-align: right;\">\n",
              "      <th></th>\n",
              "      <th>index</th>\n",
              "      <th>fraud_label</th>\n",
              "      <th>0</th>\n",
              "      <th>Pred_Proba</th>\n",
              "    </tr>\n",
              "  </thead>\n",
              "  <tbody>\n",
              "    <tr>\n",
              "      <th>0</th>\n",
              "      <td>162192</td>\n",
              "      <td>0</td>\n",
              "      <td>0.0000</td>\n",
              "      <td>1.0000</td>\n",
              "    </tr>\n",
              "    <tr>\n",
              "      <th>1</th>\n",
              "      <td>81816</td>\n",
              "      <td>1</td>\n",
              "      <td>0.0000</td>\n",
              "      <td>1.0000</td>\n",
              "    </tr>\n",
              "    <tr>\n",
              "      <th>2</th>\n",
              "      <td>83877</td>\n",
              "      <td>1</td>\n",
              "      <td>0.0000</td>\n",
              "      <td>1.0000</td>\n",
              "    </tr>\n",
              "    <tr>\n",
              "      <th>3</th>\n",
              "      <td>83500</td>\n",
              "      <td>1</td>\n",
              "      <td>0.0000</td>\n",
              "      <td>1.0000</td>\n",
              "    </tr>\n",
              "    <tr>\n",
              "      <th>4</th>\n",
              "      <td>163870</td>\n",
              "      <td>1</td>\n",
              "      <td>0.0000</td>\n",
              "      <td>1.0000</td>\n",
              "    </tr>\n",
              "    <tr>\n",
              "      <th>...</th>\n",
              "      <td>...</td>\n",
              "      <td>...</td>\n",
              "      <td>...</td>\n",
              "      <td>...</td>\n",
              "    </tr>\n",
              "    <tr>\n",
              "      <th>166488</th>\n",
              "      <td>9579</td>\n",
              "      <td>0</td>\n",
              "      <td>0.8115</td>\n",
              "      <td>0.1885</td>\n",
              "    </tr>\n",
              "    <tr>\n",
              "      <th>166489</th>\n",
              "      <td>120411</td>\n",
              "      <td>0</td>\n",
              "      <td>0.8115</td>\n",
              "      <td>0.1885</td>\n",
              "    </tr>\n",
              "    <tr>\n",
              "      <th>166490</th>\n",
              "      <td>94762</td>\n",
              "      <td>0</td>\n",
              "      <td>0.8115</td>\n",
              "      <td>0.1885</td>\n",
              "    </tr>\n",
              "    <tr>\n",
              "      <th>166491</th>\n",
              "      <td>33016</td>\n",
              "      <td>0</td>\n",
              "      <td>0.8115</td>\n",
              "      <td>0.1885</td>\n",
              "    </tr>\n",
              "    <tr>\n",
              "      <th>166492</th>\n",
              "      <td>137429</td>\n",
              "      <td>0</td>\n",
              "      <td>0.8115</td>\n",
              "      <td>0.1885</td>\n",
              "    </tr>\n",
              "  </tbody>\n",
              "</table>\n",
              "<p>166493 rows × 4 columns</p>\n",
              "</div>"
            ],
            "text/plain": [
              "         index  fraud_label       0  Pred_Proba\n",
              "0       162192            0  0.0000      1.0000\n",
              "1        81816            1  0.0000      1.0000\n",
              "2        83877            1  0.0000      1.0000\n",
              "3        83500            1  0.0000      1.0000\n",
              "4       163870            1  0.0000      1.0000\n",
              "...        ...          ...     ...         ...\n",
              "166488    9579            0  0.8115      0.1885\n",
              "166489  120411            0  0.8115      0.1885\n",
              "166490   94762            0  0.8115      0.1885\n",
              "166491   33016            0  0.8115      0.1885\n",
              "166492  137429            0  0.8115      0.1885\n",
              "\n",
              "[166493 rows x 4 columns]"
            ]
          },
          "metadata": {
            "tags": []
          },
          "execution_count": 1330
        }
      ]
    },
    {
      "cell_type": "code",
      "metadata": {
        "colab_type": "code",
        "outputId": "f1f36ef2-7cb3-479a-fa0f-3ae63a7b811b",
        "id": "X_OinbI695NH",
        "colab": {
          "base_uri": "https://localhost:8080/",
          "height": 482
        }
      },
      "source": [
        "cm = confusion_matrix(y_test, model.predict(X_test))\n",
        "\n",
        "fig, ax = plt.subplots(figsize=(8, 8))\n",
        "ax.imshow(cm)\n",
        "ax.grid(False)\n",
        "ax.xaxis.set(ticks=(0, 1), ticklabels=('Predicted 0s', 'Predicted 1s'))\n",
        "ax.yaxis.set(ticks=(0, 1), ticklabels=('Actual 0s', 'Actual 1s'))\n",
        "ax.set_ylim(1.5, -0.5)\n",
        "for i in range(2):\n",
        "    for j in range(2):\n",
        "        ax.text(j, i, cm[i, j], ha='center', va='center', color='red')\n",
        "plt.show()"
      ],
      "execution_count": 0,
      "outputs": [
        {
          "output_type": "display_data",
          "data": {
            "image/png": "[encoded data removed]",
            "text/plain": [
              "<Figure size 576x576 with 1 Axes>"
            ]
          },
          "metadata": {
            "tags": []
          }
        }
      ]
    },
    {
      "cell_type": "code",
      "metadata": {
        "id": "X-HC-J6xnQIj",
        "colab_type": "code",
        "outputId": "f9f08490-52ed-4020-d98a-a5545edf40ff",
        "colab": {
          "base_uri": "https://localhost:8080/",
          "height": 163
        }
      },
      "source": [
        "print(classification_report(y_test, model.predict(X_test)))"
      ],
      "execution_count": 0,
      "outputs": [
        {
          "output_type": "stream",
          "text": [
            "              precision    recall  f1-score   support\n",
            "\n",
            "           0       0.99      0.98      0.98    156703\n",
            "           1       0.25      0.54      0.34      2297\n",
            "\n",
            "    accuracy                           0.97    159000\n",
            "   macro avg       0.62      0.76      0.66    159000\n",
            "weighted avg       0.98      0.97      0.98    159000\n",
            "\n"
          ],
          "name": "stdout"
        }
      ]
    },
    {
      "cell_type": "code",
      "metadata": {
        "id": "85K4D-2SnQIl",
        "colab_type": "code",
        "outputId": "1e020c5a-d855-4e69-c1df-07c9b482b5dc",
        "colab": {
          "base_uri": "https://localhost:8080/",
          "height": 191
        }
      },
      "source": [
        "X_train, X_test, y_train, y_test = logitrain_X,logitest_X,logitrain_Y,logitest_Y\n",
        "logreg = LogisticRegression()\n",
        "logreg.fit(X_train, y_train)"
      ],
      "execution_count": 0,
      "outputs": [
        {
          "output_type": "error",
          "ename": "NameError",
          "evalue": "ignored",
          "traceback": [
            "\u001b[0;31m---------------------------------------------------------------------------\u001b[0m",
            "\u001b[0;31mNameError\u001b[0m                                 Traceback (most recent call last)",
            "\u001b[0;32m<ipython-input-1068-b63e7df3429b>\u001b[0m in \u001b[0;36m<module>\u001b[0;34m()\u001b[0m\n\u001b[0;32m----> 1\u001b[0;31m \u001b[0mX_train\u001b[0m\u001b[0;34m,\u001b[0m \u001b[0mX_test\u001b[0m\u001b[0;34m,\u001b[0m \u001b[0my_train\u001b[0m\u001b[0;34m,\u001b[0m \u001b[0my_test\u001b[0m \u001b[0;34m=\u001b[0m \u001b[0mlogitrain_X\u001b[0m\u001b[0;34m,\u001b[0m\u001b[0mlogitest_X\u001b[0m\u001b[0;34m,\u001b[0m\u001b[0mlogitrain_Y\u001b[0m\u001b[0;34m,\u001b[0m\u001b[0mlogitest_Y\u001b[0m\u001b[0;34m\u001b[0m\u001b[0;34m\u001b[0m\u001b[0m\n\u001b[0m\u001b[1;32m      2\u001b[0m \u001b[0mlogreg\u001b[0m \u001b[0;34m=\u001b[0m \u001b[0mLogisticRegression\u001b[0m\u001b[0;34m(\u001b[0m\u001b[0;34m)\u001b[0m\u001b[0;34m\u001b[0m\u001b[0;34m\u001b[0m\u001b[0m\n\u001b[1;32m      3\u001b[0m \u001b[0mlogreg\u001b[0m\u001b[0;34m.\u001b[0m\u001b[0mfit\u001b[0m\u001b[0;34m(\u001b[0m\u001b[0mX_train\u001b[0m\u001b[0;34m,\u001b[0m \u001b[0my_train\u001b[0m\u001b[0;34m)\u001b[0m\u001b[0;34m\u001b[0m\u001b[0;34m\u001b[0m\u001b[0m\n",
            "\u001b[0;31mNameError\u001b[0m: name 'logitrain_X' is not defined"
          ]
        }
      ]
    },
    {
      "cell_type": "code",
      "metadata": {
        "id": "_GEzVNBmnQIm",
        "colab_type": "code",
        "colab": {}
      },
      "source": [
        "help(LogisticRegression)"
      ],
      "execution_count": 0,
      "outputs": []
    },
    {
      "cell_type": "code",
      "metadata": {
        "id": "bmJM1ZvlnQIn",
        "colab_type": "code",
        "colab": {}
      },
      "source": [
        "y_pred = logreg.predict(X_test)\n",
        "print('Accuracy of logistic regression classifier on test set: {:.2f}'.format(logreg.score(X_test, y_test)))"
      ],
      "execution_count": 0,
      "outputs": []
    },
    {
      "cell_type": "code",
      "metadata": {
        "id": "V6RPZsJEOqPp",
        "colab_type": "code",
        "outputId": "4c084616-0932-4c4a-8d58-55bc9f56161c",
        "colab": {
          "base_uri": "https://localhost:8080/",
          "height": 212
        }
      },
      "source": [
        "y_test"
      ],
      "execution_count": 0,
      "outputs": [
        {
          "output_type": "execute_result",
          "data": {
            "text/plain": [
              "307150    0\n",
              "613834    0\n",
              "559776    0\n",
              "649548    0\n",
              "529900    0\n",
              "         ..\n",
              "528358    0\n",
              "4668      0\n",
              "404148    0\n",
              "440008    0\n",
              "667359    0\n",
              "Name: fraud_label, Length: 159000, dtype: int64"
            ]
          },
          "metadata": {
            "tags": []
          },
          "execution_count": 546
        }
      ]
    },
    {
      "cell_type": "markdown",
      "metadata": {
        "id": "G1A8Jb10ryJl",
        "colab_type": "text"
      },
      "source": [
        "##### Decision Tree"
      ]
    },
    {
      "cell_type": "code",
      "metadata": {
        "id": "GHAfpIg5-6X-",
        "colab_type": "code",
        "colab": {}
      },
      "source": [
        "from sklearn.tree import DecisionTreeClassifier\n",
        "dt = DecisionTreeClassifier()"
      ],
      "execution_count": 0,
      "outputs": []
    },
    {
      "cell_type": "code",
      "metadata": {
        "id": "XhU4kOWfAcuo",
        "colab_type": "code",
        "colab": {}
      },
      "source": [
        "varall2=pd.read_csv('/content/drive/Shared drives/DSO562 Fraud Project/Project2/selected_variables_version2.csv')"
      ],
      "execution_count": 0,
      "outputs": []
    },
    {
      "cell_type": "code",
      "metadata": {
        "id": "iKNjF40Y5Xgz",
        "colab_type": "code",
        "colab": {}
      },
      "source": [
        "varall1=pd.read_csv('/content/drive/Shared drives/DSO562 Fraud Project/Project2/Data_w_top_20_features.csv')\n",
        "varlist=varall1.columns.to_list()[1:21]"
      ],
      "execution_count": 0,
      "outputs": []
    },
    {
      "cell_type": "code",
      "metadata": {
        "id": "UNqaeVEaq4OR",
        "colab_type": "code",
        "colab": {}
      },
      "source": [
        "varlist=varall2['variable'][:30].to_list()"
      ],
      "execution_count": 0,
      "outputs": []
    },
    {
      "cell_type": "code",
      "metadata": {
        "id": "HXey7PvQl0h5",
        "colab_type": "code",
        "colab": {}
      },
      "source": [
        "varlist=varall2[:30]['variable'].to_list()\n",
        "varlistcopy=varlist.copy()\n",
        "varlist.append('fraud_label')"
      ],
      "execution_count": 0,
      "outputs": []
    },
    {
      "cell_type": "code",
      "metadata": {
        "id": "DvIiZpu96xM8",
        "colab_type": "code",
        "outputId": "e09a6613-6372-4bd7-dba4-8d7c18ce782a",
        "colab": {
          "base_uri": "https://localhost:8080/",
          "height": 895
        }
      },
      "source": [
        "variables=varall2['variable'].to_list()\n",
        "variables"
      ],
      "execution_count": 0,
      "outputs": [
        {
          "output_type": "execute_result",
          "data": {
            "text/plain": [
              "['fulladdress_count1_date',\n",
              " 'fulladdress_count30_date',\n",
              " 'fulladdress_days_since_last_seen',\n",
              " 'fulladdress_nunique1_dob',\n",
              " 'fulladdresshomephone_count30_date',\n",
              " 'fulladdresshomephone_days_since_last_seen',\n",
              " 'namedob_count14_date',\n",
              " 'namedob_count30_date',\n",
              " 'namedob_days_since_last_seen',\n",
              " 'ssn_days_since_last_seen',\n",
              " 'ssndob_count30_date',\n",
              " 'ssndob_days_since_last_seen',\n",
              " 'ssnfname_days_since_last_seen',\n",
              " 'ssnfullname_count30_date',\n",
              " 'ssnfullname_days_since_last_seen',\n",
              " 'ssnlname_count30_date',\n",
              " 'ssnlname_days_since_last_seen',\n",
              " 'ssnnamedob_count30_date',\n",
              " 'ssnnamedob_days_since_last_seen',\n",
              " 'ssnlname_count180_date',\n",
              " 'fulladdresshomephone_count14_date',\n",
              " 'fulladdress_nunique3_ssn',\n",
              " 'address_days_since_last_seen',\n",
              " 'ssnfname_count14_date',\n",
              " 'ssnlname_count14_date',\n",
              " 'ssnfname_count30_date',\n",
              " 'ssnfullname_count180_date',\n",
              " 'ssnfname_count180_date',\n",
              " 'namedob_count180_date',\n",
              " 'ssnnamedob_count180_date',\n",
              " 'fulladdress_count180_date',\n",
              " 'address_count30_date',\n",
              " 'fulladdress_nunique3_dob',\n",
              " 'address_count3_date',\n",
              " 'ssn_count14_date',\n",
              " 'ssn_count30_date',\n",
              " 'fulladdress_count7_date',\n",
              " 'ssnnamedob_count14_date',\n",
              " 'fulladdress_count3_date',\n",
              " 'address_count1_date',\n",
              " 'address_count7_date',\n",
              " 'fulladdress_count14_date',\n",
              " 'address_1_count_address_14_count_Ave',\n",
              " 'address_count180_date',\n",
              " 'fulladdress_nunique3_ssnfname',\n",
              " 'fulladdresshomephone_count180_date',\n",
              " 'ssnfullname_count14_date',\n",
              " 'ssndob_count180_date',\n",
              " 'ssn_count180_date',\n",
              " 'fulladdress_nunique1_ssn',\n",
              " 'fulladdress_1_count_fulladdress_14_count_Ave',\n",
              " 'fulladdress_nunique1_ssnfname',\n",
              " 'address_count14_date',\n",
              " 'ssndob_count14_date']"
            ]
          },
          "metadata": {
            "tags": []
          },
          "execution_count": 51
        }
      ]
    },
    {
      "cell_type": "code",
      "metadata": {
        "id": "5JN4isRO4yLQ",
        "colab_type": "code",
        "colab": {}
      },
      "source": [
        "n=30\n",
        "variables1=variables[:n]\n",
        "variables1copy=variables[:n]"
      ],
      "execution_count": 0,
      "outputs": []
    },
    {
      "cell_type": "code",
      "metadata": {
        "id": "dqR9Z1jE7UmL",
        "colab_type": "code",
        "colab": {}
      },
      "source": [
        "variables1.append('fraud_label')"
      ],
      "execution_count": 0,
      "outputs": []
    },
    {
      "cell_type": "code",
      "metadata": {
        "id": "PGwZaqxz7ysL",
        "colab_type": "code",
        "colab": {}
      },
      "source": [
        "variables1=varlist"
      ],
      "execution_count": 0,
      "outputs": []
    },
    {
      "cell_type": "code",
      "metadata": {
        "id": "qiW_d55su86W",
        "colab_type": "code",
        "colab": {}
      },
      "source": [
        "from sklearn.metrics import roc_auc_score\n",
        "from sklearn.metrics import roc_curve, auc\n",
        "import matplotlib.pyplot as plt"
      ],
      "execution_count": 0,
      "outputs": []
    },
    {
      "cell_type": "code",
      "metadata": {
        "id": "5jaXOfMkVtkx",
        "colab_type": "code",
        "colab": {}
      },
      "source": [
        "from sklearn.model_selection import train_test_split\n",
        "datasplit=zmydatatrain[varlist]\n",
        "datasplit1 = datasplit.drop(\"fraud_label\", axis = 1)\n",
        "X_train, X_test, y_train, y_test = train_test_split(datasplit1, datasplit['fraud_label'], test_size = 0.20, random_state = 11, stratify = datasplit['fraud_label'])"
      ],
      "execution_count": 0,
      "outputs": []
    },
    {
      "cell_type": "code",
      "metadata": {
        "id": "trLFdHmSVyj6",
        "colab_type": "code",
        "outputId": "51bc9114-22f9-4a98-8873-dd4f3320f14c",
        "colab": {
          "base_uri": "https://localhost:8080/",
          "height": 200
        }
      },
      "source": [
        "print(\"Before OverSampling, counts of label '1': {}\".format(sum(y_train == 1))) \n",
        "print(\"Before OverSampling, counts of label '0': {} \\n\".format(sum(y_train == 0))) \n",
        "  \n",
        "# import SMOTE module from imblearn library \n",
        "# pip install imblearn (if you don't have imblearn in your system) \n",
        "from imblearn.over_sampling import SMOTE \n",
        "sm = SMOTE(random_state = 2) \n",
        "X_train_res, y_train_res = sm.fit_sample(X_train, y_train.ravel()) \n",
        "  \n",
        "print('After OverSampling, the shape of train_X: {}'.format(X_train_res.shape)) \n",
        "print('After OverSampling, the shape of train_y: {} \\n'.format(y_train_res.shape)) \n",
        "  \n",
        "print(\"After OverSampling, counts of label '1': {}\".format(sum(y_train_res == 1))) \n",
        "print(\"After OverSampling, counts of label '0': {}\".format(sum(y_train_res == 0))) \n"
      ],
      "execution_count": 0,
      "outputs": [
        {
          "output_type": "stream",
          "text": [
            "Before OverSampling, counts of label '1': 9189\n",
            "Before OverSampling, counts of label '0': 626807 \n",
            "\n"
          ],
          "name": "stdout"
        },
        {
          "output_type": "stream",
          "text": [
            "/usr/local/lib/python3.6/dist-packages/sklearn/utils/deprecation.py:87: FutureWarning: Function safe_indexing is deprecated; safe_indexing is deprecated in version 0.22 and will be removed in version 0.24.\n",
            "  warnings.warn(msg, category=FutureWarning)\n"
          ],
          "name": "stderr"
        },
        {
          "output_type": "stream",
          "text": [
            "After OverSampling, the shape of train_X: (1253614, 20)\n",
            "After OverSampling, the shape of train_y: (1253614,) \n",
            "\n",
            "After OverSampling, counts of label '1': 626807\n",
            "After OverSampling, counts of label '0': 626807\n"
          ],
          "name": "stdout"
        }
      ]
    },
    {
      "cell_type": "code",
      "metadata": {
        "id": "UWi_ZebX-fq3",
        "colab_type": "code",
        "outputId": "645ce47b-9c8b-4d03-8eaf-4a9c10f375bd",
        "colab": {
          "base_uri": "https://localhost:8080/",
          "height": 278
        }
      },
      "source": [
        "max_depths = np.linspace(4, 7, 3, endpoint=True)\n",
        "train_results = []\n",
        "test_results = []\n",
        "for max_depth in max_depths:\n",
        "   dt = DecisionTreeClassifier(max_depth=max_depth)\n",
        "   dt.fit(X_train_res, y_train_res)\n",
        "   train_pred = dt.predict(X_train)\n",
        "   false_positive_rate, true_positive_rate, thresholds = roc_curve(y_train, train_pred)\n",
        "   roc_auc = auc(false_positive_rate, true_positive_rate)\n",
        "   # Add auc score to previous train results\n",
        "   train_results.append(roc_auc)\n",
        "   y_pred = dt.predict(X_test)\n",
        "   false_positive_rate, true_positive_rate, thresholds = roc_curve(y_test, y_pred)\n",
        "   roc_auc = auc(false_positive_rate, true_positive_rate)\n",
        "   # Add auc score to previous test results\n",
        "   test_results.append(roc_auc)\n",
        "from matplotlib.legend_handler import HandlerLine2D\n",
        "line1, = plt.plot(max_depths, train_results, 'b', label=\"Train AUC\")\n",
        "line2, = plt.plot(max_depths, test_results, 'r', label=\"Test AUC\")\n",
        "plt.legend(handler_map={line1: HandlerLine2D(numpoints=2)})\n",
        "plt.ylabel('AUC score')\n",
        "plt.xlabel('Tree depth')\n",
        "plt.show()\n",
        "# Max Depth best parameter should be 5.5"
      ],
      "execution_count": 0,
      "outputs": [
        {
          "output_type": "display_data",
          "data": {
            "image/png": "[encoded data removed]",
            "text/plain": [
              "<Figure size 432x288 with 1 Axes>"
            ]
          },
          "metadata": {
            "tags": []
          }
        }
      ]
    },
    {
      "cell_type": "code",
      "metadata": {
        "id": "9NWGuiC0C9a5",
        "colab_type": "code",
        "outputId": "badd01e2-2f05-4713-8404-2cbd6bf4baeb",
        "colab": {
          "base_uri": "https://localhost:8080/",
          "height": 278
        }
      },
      "source": [
        "min_samples_splits = np.linspace(0.6, 0.7,4, endpoint=True)\n",
        "train_results = []\n",
        "test_results = []\n",
        "for min_samples_split in min_samples_splits:\n",
        "   dt = DecisionTreeClassifier(max_depth=5.5,min_samples_split=min_samples_split)\n",
        "   dt.fit(X_train_res, y_train_res)\n",
        "   train_pred = dt.predict(X_train)\n",
        "   false_positive_rate, true_positive_rate, thresholds =    roc_curve(y_train, train_pred)\n",
        "   roc_auc = auc(false_positive_rate, true_positive_rate)\n",
        "   train_results.append(roc_auc)\n",
        "   y_pred = dt.predict(X_test)\n",
        "   false_positive_rate, true_positive_rate, thresholds = roc_curve(y_test, y_pred)\n",
        "   roc_auc = auc(false_positive_rate, true_positive_rate)\n",
        "   test_results.append(roc_auc)\n",
        "from matplotlib.legend_handler import HandlerLine2D\n",
        "line1, = plt.plot(min_samples_splits, train_results, 'b', label=\"Train AUC\")\n",
        "line2, = plt.plot(min_samples_splits, test_results, 'r', label=\"Test AUC\")\n",
        "plt.legend(handler_map={line1: HandlerLine2D(numpoints=2)})\n",
        "plt.ylabel('AUC score')\n",
        "plt.xlabel('min samples split')\n",
        "plt.show()\n",
        "## Min_Samples_Splits=0.67"
      ],
      "execution_count": 0,
      "outputs": [
        {
          "output_type": "display_data",
          "data": {
            "image/png": "[encoded data removed]",
            "text/plain": [
              "<Figure size 432x288 with 1 Axes>"
            ]
          },
          "metadata": {
            "tags": []
          }
        }
      ]
    },
    {
      "cell_type": "code",
      "metadata": {
        "id": "AXRzgdcII2-i",
        "colab_type": "code",
        "outputId": "bf722fe4-15b3-46e2-d558-2be2e82565aa",
        "colab": {
          "base_uri": "https://localhost:8080/",
          "height": 278
        }
      },
      "source": [
        "max_depths = np.linspace(1, 15, 15, endpoint=True)\n",
        "train_results = []\n",
        "test_results = []\n",
        "for max_depth in max_depths:\n",
        "   dt = DecisionTreeClassifier(max_depth=max_depth)\n",
        "   dt.fit(X_train_res, y_train_res)\n",
        "   train_pred = dt.predict(X_train)\n",
        "   false_positive_rate, true_positive_rate, thresholds = roc_curve(y_train, train_pred)\n",
        "   roc_auc = auc(false_positive_rate, true_positive_rate)\n",
        "   # Add auc score to previous train results\n",
        "   train_results.append(roc_auc)\n",
        "   y_pred = dt.predict(X_test)\n",
        "   false_positive_rate, true_positive_rate, thresholds = roc_curve(y_test, y_pred)\n",
        "   roc_auc = auc(false_positive_rate, true_positive_rate)\n",
        "   # Add auc score to previous test results\n",
        "   test_results.append(roc_auc)\n",
        "from matplotlib.legend_handler import HandlerLine2D\n",
        "line1, = plt.plot(max_depths, train_results, 'b', label=\"Train AUC\")\n",
        "line2, = plt.plot(max_depths, test_results, 'r', label=\"Test AUC\")\n",
        "plt.legend(handler_map={line1: HandlerLine2D(numpoints=2)})\n",
        "plt.ylabel(\"AUC score\")\n",
        "plt.xlabel(\"Tree depth\")\n",
        "plt.show()"
      ],
      "execution_count": 0,
      "outputs": [
        {
          "output_type": "display_data",
          "data": {
            "image/png": "[encoded data removed]",
            "text/plain": [
              "<Figure size 432x288 with 1 Axes>"
            ]
          },
          "metadata": {
            "tags": []
          }
        }
      ]
    },
    {
      "cell_type": "code",
      "metadata": {
        "id": "qX1U0faDMCy2",
        "colab_type": "code",
        "outputId": "f78b695e-f83b-4ac3-d87a-7a149e6587a9",
        "colab": {
          "base_uri": "https://localhost:8080/",
          "height": 280
        }
      },
      "source": [
        "min_samples_leafs = np.linspace(0.05, 0.3, 5, endpoint=True)\n",
        "train_results = []\n",
        "test_results = []\n",
        "for min_samples_leaf in min_samples_leafs:\n",
        "   dt = DecisionTreeClassifier(max_depth=5.5,min_samples_split=0.67,min_samples_leaf=min_samples_leaf)\n",
        "   dt.fit(X_train_res, y_train_res)\n",
        "   train_pred = dt.predict(X_train)\n",
        "   false_positive_rate, true_positive_rate, thresholds = roc_curve(y_train, train_pred)\n",
        "   roc_auc = auc(false_positive_rate, true_positive_rate)\n",
        "   train_results.append(roc_auc)\n",
        "   y_pred = dt.predict(X_test)\n",
        "   false_positive_rate, true_positive_rate, thresholds = roc_curve(y_test, y_pred)\n",
        "   roc_auc = auc(false_positive_rate, true_positive_rate)\n",
        "   test_results.append(roc_auc)\n",
        "from matplotlib.legend_handler import HandlerLine2D\n",
        "line1, = plt.plot(min_samples_leafs, train_results, 'b', label=\"Train AUC\")\n",
        "line2, = plt.plot(min_samples_leafs, test_results, 'r', label=\"Test AUC\")\n",
        "plt.legend(handler_map={line1: HandlerLine2D(numpoints=2)})\n",
        "plt.ylabel('AUC score')\n",
        "plt.xlabel('min samples leaf')\n",
        "plt.show()\n",
        "## Min_Samples 0.2"
      ],
      "execution_count": 0,
      "outputs": [
        {
          "output_type": "display_data",
          "data": {
            "image/png": "[encoded data removed]",
            "text/plain": [
              "<Figure size 432x288 with 1 Axes>"
            ]
          },
          "metadata": {
            "tags": []
          }
        }
      ]
    },
    {
      "cell_type": "code",
      "metadata": {
        "id": "2h1opoDjM9At",
        "colab_type": "code",
        "colab": {}
      },
      "source": [
        "clf=DecisionTreeClassifier(max_depth=6,min_samples_split=0.625)\n",
        "from sklearn.metrics import confusion_matrix"
      ],
      "execution_count": 0,
      "outputs": []
    },
    {
      "cell_type": "code",
      "metadata": {
        "id": "NfUCnAtg58Ba",
        "colab_type": "code",
        "colab": {}
      },
      "source": [
        "from sklearn.model_selection import train_test_split\n",
        "datasplit=zmydatatrain[varlist]\n",
        "datasplit1 = datasplit.drop(\"fraud_label\", axis = 1)\n",
        "X_train, X_test, y_train, y_test = train_test_split(datasplit1, datasplit['fraud_label'], test_size = 0.20, random_state = 59, stratify = datasplit['fraud_label'])"
      ],
      "execution_count": 0,
      "outputs": []
    },
    {
      "cell_type": "code",
      "metadata": {
        "id": "8AuHH3T657c-",
        "colab_type": "code",
        "outputId": "71162a98-7bcf-4534-e072-1ec1e023ce6e",
        "colab": {
          "base_uri": "https://localhost:8080/",
          "height": 200
        }
      },
      "source": [
        "print(\"Before OverSampling, counts of label '1': {}\".format(sum(y_train == 1))) \n",
        "print(\"Before OverSampling, counts of label '0': {} \\n\".format(sum(y_train == 0))) \n",
        "  \n",
        "# import SMOTE module from imblearn library \n",
        "# pip install imblearn (if you don't have imblearn in your system) \n",
        "from imblearn.over_sampling import SMOTE \n",
        "sm = SMOTE(random_state = 2) \n",
        "X_train_res, y_train_res = sm.fit_sample(X_train, y_train.ravel()) \n",
        "  \n",
        "print('After OverSampling, the shape of train_X: {}'.format(X_train_res.shape)) \n",
        "print('After OverSampling, the shape of train_y: {} \\n'.format(y_train_res.shape)) \n",
        "  \n",
        "print(\"After OverSampling, counts of label '1': {}\".format(sum(y_train_res == 1))) \n",
        "print(\"After OverSampling, counts of label '0': {}\".format(sum(y_train_res == 0))) \n"
      ],
      "execution_count": 0,
      "outputs": [
        {
          "output_type": "stream",
          "text": [
            "Before OverSampling, counts of label '1': 9189\n",
            "Before OverSampling, counts of label '0': 626807 \n",
            "\n"
          ],
          "name": "stdout"
        },
        {
          "output_type": "stream",
          "text": [
            "/usr/local/lib/python3.6/dist-packages/sklearn/utils/deprecation.py:87: FutureWarning: Function safe_indexing is deprecated; safe_indexing is deprecated in version 0.22 and will be removed in version 0.24.\n",
            "  warnings.warn(msg, category=FutureWarning)\n"
          ],
          "name": "stderr"
        },
        {
          "output_type": "stream",
          "text": [
            "After OverSampling, the shape of train_X: (1253614, 30)\n",
            "After OverSampling, the shape of train_y: (1253614,) \n",
            "\n",
            "After OverSampling, counts of label '1': 626807\n",
            "After OverSampling, counts of label '0': 626807\n"
          ],
          "name": "stdout"
        }
      ]
    },
    {
      "cell_type": "code",
      "metadata": {
        "id": "d_wWY0DcuOpv",
        "colab_type": "code",
        "colab": {}
      },
      "source": [
        "X_train_sub=X_train_res\n",
        "clf.fit(X_train_res, y_train_res)\n",
        "prediction_train = clf.predict(X_train_sub)\n",
        "matrix = confusion_matrix(y_train_res, prediction_train)\n",
        "train_acc = clf.score(X_train_sub, y_train_res)\n",
        "train_auc = roc_auc_score(y_train_res, prediction_train)\n",
        "train_fdr = matrix[1,1]/sum(y_train_res)"
      ],
      "execution_count": 0,
      "outputs": []
    },
    {
      "cell_type": "code",
      "metadata": {
        "id": "V4EvG_ZnwPBW",
        "colab_type": "code",
        "colab": {}
      },
      "source": [
        "temp=pd.DataFrame()"
      ],
      "execution_count": 0,
      "outputs": []
    },
    {
      "cell_type": "code",
      "metadata": {
        "id": "McCxeLMP8Fyf",
        "colab_type": "code",
        "outputId": "c3030665-1531-46ed-8a76-84fd6d3da3c7",
        "colab": {
          "base_uri": "https://localhost:8080/",
          "height": 521
        }
      },
      "source": [
        "varlist"
      ],
      "execution_count": 0,
      "outputs": [
        {
          "output_type": "execute_result",
          "data": {
            "text/plain": [
              "['fulladdress_count1_date',\n",
              " 'fulladdress_count30_date',\n",
              " 'fulladdress_days_since_last_seen',\n",
              " 'fulladdress_nunique1_dob',\n",
              " 'fulladdresshomephone_count30_date',\n",
              " 'fulladdresshomephone_days_since_last_seen',\n",
              " 'namedob_count14_date',\n",
              " 'namedob_count30_date',\n",
              " 'namedob_days_since_last_seen',\n",
              " 'ssn_days_since_last_seen',\n",
              " 'ssndob_count30_date',\n",
              " 'ssndob_days_since_last_seen',\n",
              " 'ssnfname_days_since_last_seen',\n",
              " 'ssnfullname_count30_date',\n",
              " 'ssnfullname_days_since_last_seen',\n",
              " 'ssnlname_count30_date',\n",
              " 'ssnlname_days_since_last_seen',\n",
              " 'ssnnamedob_count30_date',\n",
              " 'ssnnamedob_days_since_last_seen',\n",
              " 'ssnlname_count180_date',\n",
              " 'fulladdresshomephone_count14_date',\n",
              " 'fulladdress_nunique3_ssn',\n",
              " 'address_days_since_last_seen',\n",
              " 'ssnfname_count14_date',\n",
              " 'ssnlname_count14_date',\n",
              " 'ssnfname_count30_date',\n",
              " 'ssnfullname_count180_date',\n",
              " 'ssnfname_count180_date',\n",
              " 'namedob_count180_date',\n",
              " 'ssnnamedob_count180_date',\n",
              " 'fraud_label']"
            ]
          },
          "metadata": {
            "tags": []
          },
          "execution_count": 785
        }
      ]
    },
    {
      "cell_type": "code",
      "metadata": {
        "id": "zbYClmQEvI5b",
        "colab_type": "code",
        "colab": {}
      },
      "source": [
        "X_test_sub = X_test[varlist[:30]]\n",
        "prediction_test = clf.predict_proba(X_test_sub)[:,1]\n",
        "temp=pd.DataFrame(prediction_test,y_test)"
      ],
      "execution_count": 0,
      "outputs": []
    },
    {
      "cell_type": "code",
      "metadata": {
        "id": "emJZy24HvRS1",
        "colab_type": "code",
        "colab": {}
      },
      "source": [
        "temp.reset_index(inplace=True)"
      ],
      "execution_count": 0,
      "outputs": []
    },
    {
      "cell_type": "code",
      "metadata": {
        "id": "tQllA71vwN9K",
        "colab_type": "code",
        "colab": {}
      },
      "source": [
        "temp=temp.sort_values(0,ascending=False)"
      ],
      "execution_count": 0,
      "outputs": []
    },
    {
      "cell_type": "code",
      "metadata": {
        "id": "uQ60kB1CxJEb",
        "colab_type": "code",
        "colab": {}
      },
      "source": [
        "testFDRdt=sum(temp[:round(len(temp)*0.03)]['fraud_label']==1)/sum(y_test)"
      ],
      "execution_count": 0,
      "outputs": []
    },
    {
      "cell_type": "code",
      "metadata": {
        "id": "Nl-AV1RAyfcY",
        "colab_type": "code",
        "outputId": "a5dccc3e-2b5e-4256-9422-59f3f1b10967",
        "colab": {
          "base_uri": "https://localhost:8080/",
          "height": 33
        }
      },
      "source": [
        "print(f'The testing FDR at 3% is {testFDRdt}.')"
      ],
      "execution_count": 0,
      "outputs": [
        {
          "output_type": "stream",
          "text": [
            "The testing FDR at 3% is 0.543317370483239.\n"
          ],
          "name": "stdout"
        }
      ]
    },
    {
      "cell_type": "code",
      "metadata": {
        "id": "XL02zU8Nv0Ep",
        "colab_type": "code",
        "colab": {}
      },
      "source": [
        "#matrix = confusion_matrix(y_test, prediction_test)\n",
        "#test_acc = clf.score(X_test_sub, y_test)\n",
        "#test_auc = roc_auc_score(y_test, prediction_test)\n",
        "#test_fdr = matrix[1,1]/sum(y_test)\n",
        "#comparison_df = pd.DataFrame({ \"Accuracy\": [train_acc, test_acc],\n",
        "                                  #\"AUC score\": [train_auc, test_auc],\n",
        "                                  #\"FDR\": [train_fdr, test_fdr]},\n",
        "                                 #index = [\"Training\", \"Testing\"])"
      ],
      "execution_count": 0,
      "outputs": []
    },
    {
      "cell_type": "code",
      "metadata": {
        "id": "nfyABneRx6b2",
        "colab_type": "code",
        "outputId": "e61fe936-7b2b-4e2d-e4dc-fe65855a66d9",
        "colab": {
          "base_uri": "https://localhost:8080/",
          "height": 391
        }
      },
      "source": [
        "prediction_train=clf.predict_proba(X_train)[:,1]\n",
        "temp=pd.DataFrame(prediction_train,y_train)\n",
        "temp.reset_index(inplace=True)\n",
        "temp"
      ],
      "execution_count": 0,
      "outputs": [
        {
          "output_type": "execute_result",
          "data": {
            "text/html": [
              "<div>\n",
              "<style scoped>\n",
              "    .dataframe tbody tr th:only-of-type {\n",
              "        vertical-align: middle;\n",
              "    }\n",
              "\n",
              "    .dataframe tbody tr th {\n",
              "        vertical-align: top;\n",
              "    }\n",
              "\n",
              "    .dataframe thead th {\n",
              "        text-align: right;\n",
              "    }\n",
              "</style>\n",
              "<table border=\"1\" class=\"dataframe\">\n",
              "  <thead>\n",
              "    <tr style=\"text-align: right;\">\n",
              "      <th></th>\n",
              "      <th>fraud_label</th>\n",
              "      <th>0</th>\n",
              "    </tr>\n",
              "  </thead>\n",
              "  <tbody>\n",
              "    <tr>\n",
              "      <th>0</th>\n",
              "      <td>0</td>\n",
              "      <td>0.327777</td>\n",
              "    </tr>\n",
              "    <tr>\n",
              "      <th>1</th>\n",
              "      <td>0</td>\n",
              "      <td>0.327777</td>\n",
              "    </tr>\n",
              "    <tr>\n",
              "      <th>2</th>\n",
              "      <td>0</td>\n",
              "      <td>0.327777</td>\n",
              "    </tr>\n",
              "    <tr>\n",
              "      <th>3</th>\n",
              "      <td>0</td>\n",
              "      <td>0.327777</td>\n",
              "    </tr>\n",
              "    <tr>\n",
              "      <th>4</th>\n",
              "      <td>0</td>\n",
              "      <td>0.327777</td>\n",
              "    </tr>\n",
              "    <tr>\n",
              "      <th>...</th>\n",
              "      <td>...</td>\n",
              "      <td>...</td>\n",
              "    </tr>\n",
              "    <tr>\n",
              "      <th>635991</th>\n",
              "      <td>0</td>\n",
              "      <td>0.327777</td>\n",
              "    </tr>\n",
              "    <tr>\n",
              "      <th>635992</th>\n",
              "      <td>0</td>\n",
              "      <td>0.327777</td>\n",
              "    </tr>\n",
              "    <tr>\n",
              "      <th>635993</th>\n",
              "      <td>0</td>\n",
              "      <td>0.327777</td>\n",
              "    </tr>\n",
              "    <tr>\n",
              "      <th>635994</th>\n",
              "      <td>0</td>\n",
              "      <td>0.327777</td>\n",
              "    </tr>\n",
              "    <tr>\n",
              "      <th>635995</th>\n",
              "      <td>0</td>\n",
              "      <td>0.327777</td>\n",
              "    </tr>\n",
              "  </tbody>\n",
              "</table>\n",
              "<p>635996 rows × 2 columns</p>\n",
              "</div>"
            ],
            "text/plain": [
              "        fraud_label         0\n",
              "0                 0  0.327777\n",
              "1                 0  0.327777\n",
              "2                 0  0.327777\n",
              "3                 0  0.327777\n",
              "4                 0  0.327777\n",
              "...             ...       ...\n",
              "635991            0  0.327777\n",
              "635992            0  0.327777\n",
              "635993            0  0.327777\n",
              "635994            0  0.327777\n",
              "635995            0  0.327777\n",
              "\n",
              "[635996 rows x 2 columns]"
            ]
          },
          "metadata": {
            "tags": []
          },
          "execution_count": 792
        }
      ]
    },
    {
      "cell_type": "code",
      "metadata": {
        "id": "SOnsn72HtY38",
        "colab_type": "code",
        "outputId": "5cbb584b-2e1a-449d-e6ec-457dfe206c23",
        "colab": {
          "base_uri": "https://localhost:8080/",
          "height": 33
        }
      },
      "source": [
        "temp=temp.sort_values(0,ascending=False)\n",
        "temp1=temp[:round(len(temp)*0.03)]\n",
        "trainFDRdt=temp1['fraud_label'].sum()/(temp['fraud_label'].sum())\n",
        "print(f'The training FDR at 3% is {trainFDRdt}.')"
      ],
      "execution_count": 0,
      "outputs": [
        {
          "output_type": "stream",
          "text": [
            "The training FDR at 3% is 0.5361845685058222.\n"
          ],
          "name": "stdout"
        }
      ]
    },
    {
      "cell_type": "code",
      "metadata": {
        "id": "qj5eN4Kl11dK",
        "colab_type": "code",
        "outputId": "6d23cdc2-3381-4f85-d1ed-4a521efb99f2",
        "colab": {
          "base_uri": "https://localhost:8080/",
          "height": 33
        }
      },
      "source": [
        "temp1['fraud_label'].sum()"
      ],
      "execution_count": 0,
      "outputs": [
        {
          "output_type": "execute_result",
          "data": {
            "text/plain": [
              "4927"
            ]
          },
          "metadata": {
            "tags": []
          },
          "execution_count": 794
        }
      ]
    },
    {
      "cell_type": "code",
      "metadata": {
        "id": "UE64KLpr1INo",
        "colab_type": "code",
        "outputId": "48b3d54e-826b-4f12-f04f-335c9a7640e7",
        "colab": {
          "base_uri": "https://localhost:8080/",
          "height": 33
        }
      },
      "source": [
        "temp['fraud_label'].sum()"
      ],
      "execution_count": 0,
      "outputs": [
        {
          "output_type": "execute_result",
          "data": {
            "text/plain": [
              "9189"
            ]
          },
          "metadata": {
            "tags": []
          },
          "execution_count": 795
        }
      ]
    },
    {
      "cell_type": "markdown",
      "metadata": {
        "id": "mrSlVwEk3IWl",
        "colab_type": "text"
      },
      "source": [
        "##### Testing with OOT Data"
      ]
    },
    {
      "cell_type": "code",
      "metadata": {
        "id": "Qquh4Onr3IAV",
        "colab_type": "code",
        "colab": {}
      },
      "source": [
        "datatest=zmydatatest[varlist[:30]]\n",
        "ztestfraud=zmydatatest['fraud_label']\n",
        "predict=clf.predict_proba(datatest)[:,1]\n",
        "temp=pd.DataFrame(predict,ztestfraud).reset_index()"
      ],
      "execution_count": 0,
      "outputs": []
    },
    {
      "cell_type": "code",
      "metadata": {
        "id": "SPurNfV73OIG",
        "colab_type": "code",
        "colab": {}
      },
      "source": [
        "temp=temp.sort_values(0,ascending=False)\n",
        "temp=temp[:round(len(temp)*0.03)]\n",
        "ootfdrdt=temp['fraud_label'].sum()/zmydatatest['fraud_label'].sum()"
      ],
      "execution_count": 0,
      "outputs": []
    },
    {
      "cell_type": "code",
      "metadata": {
        "id": "F-tWhJcy39wS",
        "colab_type": "code",
        "outputId": "a3a0f7f5-4df3-42d3-992e-5c64eefb038a",
        "colab": {
          "base_uri": "https://localhost:8080/",
          "height": 66
        }
      },
      "source": [
        "print(f'The train FDR for decision tree is: {round(trainFDRdt*100,4)}%\\n\\\n",
        "The test FDR for decision tree is: {round(testFDRdt*100,4)}%\\n\\\n",
        "The oot FDR for decision tree is: {round(ootfdrdt*100,4)}%.')"
      ],
      "execution_count": 0,
      "outputs": [
        {
          "output_type": "stream",
          "text": [
            "The train FDR for decision tree is: 53.6185%\n",
            "The test FDR for decision tree is: 54.3317%\n",
            "The oot FDR for decision tree is: 50.5029%.\n"
          ],
          "name": "stdout"
        }
      ]
    },
    {
      "cell_type": "code",
      "metadata": {
        "id": "KSQ_ZaxI4lO8",
        "colab_type": "code",
        "outputId": "d32d2c96-efed-4699-fcf2-461858235b3b",
        "colab": {
          "base_uri": "https://localhost:8080/",
          "height": 33
        }
      },
      "source": [
        "len(varlist)"
      ],
      "execution_count": 0,
      "outputs": [
        {
          "output_type": "execute_result",
          "data": {
            "text/plain": [
              "31"
            ]
          },
          "metadata": {
            "tags": []
          },
          "execution_count": 799
        }
      ]
    },
    {
      "cell_type": "markdown",
      "metadata": {
        "id": "kj0dQGmMmHC_",
        "colab_type": "text"
      },
      "source": [
        "#### NeuroNet (1):"
      ]
    },
    {
      "cell_type": "code",
      "metadata": {
        "id": "5Xv5EmGDmIkJ",
        "colab_type": "code",
        "colab": {}
      },
      "source": [
        "from sklearn.neural_network import MLPClassifier\n",
        "from sklearn.metrics import confusion_matrix\n",
        "from sklearn.metrics import roc_auc_score\n",
        "from sklearn.model_selection import GridSearchCV"
      ],
      "execution_count": 0,
      "outputs": []
    },
    {
      "cell_type": "code",
      "metadata": {
        "id": "Y9vqgy95Hr3F",
        "colab_type": "code",
        "outputId": "de9559d4-c84c-4466-f7c7-56bc66af194b",
        "colab": {
          "base_uri": "https://localhost:8080/",
          "height": 521
        }
      },
      "source": [
        "varlist=varall2[:30]['variable'].to_list()\n",
        "varlist.append('fraud_label')\n",
        "varlist"
      ],
      "execution_count": 0,
      "outputs": [
        {
          "output_type": "execute_result",
          "data": {
            "text/plain": [
              "['fulladdress_count1_date',\n",
              " 'fulladdress_count30_date',\n",
              " 'fulladdress_days_since_last_seen',\n",
              " 'fulladdress_nunique1_dob',\n",
              " 'fulladdresshomephone_count30_date',\n",
              " 'fulladdresshomephone_days_since_last_seen',\n",
              " 'namedob_count14_date',\n",
              " 'namedob_count30_date',\n",
              " 'namedob_days_since_last_seen',\n",
              " 'ssn_days_since_last_seen',\n",
              " 'ssndob_count30_date',\n",
              " 'ssndob_days_since_last_seen',\n",
              " 'ssnfname_days_since_last_seen',\n",
              " 'ssnfullname_count30_date',\n",
              " 'ssnfullname_days_since_last_seen',\n",
              " 'ssnlname_count30_date',\n",
              " 'ssnlname_days_since_last_seen',\n",
              " 'ssnnamedob_count30_date',\n",
              " 'ssnnamedob_days_since_last_seen',\n",
              " 'ssnlname_count180_date',\n",
              " 'fulladdresshomephone_count14_date',\n",
              " 'fulladdress_nunique3_ssn',\n",
              " 'address_days_since_last_seen',\n",
              " 'ssnfname_count14_date',\n",
              " 'ssnlname_count14_date',\n",
              " 'ssnfname_count30_date',\n",
              " 'ssnfullname_count180_date',\n",
              " 'ssnfname_count180_date',\n",
              " 'namedob_count180_date',\n",
              " 'ssnnamedob_count180_date',\n",
              " 'fraud_label']"
            ]
          },
          "metadata": {
            "tags": []
          },
          "execution_count": 46
        }
      ]
    },
    {
      "cell_type": "code",
      "metadata": {
        "id": "FvOUN0MImoGZ",
        "colab_type": "code",
        "colab": {}
      },
      "source": [
        "varlist=varall2[:30]['variable'].to_list()\n",
        "varlistcopy=varall2[:30]['variable'].to_list()\n",
        "#varlistcopy=varlist.copy()\n",
        "#varlist.append('fraud_label')"
      ],
      "execution_count": 0,
      "outputs": []
    },
    {
      "cell_type": "code",
      "metadata": {
        "id": "cn57z5TYgzZQ",
        "colab_type": "code",
        "colab": {}
      },
      "source": [
        "varlist.append('fraud_label')"
      ],
      "execution_count": 0,
      "outputs": []
    },
    {
      "cell_type": "code",
      "metadata": {
        "id": "dfEM2t4y29F5",
        "colab_type": "code",
        "colab": {}
      },
      "source": [
        "parameters = {'solver': ['lbfgs'], 'max_iter': [500,1000,1500], 'alpha': 10.0 ** -np.arange(1, 7), 'hidden_layer_sizes':np.arange(5, 12), 'random_state':[0,1,2,3,4,5,6,7,8,9]}\n",
        "clf_grid_hair_soul = GridSearchCV(neural_network.MLPClassifier(), parameters, n_jobs=-1)"
      ],
      "execution_count": 0,
      "outputs": []
    },
    {
      "cell_type": "code",
      "metadata": {
        "id": "ho9wvwN-mTBb",
        "colab_type": "code",
        "colab": {}
      },
      "source": [
        "clf =MLPClassifier(hidden_layer_sizes=(15,15,15), max_iter = 1500,solver='sgd',learning_rate_init=0.001,random_state=8)"
      ],
      "execution_count": 0,
      "outputs": []
    },
    {
      "cell_type": "code",
      "metadata": {
        "id": "1RwkPZWgmfrt",
        "colab_type": "code",
        "colab": {}
      },
      "source": [
        "from sklearn.model_selection import train_test_split\n",
        "datasplit=zmydatatrain[varlist]\n",
        "datasplit1 = datasplit.drop(\"fraud_label\", axis = 1)\n",
        "X_train, X_test, y_train, y_test = train_test_split(datasplit1, datasplit['fraud_label'], test_size = 0.20, random_state = 10, stratify = datasplit['fraud_label'])"
      ],
      "execution_count": 0,
      "outputs": []
    },
    {
      "cell_type": "code",
      "metadata": {
        "id": "anBA6zEImf1I",
        "colab_type": "code",
        "outputId": "23326198-c525-416b-cc3b-7f6a692e76b2",
        "colab": {
          "base_uri": "https://localhost:8080/",
          "height": 200
        }
      },
      "source": [
        "print(\"Before OverSampling, counts of label '1': {}\".format(sum(y_train == 1))) \n",
        "print(\"Before OverSampling, counts of label '0': {} \\n\".format(sum(y_train == 0))) \n",
        "  \n",
        "# import SMOTE module from imblearn library \n",
        "# pip install imblearn (if you don't have imblearn in your system) \n",
        "from imblearn.over_sampling import SMOTE \n",
        "sm = SMOTE(random_state = 2) \n",
        "X_train_res, y_train_res = sm.fit_sample(X_train, y_train.ravel()) \n",
        "  \n",
        "print('After OverSampling, the shape of train_X: {}'.format(X_train_res.shape)) \n",
        "print('After OverSampling, the shape of train_y: {} \\n'.format(y_train_res.shape)) \n",
        "  \n",
        "print(\"After OverSampling, counts of label '1': {}\".format(sum(y_train_res == 1))) \n",
        "print(\"After OverSampling, counts of label '0': {}\".format(sum(y_train_res == 0))) \n"
      ],
      "execution_count": 0,
      "outputs": [
        {
          "output_type": "stream",
          "text": [
            "Before OverSampling, counts of label '1': 9189\n",
            "Before OverSampling, counts of label '0': 626807 \n",
            "\n"
          ],
          "name": "stdout"
        },
        {
          "output_type": "stream",
          "text": [
            "/usr/local/lib/python3.6/dist-packages/sklearn/utils/deprecation.py:87: FutureWarning: Function safe_indexing is deprecated; safe_indexing is deprecated in version 0.22 and will be removed in version 0.24.\n",
            "  warnings.warn(msg, category=FutureWarning)\n"
          ],
          "name": "stderr"
        },
        {
          "output_type": "stream",
          "text": [
            "After OverSampling, the shape of train_X: (1253614, 30)\n",
            "After OverSampling, the shape of train_y: (1253614,) \n",
            "\n",
            "After OverSampling, counts of label '1': 626807\n",
            "After OverSampling, counts of label '0': 626807\n"
          ],
          "name": "stdout"
        }
      ]
    },
    {
      "cell_type": "code",
      "metadata": {
        "id": "WWk2c1HImu6E",
        "colab_type": "code",
        "outputId": "ee397506-ee3f-4ba4-fd81-5fd8edd18297",
        "colab": {
          "base_uri": "https://localhost:8080/",
          "height": 147
        }
      },
      "source": [
        "X_train_sub = X_train_res\n",
        "clf.fit(X_train_sub, y_train_res)"
      ],
      "execution_count": 0,
      "outputs": [
        {
          "output_type": "execute_result",
          "data": {
            "text/plain": [
              "MLPClassifier(activation='relu', alpha=0.0001, batch_size='auto', beta_1=0.9,\n",
              "              beta_2=0.999, early_stopping=False, epsilon=1e-08,\n",
              "              hidden_layer_sizes=(15, 15, 15), learning_rate='constant',\n",
              "              learning_rate_init=0.001, max_fun=15000, max_iter=1500,\n",
              "              momentum=0.9, n_iter_no_change=10, nesterovs_momentum=True,\n",
              "              power_t=0.5, random_state=8, shuffle=True, solver='sgd',\n",
              "              tol=0.0001, validation_fraction=0.1, verbose=False,\n",
              "              warm_start=False)"
            ]
          },
          "metadata": {
            "tags": []
          },
          "execution_count": 436
        }
      ]
    },
    {
      "cell_type": "code",
      "metadata": {
        "id": "43scJAQzm0Sj",
        "colab_type": "code",
        "colab": {}
      },
      "source": [
        "prediction_train = clf.predict(X_train_sub)\n",
        "matrix = confusion_matrix(y_train_res, prediction_train)\n",
        "train_acc = clf.score(X_train_sub, y_train_res)\n",
        "train_auc = roc_auc_score(y_train_res, prediction_train)\n",
        "train_fdr = matrix[1,1]/sum(y_train_res)"
      ],
      "execution_count": 0,
      "outputs": []
    },
    {
      "cell_type": "code",
      "metadata": {
        "id": "enwaZUclc6q3",
        "colab_type": "code",
        "outputId": "d4ec6576-2233-4008-fd32-340f11ed0289",
        "colab": {
          "base_uri": "https://localhost:8080/",
          "height": 33
        }
      },
      "source": [
        "len(varlist)"
      ],
      "execution_count": 0,
      "outputs": [
        {
          "output_type": "execute_result",
          "data": {
            "text/plain": [
              "31"
            ]
          },
          "metadata": {
            "tags": []
          },
          "execution_count": 438
        }
      ]
    },
    {
      "cell_type": "code",
      "metadata": {
        "id": "bjv18u_xnGzq",
        "colab_type": "code",
        "colab": {}
      },
      "source": [
        "n=30\n",
        "temp=pd.DataFrame()\n",
        "X_test_sub = X_test[varlist[:n]]\n",
        "prediction_test = clf.predict_proba(X_test_sub)[:,1]\n",
        "temp=pd.DataFrame(prediction_test,y_test)\n",
        "temp.reset_index(inplace=True)\n",
        "temp=temp.sort_values(0,ascending=False)"
      ],
      "execution_count": 0,
      "outputs": []
    },
    {
      "cell_type": "code",
      "metadata": {
        "id": "LPc15_fanRHd",
        "colab_type": "code",
        "outputId": "cb2ba71c-5191-4b86-bb36-94f8c93094f4",
        "colab": {
          "base_uri": "https://localhost:8080/",
          "height": 33
        }
      },
      "source": [
        "testFDRnn=sum(temp[:round(len(temp)*0.03)]['fraud_label']==1)/sum(y_test)\n",
        "print(f'The testing FDR at 3% is {testFDRnn}.')"
      ],
      "execution_count": 0,
      "outputs": [
        {
          "output_type": "stream",
          "text": [
            "The testing FDR at 3% is 0.5454941227688289.\n"
          ],
          "name": "stdout"
        }
      ]
    },
    {
      "cell_type": "code",
      "metadata": {
        "id": "8_IS5alYoqSH",
        "colab_type": "code",
        "colab": {}
      },
      "source": [
        "prediction_train=clf.predict_proba(X_train)[:,1]\n",
        "temp=pd.DataFrame(prediction_train,y_train)\n",
        "temp.reset_index(inplace=True)\n",
        "temp=temp.sort_values(0,ascending=False)"
      ],
      "execution_count": 0,
      "outputs": []
    },
    {
      "cell_type": "code",
      "metadata": {
        "id": "gC1ErPqoaYcE",
        "colab_type": "code",
        "outputId": "d12fb99b-421b-4f18-e950-9020eaea8eb2",
        "colab": {
          "base_uri": "https://localhost:8080/",
          "height": 33
        }
      },
      "source": [
        "temp['fraud_label'].sum()"
      ],
      "execution_count": 0,
      "outputs": [
        {
          "output_type": "execute_result",
          "data": {
            "text/plain": [
              "9189"
            ]
          },
          "metadata": {
            "tags": []
          },
          "execution_count": 442
        }
      ]
    },
    {
      "cell_type": "code",
      "metadata": {
        "id": "FvHwziLbqO9i",
        "colab_type": "code",
        "outputId": "573beb4f-a71b-4176-c387-fbe4affbd82c",
        "colab": {
          "base_uri": "https://localhost:8080/",
          "height": 33
        }
      },
      "source": [
        "\n",
        "temp1=temp[:round(len(temp)*0.03)]\n",
        "trainFDRnn=temp1['fraud_label'].sum()/(temp['fraud_label'].sum())\n",
        "print(f'The training FDR at 3% is {trainFDRnn}.')"
      ],
      "execution_count": 0,
      "outputs": [
        {
          "output_type": "stream",
          "text": [
            "The training FDR at 3% is 0.5430405920121885.\n"
          ],
          "name": "stdout"
        }
      ]
    },
    {
      "cell_type": "code",
      "metadata": {
        "id": "sCjIOM0mqQpw",
        "colab_type": "code",
        "colab": {}
      },
      "source": [
        "datatest=zmydatatest[varlistcopy]\n",
        "ztestfraud=zmydatatest['fraud_label']\n",
        "predict=clf.predict_proba(datatest)[:,1]\n",
        "temp=pd.DataFrame(predict,ztestfraud).reset_index()\n",
        "temp=temp.sort_values(0,ascending=False)"
      ],
      "execution_count": 0,
      "outputs": []
    },
    {
      "cell_type": "code",
      "metadata": {
        "id": "tNCJCGxGqhrK",
        "colab_type": "code",
        "colab": {}
      },
      "source": [
        "\n",
        "temp=temp[:round(len(temp)*0.03)]\n",
        "ootfdrnn=temp['fraud_label'].sum()/zmydatatest['fraud_label'].sum()"
      ],
      "execution_count": 0,
      "outputs": []
    },
    {
      "cell_type": "code",
      "metadata": {
        "id": "N3jHEjPhqjxw",
        "colab_type": "code",
        "outputId": "32c82797-4484-4c13-da5d-209d84d2f644",
        "colab": {
          "base_uri": "https://localhost:8080/",
          "height": 66
        }
      },
      "source": [
        "print(f'The train FDR for decision tree is: {round(trainFDRnn*100,4)}%\\n\\\n",
        "The test FDR for decision tree is: {round(testFDRnn*100,4)}%\\n\\\n",
        "The oot FDR for decision tree is: {round(ootfdrnn*100,4)}%.')"
      ],
      "execution_count": 0,
      "outputs": [
        {
          "output_type": "stream",
          "text": [
            "The train FDR for decision tree is: 54.3041%\n",
            "The test FDR for decision tree is: 54.5494%\n",
            "The oot FDR for decision tree is: 52.7661%.\n"
          ],
          "name": "stdout"
        }
      ]
    },
    {
      "cell_type": "code",
      "metadata": {
        "id": "1cnNQWatSw1B",
        "colab_type": "code",
        "outputId": "e8cd3088-0346-4052-b212-ed834c36d873",
        "colab": {
          "base_uri": "https://localhost:8080/",
          "height": 33
        }
      },
      "source": [
        "import numpy as np\n",
        "int(len(X_train)*0.03)"
      ],
      "execution_count": 0,
      "outputs": [
        {
          "output_type": "execute_result",
          "data": {
            "text/plain": [
              "19079"
            ]
          },
          "metadata": {
            "tags": []
          },
          "execution_count": 447
        }
      ]
    },
    {
      "cell_type": "code",
      "metadata": {
        "id": "34WOmMycUjKZ",
        "colab_type": "code",
        "colab": {}
      },
      "source": [
        "slicer=list(range(0,34964,1665))\n",
        "final=[]\n",
        "for i in range(1,len(slicer)):\n",
        "  begin=slicer[i-1]\n",
        "  end=slicer[i]\n",
        "  result=sum(temp[begin:end]['fraud_label'])\n",
        "  final.append([slicer[i],result])\n"
      ],
      "execution_count": 0,
      "outputs": []
    },
    {
      "cell_type": "code",
      "metadata": {
        "id": "rbNyzor2Wo7z",
        "colab_type": "code",
        "outputId": "6a1be969-542d-49bd-9f12-47f10bdfc2a7",
        "colab": {
          "base_uri": "https://localhost:8080/",
          "height": 342
        }
      },
      "source": [
        "final"
      ],
      "execution_count": 0,
      "outputs": [
        {
          "output_type": "execute_result",
          "data": {
            "text/plain": [
              "[[1665, 1172],\n",
              " [3330, 71],\n",
              " [4995, 16],\n",
              " [6660, 0],\n",
              " [8325, 0],\n",
              " [9990, 0],\n",
              " [11655, 0],\n",
              " [13320, 0],\n",
              " [14985, 0],\n",
              " [16650, 0],\n",
              " [18315, 0],\n",
              " [19980, 0],\n",
              " [21645, 0],\n",
              " [23310, 0],\n",
              " [24975, 0],\n",
              " [26640, 0],\n",
              " [28305, 0],\n",
              " [29970, 0],\n",
              " [31635, 0],\n",
              " [33300, 0]]"
            ]
          },
          "metadata": {
            "tags": []
          },
          "execution_count": 449
        }
      ]
    },
    {
      "cell_type": "code",
      "metadata": {
        "id": "TOl-zRCqXRzr",
        "colab_type": "code",
        "outputId": "7bdd90bc-723c-4339-e7cb-5af41faee27f",
        "colab": {
          "base_uri": "https://localhost:8080/",
          "height": 33
        }
      },
      "source": [
        "temp['fraud_label'].sum()"
      ],
      "execution_count": 0,
      "outputs": [
        {
          "output_type": "execute_result",
          "data": {
            "text/plain": [
              "1259"
            ]
          },
          "metadata": {
            "tags": []
          },
          "execution_count": 450
        }
      ]
    }
  ]
}