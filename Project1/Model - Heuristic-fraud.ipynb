{
 "cells": [
  {
   "cell_type": "markdown",
   "metadata": {},
   "source": [
    "## Heuristic Model - fraud"
   ]
  },
  {
   "cell_type": "code",
   "execution_count": 1,
   "metadata": {},
   "outputs": [],
   "source": [
    "import pandas as pd\n",
    "import numpy as np"
   ]
  },
  {
   "cell_type": "code",
   "execution_count": 2,
   "metadata": {},
   "outputs": [],
   "source": [
    "df = pd.read_csv(\"PCA_standardized.csv\")"
   ]
  },
  {
   "cell_type": "code",
   "execution_count": 4,
   "metadata": {},
   "outputs": [
    {
     "data": {
      "text/html": [
       "<div>\n",
       "<style scoped>\n",
       "    .dataframe tbody tr th:only-of-type {\n",
       "        vertical-align: middle;\n",
       "    }\n",
       "\n",
       "    .dataframe tbody tr th {\n",
       "        vertical-align: top;\n",
       "    }\n",
       "\n",
       "    .dataframe thead th {\n",
       "        text-align: right;\n",
       "    }\n",
       "</style>\n",
       "<table border=\"1\" class=\"dataframe\">\n",
       "  <thead>\n",
       "    <tr style=\"text-align: right;\">\n",
       "      <th></th>\n",
       "      <th>PC1</th>\n",
       "      <th>PC2</th>\n",
       "      <th>PC3</th>\n",
       "      <th>PC4</th>\n",
       "      <th>PC5</th>\n",
       "      <th>PC6</th>\n",
       "      <th>PC7</th>\n",
       "      <th>PC8</th>\n",
       "    </tr>\n",
       "  </thead>\n",
       "  <tbody>\n",
       "    <tr>\n",
       "      <td>0</td>\n",
       "      <td>-0.001597</td>\n",
       "      <td>-0.099493</td>\n",
       "      <td>-0.062586</td>\n",
       "      <td>0.055364</td>\n",
       "      <td>0.063748</td>\n",
       "      <td>-0.078686</td>\n",
       "      <td>-0.074330</td>\n",
       "      <td>-0.001329</td>\n",
       "    </tr>\n",
       "    <tr>\n",
       "      <td>1</td>\n",
       "      <td>3.334907</td>\n",
       "      <td>17.051728</td>\n",
       "      <td>7.791509</td>\n",
       "      <td>1.202956</td>\n",
       "      <td>-5.870208</td>\n",
       "      <td>7.478103</td>\n",
       "      <td>9.150227</td>\n",
       "      <td>-0.355868</td>\n",
       "    </tr>\n",
       "    <tr>\n",
       "      <td>2</td>\n",
       "      <td>0.008796</td>\n",
       "      <td>0.098246</td>\n",
       "      <td>-0.045428</td>\n",
       "      <td>-0.088565</td>\n",
       "      <td>0.014162</td>\n",
       "      <td>-0.077065</td>\n",
       "      <td>-0.093301</td>\n",
       "      <td>-0.003220</td>\n",
       "    </tr>\n",
       "    <tr>\n",
       "      <td>3</td>\n",
       "      <td>0.063701</td>\n",
       "      <td>-0.074574</td>\n",
       "      <td>-0.082023</td>\n",
       "      <td>0.040459</td>\n",
       "      <td>0.121016</td>\n",
       "      <td>0.037284</td>\n",
       "      <td>-0.107443</td>\n",
       "      <td>0.016966</td>\n",
       "    </tr>\n",
       "    <tr>\n",
       "      <td>4</td>\n",
       "      <td>11.512157</td>\n",
       "      <td>-4.585651</td>\n",
       "      <td>-2.718350</td>\n",
       "      <td>5.188391</td>\n",
       "      <td>12.505159</td>\n",
       "      <td>24.322964</td>\n",
       "      <td>-6.417228</td>\n",
       "      <td>5.572582</td>\n",
       "    </tr>\n",
       "  </tbody>\n",
       "</table>\n",
       "</div>"
      ],
      "text/plain": [
       "         PC1        PC2       PC3       PC4        PC5        PC6       PC7  \\\n",
       "0  -0.001597  -0.099493 -0.062586  0.055364   0.063748  -0.078686 -0.074330   \n",
       "1   3.334907  17.051728  7.791509  1.202956  -5.870208   7.478103  9.150227   \n",
       "2   0.008796   0.098246 -0.045428 -0.088565   0.014162  -0.077065 -0.093301   \n",
       "3   0.063701  -0.074574 -0.082023  0.040459   0.121016   0.037284 -0.107443   \n",
       "4  11.512157  -4.585651 -2.718350  5.188391  12.505159  24.322964 -6.417228   \n",
       "\n",
       "        PC8  \n",
       "0 -0.001329  \n",
       "1 -0.355868  \n",
       "2 -0.003220  \n",
       "3  0.016966  \n",
       "4  5.572582  "
      ]
     },
     "execution_count": 4,
     "metadata": {},
     "output_type": "execute_result"
    }
   ],
   "source": [
    "train_data = df.iloc[:,1:]\n",
    "train_data.head()"
   ]
  },
  {
   "cell_type": "code",
   "execution_count": 5,
   "metadata": {},
   "outputs": [],
   "source": [
    "train = train_data.values"
   ]
  },
  {
   "cell_type": "code",
   "execution_count": 6,
   "metadata": {},
   "outputs": [],
   "source": [
    "train = pd.DataFrame(train)"
   ]
  },
  {
   "cell_type": "code",
   "execution_count": 7,
   "metadata": {},
   "outputs": [
    {
     "data": {
      "text/html": [
       "<div>\n",
       "<style scoped>\n",
       "    .dataframe tbody tr th:only-of-type {\n",
       "        vertical-align: middle;\n",
       "    }\n",
       "\n",
       "    .dataframe tbody tr th {\n",
       "        vertical-align: top;\n",
       "    }\n",
       "\n",
       "    .dataframe thead th {\n",
       "        text-align: right;\n",
       "    }\n",
       "</style>\n",
       "<table border=\"1\" class=\"dataframe\">\n",
       "  <thead>\n",
       "    <tr style=\"text-align: right;\">\n",
       "      <th></th>\n",
       "      <th>0</th>\n",
       "      <th>1</th>\n",
       "      <th>2</th>\n",
       "      <th>3</th>\n",
       "      <th>4</th>\n",
       "      <th>5</th>\n",
       "      <th>6</th>\n",
       "      <th>7</th>\n",
       "    </tr>\n",
       "  </thead>\n",
       "  <tbody>\n",
       "    <tr>\n",
       "      <td>0</td>\n",
       "      <td>-0.001597</td>\n",
       "      <td>-0.099493</td>\n",
       "      <td>-0.062586</td>\n",
       "      <td>0.055364</td>\n",
       "      <td>0.063748</td>\n",
       "      <td>-0.078686</td>\n",
       "      <td>-0.074330</td>\n",
       "      <td>-0.001329</td>\n",
       "    </tr>\n",
       "    <tr>\n",
       "      <td>1</td>\n",
       "      <td>3.334907</td>\n",
       "      <td>17.051728</td>\n",
       "      <td>7.791509</td>\n",
       "      <td>1.202956</td>\n",
       "      <td>-5.870208</td>\n",
       "      <td>7.478103</td>\n",
       "      <td>9.150227</td>\n",
       "      <td>-0.355868</td>\n",
       "    </tr>\n",
       "    <tr>\n",
       "      <td>2</td>\n",
       "      <td>0.008796</td>\n",
       "      <td>0.098246</td>\n",
       "      <td>-0.045428</td>\n",
       "      <td>-0.088565</td>\n",
       "      <td>0.014162</td>\n",
       "      <td>-0.077065</td>\n",
       "      <td>-0.093301</td>\n",
       "      <td>-0.003220</td>\n",
       "    </tr>\n",
       "    <tr>\n",
       "      <td>3</td>\n",
       "      <td>0.063701</td>\n",
       "      <td>-0.074574</td>\n",
       "      <td>-0.082023</td>\n",
       "      <td>0.040459</td>\n",
       "      <td>0.121016</td>\n",
       "      <td>0.037284</td>\n",
       "      <td>-0.107443</td>\n",
       "      <td>0.016966</td>\n",
       "    </tr>\n",
       "    <tr>\n",
       "      <td>4</td>\n",
       "      <td>11.512157</td>\n",
       "      <td>-4.585651</td>\n",
       "      <td>-2.718350</td>\n",
       "      <td>5.188391</td>\n",
       "      <td>12.505159</td>\n",
       "      <td>24.322964</td>\n",
       "      <td>-6.417228</td>\n",
       "      <td>5.572582</td>\n",
       "    </tr>\n",
       "  </tbody>\n",
       "</table>\n",
       "</div>"
      ],
      "text/plain": [
       "           0          1         2         3          4          5         6  \\\n",
       "0  -0.001597  -0.099493 -0.062586  0.055364   0.063748  -0.078686 -0.074330   \n",
       "1   3.334907  17.051728  7.791509  1.202956  -5.870208   7.478103  9.150227   \n",
       "2   0.008796   0.098246 -0.045428 -0.088565   0.014162  -0.077065 -0.093301   \n",
       "3   0.063701  -0.074574 -0.082023  0.040459   0.121016   0.037284 -0.107443   \n",
       "4  11.512157  -4.585651 -2.718350  5.188391  12.505159  24.322964 -6.417228   \n",
       "\n",
       "          7  \n",
       "0 -0.001329  \n",
       "1 -0.355868  \n",
       "2 -0.003220  \n",
       "3  0.016966  \n",
       "4  5.572582  "
      ]
     },
     "execution_count": 7,
     "metadata": {},
     "output_type": "execute_result"
    }
   ],
   "source": [
    "train.head()"
   ]
  },
  {
   "cell_type": "code",
   "execution_count": 8,
   "metadata": {},
   "outputs": [],
   "source": [
    "#Calculating Heuristic Z score for each record - Manhattan\n",
    "manhattan = train.abs()\n",
    "manhattan_score = manhattan.sum(axis = 1)\n",
    "#manhattan_score"
   ]
  },
  {
   "cell_type": "code",
   "execution_count": 9,
   "metadata": {},
   "outputs": [
    {
     "data": {
      "text/plain": [
       "(1070994,)"
      ]
     },
     "execution_count": 9,
     "metadata": {},
     "output_type": "execute_result"
    }
   ],
   "source": [
    "manhattan_score.shape"
   ]
  },
  {
   "cell_type": "code",
   "execution_count": 10,
   "metadata": {},
   "outputs": [
    {
     "data": {
      "text/plain": [
       "(1070994,)"
      ]
     },
     "execution_count": 10,
     "metadata": {},
     "output_type": "execute_result"
    }
   ],
   "source": [
    "#Calculating Heuristic Z score for each record - Euclidean\n",
    "euclidean = ((train.abs())**2).sum(axis=1)\n",
    "euclidean_score = euclidean**(1/2)\n",
    "euclidean_score.shape"
   ]
  },
  {
   "cell_type": "code",
   "execution_count": 11,
   "metadata": {},
   "outputs": [],
   "source": [
    "#Creating DF\n",
    "manhattan_score = pd.DataFrame(manhattan_score)\n",
    "euclidean_score = pd.DataFrame(euclidean_score)\n",
    "fraud_score_HU= pd.concat([manhattan_score,euclidean_score], axis=1)\n",
    "\n",
    "fraud_score_HU.columns=['Manhattan_Hu_Score','Euclidean_Hu_Score']"
   ]
  },
  {
   "cell_type": "code",
   "execution_count": 12,
   "metadata": {},
   "outputs": [],
   "source": [
    "fraud_score_HU.insert(0,'Record',fraud_score_HU.index+1)"
   ]
  },
  {
   "cell_type": "code",
   "execution_count": 13,
   "metadata": {},
   "outputs": [],
   "source": [
    "fraud_score_HU.columns=['Record','Manhattan_Hu_Score','Euclidean_Hu_Score']"
   ]
  },
  {
   "cell_type": "code",
   "execution_count": 14,
   "metadata": {},
   "outputs": [
    {
     "data": {
      "text/html": [
       "<div>\n",
       "<style scoped>\n",
       "    .dataframe tbody tr th:only-of-type {\n",
       "        vertical-align: middle;\n",
       "    }\n",
       "\n",
       "    .dataframe tbody tr th {\n",
       "        vertical-align: top;\n",
       "    }\n",
       "\n",
       "    .dataframe thead th {\n",
       "        text-align: right;\n",
       "    }\n",
       "</style>\n",
       "<table border=\"1\" class=\"dataframe\">\n",
       "  <thead>\n",
       "    <tr style=\"text-align: right;\">\n",
       "      <th></th>\n",
       "      <th>Record</th>\n",
       "      <th>Manhattan_Hu_Score</th>\n",
       "      <th>Euclidean_Hu_Score</th>\n",
       "    </tr>\n",
       "  </thead>\n",
       "  <tbody>\n",
       "    <tr>\n",
       "      <td>0</td>\n",
       "      <td>1</td>\n",
       "      <td>0.437133</td>\n",
       "      <td>0.180736</td>\n",
       "    </tr>\n",
       "    <tr>\n",
       "      <td>1</td>\n",
       "      <td>2</td>\n",
       "      <td>52.235506</td>\n",
       "      <td>23.200698</td>\n",
       "    </tr>\n",
       "    <tr>\n",
       "      <td>2</td>\n",
       "      <td>3</td>\n",
       "      <td>0.428782</td>\n",
       "      <td>0.185720</td>\n",
       "    </tr>\n",
       "    <tr>\n",
       "      <td>3</td>\n",
       "      <td>4</td>\n",
       "      <td>0.543465</td>\n",
       "      <td>0.214127</td>\n",
       "    </tr>\n",
       "    <tr>\n",
       "      <td>4</td>\n",
       "      <td>5</td>\n",
       "      <td>72.822482</td>\n",
       "      <td>31.750383</td>\n",
       "    </tr>\n",
       "  </tbody>\n",
       "</table>\n",
       "</div>"
      ],
      "text/plain": [
       "   Record  Manhattan_Hu_Score  Euclidean_Hu_Score\n",
       "0       1            0.437133            0.180736\n",
       "1       2           52.235506           23.200698\n",
       "2       3            0.428782            0.185720\n",
       "3       4            0.543465            0.214127\n",
       "4       5           72.822482           31.750383"
      ]
     },
     "execution_count": 14,
     "metadata": {},
     "output_type": "execute_result"
    }
   ],
   "source": [
    "fraud_score_HU.head()"
   ]
  },
  {
   "cell_type": "code",
   "execution_count": 15,
   "metadata": {},
   "outputs": [],
   "source": [
    "fraud_score_HU['Euclidean_Hu_Rank'] = fraud_score_HU['Euclidean_Hu_Score'].rank(ascending=1)\n",
    "fraud_score_HU['Manhattan_Hu_Rank'] = fraud_score_HU['Manhattan_Hu_Score'].rank(ascending=1)"
   ]
  },
  {
   "cell_type": "code",
   "execution_count": 16,
   "metadata": {},
   "outputs": [
    {
     "data": {
      "text/html": [
       "<div>\n",
       "<style scoped>\n",
       "    .dataframe tbody tr th:only-of-type {\n",
       "        vertical-align: middle;\n",
       "    }\n",
       "\n",
       "    .dataframe tbody tr th {\n",
       "        vertical-align: top;\n",
       "    }\n",
       "\n",
       "    .dataframe thead th {\n",
       "        text-align: right;\n",
       "    }\n",
       "</style>\n",
       "<table border=\"1\" class=\"dataframe\">\n",
       "  <thead>\n",
       "    <tr style=\"text-align: right;\">\n",
       "      <th></th>\n",
       "      <th>Record</th>\n",
       "      <th>Manhattan_Hu_Score</th>\n",
       "      <th>Euclidean_Hu_Score</th>\n",
       "      <th>Euclidean_Hu_Rank</th>\n",
       "      <th>Manhattan_Hu_Rank</th>\n",
       "    </tr>\n",
       "  </thead>\n",
       "  <tbody>\n",
       "    <tr>\n",
       "      <td>0</td>\n",
       "      <td>1</td>\n",
       "      <td>0.437133</td>\n",
       "      <td>0.180736</td>\n",
       "      <td>708335.0</td>\n",
       "      <td>718838.0</td>\n",
       "    </tr>\n",
       "    <tr>\n",
       "      <td>1</td>\n",
       "      <td>2</td>\n",
       "      <td>52.235506</td>\n",
       "      <td>23.200698</td>\n",
       "      <td>1070323.0</td>\n",
       "      <td>1070305.0</td>\n",
       "    </tr>\n",
       "    <tr>\n",
       "      <td>2</td>\n",
       "      <td>3</td>\n",
       "      <td>0.428782</td>\n",
       "      <td>0.185720</td>\n",
       "      <td>718343.0</td>\n",
       "      <td>712667.0</td>\n",
       "    </tr>\n",
       "    <tr>\n",
       "      <td>3</td>\n",
       "      <td>4</td>\n",
       "      <td>0.543465</td>\n",
       "      <td>0.214127</td>\n",
       "      <td>795351.0</td>\n",
       "      <td>834627.0</td>\n",
       "    </tr>\n",
       "    <tr>\n",
       "      <td>4</td>\n",
       "      <td>5</td>\n",
       "      <td>72.822482</td>\n",
       "      <td>31.750383</td>\n",
       "      <td>1070394.0</td>\n",
       "      <td>1070395.0</td>\n",
       "    </tr>\n",
       "  </tbody>\n",
       "</table>\n",
       "</div>"
      ],
      "text/plain": [
       "   Record  Manhattan_Hu_Score  Euclidean_Hu_Score  Euclidean_Hu_Rank  \\\n",
       "0       1            0.437133            0.180736           708335.0   \n",
       "1       2           52.235506           23.200698          1070323.0   \n",
       "2       3            0.428782            0.185720           718343.0   \n",
       "3       4            0.543465            0.214127           795351.0   \n",
       "4       5           72.822482           31.750383          1070394.0   \n",
       "\n",
       "   Manhattan_Hu_Rank  \n",
       "0           718838.0  \n",
       "1          1070305.0  \n",
       "2           712667.0  \n",
       "3           834627.0  \n",
       "4          1070395.0  "
      ]
     },
     "execution_count": 16,
     "metadata": {},
     "output_type": "execute_result"
    }
   ],
   "source": [
    "fraud_score_HU.head()"
   ]
  },
  {
   "cell_type": "code",
   "execution_count": 17,
   "metadata": {},
   "outputs": [],
   "source": [
    "fraud_score_HU.to_csv('fraud_ScoreAndRanks_HU.csv',index=False)"
   ]
  },
  {
   "cell_type": "markdown",
   "metadata": {},
   "source": [
    "## Plotting"
   ]
  },
  {
   "cell_type": "code",
   "execution_count": 18,
   "metadata": {},
   "outputs": [],
   "source": [
    "import seaborn as sns\n",
    "import matplotlib.pyplot as plt"
   ]
  },
  {
   "cell_type": "code",
   "execution_count": 19,
   "metadata": {},
   "outputs": [
    {
     "data": {
      "image/png": "[encoded data removed]",
      "text/plain": [
       "<Figure size 432x288 with 1 Axes>"
      ]
     },
     "metadata": {
      "needs_background": "light"
     },
     "output_type": "display_data"
    }
   ],
   "source": [
    "colName='Manhattan_Hu_Score'\n",
    "\n",
    "xhigh =1.25\n",
    "#sns.plt.xlim(0,xhigh)\n",
    "\n",
    "#temp = fraud_score_HU\n",
    "temp = fraud_score_HU[fraud_score_HU[colName] <= xhigh]\n",
    "\n",
    "\n",
    "sns.distplot(temp[colName],bins=10000, kde=True)\n",
    "plt.title('Distribution of :'+colName)\n",
    "#plt.xscale('log')\n",
    "plt.ylabel('Density of probability', fontsize=12)\n",
    "#plt.ylim((0.00, 25)) \n",
    "#plt.xlim((0.00, 25)) \n",
    "plt.xlabel(colName, fontsize=12)\n",
    "#plt.savefig(\"imgs/\"+colName+\".png\")\n",
    "plt.show()"
   ]
  },
  {
   "cell_type": "code",
   "execution_count": 20,
   "metadata": {},
   "outputs": [
    {
     "data": {
      "image/png": "[encoded data removed]",
      "text/plain": [
       "<Figure size 432x288 with 1 Axes>"
      ]
     },
     "metadata": {
      "needs_background": "light"
     },
     "output_type": "display_data"
    }
   ],
   "source": [
    "colName='Euclidean_Hu_Score'\n",
    "\n",
    "xhigh =1.25\n",
    "#sns.plt.xlim(0,xhigh)\n",
    "\n",
    "#temp = fraud_score_HU\n",
    "temp = fraud_score_HU[fraud_score_HU[colName] <= xhigh]\n",
    "\n",
    "\n",
    "sns.distplot(temp[colName],bins=10000, kde=True)\n",
    "plt.title('Distribution of :'+colName)\n",
    "#plt.xscale('log')\n",
    "plt.ylabel('Density of probability', fontsize=12)\n",
    "#plt.ylim((0.00, 25)) \n",
    "#plt.xlim((0.00, 25)) \n",
    "plt.xlabel(colName, fontsize=12)\n",
    "#plt.savefig(\"imgs/\"+colName+\".png\")\n",
    "plt.show()"
   ]
  },
  {
   "cell_type": "code",
   "execution_count": null,
   "metadata": {},
   "outputs": [],
   "source": []
  }
 ],
 "metadata": {
  "kernelspec": {
   "display_name": "Python 3",
   "language": "python",
   "name": "python3"
  },
  "language_info": {
   "codemirror_mode": {
    "name": "ipython",
    "version": 3
   },
   "file_extension": ".py",
   "mimetype": "text/x-python",
   "name": "python",
   "nbconvert_exporter": "python",
   "pygments_lexer": "ipython3",
   "version": "3.7.4"
  }
 },
 "nbformat": 4,
 "nbformat_minor": 2
}
